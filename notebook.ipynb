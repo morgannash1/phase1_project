{
 "cells": [
  {
   "cell_type": "markdown",
   "id": "247039b3-f785-4d01-a480-5aeefa9b9d67",
   "metadata": {},
   "source": [
    "# Business Understanding"
   ]
  },
  {
   "cell_type": "markdown",
   "id": "0f0e0db3-723f-4d83-b1a0-806209e29072",
   "metadata": {},
   "source": [
    "\"Notebook clearly explains the value for a specific stakeholder, including:\n",
    "- Introduction explains the real-world problem the project aims to solve:::::\n",
    "\n",
    "- -----This project aims to determine which planes would be best to look into first for indoor skydiving companies that plan to expand to offer real skydiving. We'll use an Aviation Accident Dataset to determine which planes would be the lowest risk for the company to start with for their expansion.\n",
    "        ---Danny Dives was originally an indoor sky-diving facility in Salt Lake City, Utah. It has become so popular, that it is expanding to offer real skydiving experiences. Danny Dives is interested in purchasing and operating airplanes, but do not yet know anything about the potential risks of aircraft.\n",
    "\n",
    "  ---You are charged with determining which aircraft are the lowest risk for the company to start this new business endeavor. You must then translate your findings into actionable insights that the head of the new aviation division can use to help decide which aircraft to purchase.\n",
    "  \n",
    "- Introduction identifies stakeholders who could use the project and how they would use it\n",
    "- Conclusion summarizes implications of the project for the real-world problem and stakeholders \""
   ]
  },
  {
   "cell_type": "markdown",
   "id": "8db3f566-6b0b-4a19-bd72-f3b211b7a2bb",
   "metadata": {},
   "source": [
    "# Data Understanding"
   ]
  },
  {
   "cell_type": "markdown",
   "id": "68f9b38c-1bac-4bda-933d-e8987bbcb8b1",
   "metadata": {},
   "source": [
    "\"Notebook clearly describes the data, including:\n",
    "- Describe the data sources and explain why the data are suitable for the project\n",
    "- Present the size of the dataset and descriptive statistics for all features used in the analysis\n",
    "- Justify the inclusion of features based on their properties and relevance for the project\n",
    "- Identify any limitations of the data that have implications for the project\"\n",
    "\n",
    "\n",
    "The data source used in this project is a data set from the National Transportation Safety Board with specifics about accidents in aviation from 1962 to 2023 in the US, in its territories and possessions, and in international waters.\n",
    "This project looks at determining recommendations based on safety, and this data set is a good option to use for this project as it contains many factual details of specific accidents in past flight accidents. \n",
    "\n",
    "The Aviation Dataset contains 90348 records of individual aviation accidents. There are 31 columns that break down each accident further; \"Purpose.of.flight\", \"Total.Fatal.Injuries\", and \"Weather.Condition\" are some examples.\n",
    "\n"
   ]
  },
  {
   "cell_type": "code",
   "execution_count": 1,
   "id": "7e03817e-8498-4b67-a0f2-824e143b850a",
   "metadata": {},
   "outputs": [
    {
     "name": "stderr",
     "output_type": "stream",
     "text": [
      "/opt/anaconda3/envs/learn-env/lib/python3.8/site-packages/IPython/core/interactiveshell.py:3145: DtypeWarning: Columns (6,7,28) have mixed types.Specify dtype option on import or set low_memory=False.\n",
      "  has_raised = await self.run_ast_nodes(code_ast.body, cell_name,\n"
     ]
    },
    {
     "data": {
      "text/html": [
       "<div>\n",
       "<style scoped>\n",
       "    .dataframe tbody tr th:only-of-type {\n",
       "        vertical-align: middle;\n",
       "    }\n",
       "\n",
       "    .dataframe tbody tr th {\n",
       "        vertical-align: top;\n",
       "    }\n",
       "\n",
       "    .dataframe thead th {\n",
       "        text-align: right;\n",
       "    }\n",
       "</style>\n",
       "<table border=\"1\" class=\"dataframe\">\n",
       "  <thead>\n",
       "    <tr style=\"text-align: right;\">\n",
       "      <th></th>\n",
       "      <th>Event.Id</th>\n",
       "      <th>Investigation.Type</th>\n",
       "      <th>Accident.Number</th>\n",
       "      <th>Event.Date</th>\n",
       "      <th>Location</th>\n",
       "      <th>Country</th>\n",
       "      <th>Latitude</th>\n",
       "      <th>Longitude</th>\n",
       "      <th>Airport.Code</th>\n",
       "      <th>Airport.Name</th>\n",
       "      <th>...</th>\n",
       "      <th>Purpose.of.flight</th>\n",
       "      <th>Air.carrier</th>\n",
       "      <th>Total.Fatal.Injuries</th>\n",
       "      <th>Total.Serious.Injuries</th>\n",
       "      <th>Total.Minor.Injuries</th>\n",
       "      <th>Total.Uninjured</th>\n",
       "      <th>Weather.Condition</th>\n",
       "      <th>Broad.phase.of.flight</th>\n",
       "      <th>Report.Status</th>\n",
       "      <th>Publication.Date</th>\n",
       "    </tr>\n",
       "  </thead>\n",
       "  <tbody>\n",
       "    <tr>\n",
       "      <th>0</th>\n",
       "      <td>20001218X45444</td>\n",
       "      <td>Accident</td>\n",
       "      <td>SEA87LA080</td>\n",
       "      <td>1948-10-24</td>\n",
       "      <td>MOOSE CREEK, ID</td>\n",
       "      <td>United States</td>\n",
       "      <td>NaN</td>\n",
       "      <td>NaN</td>\n",
       "      <td>NaN</td>\n",
       "      <td>NaN</td>\n",
       "      <td>...</td>\n",
       "      <td>Personal</td>\n",
       "      <td>NaN</td>\n",
       "      <td>2.0</td>\n",
       "      <td>0.0</td>\n",
       "      <td>0.0</td>\n",
       "      <td>0.0</td>\n",
       "      <td>UNK</td>\n",
       "      <td>Cruise</td>\n",
       "      <td>Probable Cause</td>\n",
       "      <td>NaN</td>\n",
       "    </tr>\n",
       "    <tr>\n",
       "      <th>1</th>\n",
       "      <td>20001218X45447</td>\n",
       "      <td>Accident</td>\n",
       "      <td>LAX94LA336</td>\n",
       "      <td>1962-07-19</td>\n",
       "      <td>BRIDGEPORT, CA</td>\n",
       "      <td>United States</td>\n",
       "      <td>NaN</td>\n",
       "      <td>NaN</td>\n",
       "      <td>NaN</td>\n",
       "      <td>NaN</td>\n",
       "      <td>...</td>\n",
       "      <td>Personal</td>\n",
       "      <td>NaN</td>\n",
       "      <td>4.0</td>\n",
       "      <td>0.0</td>\n",
       "      <td>0.0</td>\n",
       "      <td>0.0</td>\n",
       "      <td>UNK</td>\n",
       "      <td>Unknown</td>\n",
       "      <td>Probable Cause</td>\n",
       "      <td>19-09-1996</td>\n",
       "    </tr>\n",
       "    <tr>\n",
       "      <th>2</th>\n",
       "      <td>20061025X01555</td>\n",
       "      <td>Accident</td>\n",
       "      <td>NYC07LA005</td>\n",
       "      <td>1974-08-30</td>\n",
       "      <td>Saltville, VA</td>\n",
       "      <td>United States</td>\n",
       "      <td>36.9222</td>\n",
       "      <td>-81.8781</td>\n",
       "      <td>NaN</td>\n",
       "      <td>NaN</td>\n",
       "      <td>...</td>\n",
       "      <td>Personal</td>\n",
       "      <td>NaN</td>\n",
       "      <td>3.0</td>\n",
       "      <td>NaN</td>\n",
       "      <td>NaN</td>\n",
       "      <td>NaN</td>\n",
       "      <td>IMC</td>\n",
       "      <td>Cruise</td>\n",
       "      <td>Probable Cause</td>\n",
       "      <td>26-02-2007</td>\n",
       "    </tr>\n",
       "    <tr>\n",
       "      <th>3</th>\n",
       "      <td>20001218X45448</td>\n",
       "      <td>Accident</td>\n",
       "      <td>LAX96LA321</td>\n",
       "      <td>1977-06-19</td>\n",
       "      <td>EUREKA, CA</td>\n",
       "      <td>United States</td>\n",
       "      <td>NaN</td>\n",
       "      <td>NaN</td>\n",
       "      <td>NaN</td>\n",
       "      <td>NaN</td>\n",
       "      <td>...</td>\n",
       "      <td>Personal</td>\n",
       "      <td>NaN</td>\n",
       "      <td>2.0</td>\n",
       "      <td>0.0</td>\n",
       "      <td>0.0</td>\n",
       "      <td>0.0</td>\n",
       "      <td>IMC</td>\n",
       "      <td>Cruise</td>\n",
       "      <td>Probable Cause</td>\n",
       "      <td>12-09-2000</td>\n",
       "    </tr>\n",
       "    <tr>\n",
       "      <th>4</th>\n",
       "      <td>20041105X01764</td>\n",
       "      <td>Accident</td>\n",
       "      <td>CHI79FA064</td>\n",
       "      <td>1979-08-02</td>\n",
       "      <td>Canton, OH</td>\n",
       "      <td>United States</td>\n",
       "      <td>NaN</td>\n",
       "      <td>NaN</td>\n",
       "      <td>NaN</td>\n",
       "      <td>NaN</td>\n",
       "      <td>...</td>\n",
       "      <td>Personal</td>\n",
       "      <td>NaN</td>\n",
       "      <td>1.0</td>\n",
       "      <td>2.0</td>\n",
       "      <td>NaN</td>\n",
       "      <td>0.0</td>\n",
       "      <td>VMC</td>\n",
       "      <td>Approach</td>\n",
       "      <td>Probable Cause</td>\n",
       "      <td>16-04-1980</td>\n",
       "    </tr>\n",
       "  </tbody>\n",
       "</table>\n",
       "<p>5 rows × 31 columns</p>\n",
       "</div>"
      ],
      "text/plain": [
       "         Event.Id Investigation.Type Accident.Number  Event.Date  \\\n",
       "0  20001218X45444           Accident      SEA87LA080  1948-10-24   \n",
       "1  20001218X45447           Accident      LAX94LA336  1962-07-19   \n",
       "2  20061025X01555           Accident      NYC07LA005  1974-08-30   \n",
       "3  20001218X45448           Accident      LAX96LA321  1977-06-19   \n",
       "4  20041105X01764           Accident      CHI79FA064  1979-08-02   \n",
       "\n",
       "          Location        Country Latitude Longitude Airport.Code  \\\n",
       "0  MOOSE CREEK, ID  United States      NaN       NaN          NaN   \n",
       "1   BRIDGEPORT, CA  United States      NaN       NaN          NaN   \n",
       "2    Saltville, VA  United States  36.9222  -81.8781          NaN   \n",
       "3       EUREKA, CA  United States      NaN       NaN          NaN   \n",
       "4       Canton, OH  United States      NaN       NaN          NaN   \n",
       "\n",
       "  Airport.Name  ... Purpose.of.flight Air.carrier Total.Fatal.Injuries  \\\n",
       "0          NaN  ...          Personal         NaN                  2.0   \n",
       "1          NaN  ...          Personal         NaN                  4.0   \n",
       "2          NaN  ...          Personal         NaN                  3.0   \n",
       "3          NaN  ...          Personal         NaN                  2.0   \n",
       "4          NaN  ...          Personal         NaN                  1.0   \n",
       "\n",
       "  Total.Serious.Injuries Total.Minor.Injuries Total.Uninjured  \\\n",
       "0                    0.0                  0.0             0.0   \n",
       "1                    0.0                  0.0             0.0   \n",
       "2                    NaN                  NaN             NaN   \n",
       "3                    0.0                  0.0             0.0   \n",
       "4                    2.0                  NaN             0.0   \n",
       "\n",
       "  Weather.Condition  Broad.phase.of.flight   Report.Status Publication.Date  \n",
       "0               UNK                 Cruise  Probable Cause              NaN  \n",
       "1               UNK                Unknown  Probable Cause       19-09-1996  \n",
       "2               IMC                 Cruise  Probable Cause       26-02-2007  \n",
       "3               IMC                 Cruise  Probable Cause       12-09-2000  \n",
       "4               VMC               Approach  Probable Cause       16-04-1980  \n",
       "\n",
       "[5 rows x 31 columns]"
      ]
     },
     "execution_count": 1,
     "metadata": {},
     "output_type": "execute_result"
    }
   ],
   "source": [
    "import numpy as np\n",
    "import matplotlib.pyplot as plt\n",
    "import seaborn as sns\n",
    "import pandas as pd\n",
    "data = pd.read_csv('https://raw.githubusercontent.com/learn-co-curriculum/dsc-phase-1-project-v3/refs/heads/master/data/Aviation_Data.csv')\n",
    "data.head()"
   ]
  },
  {
   "cell_type": "code",
   "execution_count": 29,
   "id": "3a9be322-11c6-48c0-adf7-221e977e7cdf",
   "metadata": {},
   "outputs": [
    {
     "data": {
      "text/plain": [
       "(90348, 31)"
      ]
     },
     "execution_count": 29,
     "metadata": {},
     "output_type": "execute_result"
    }
   ],
   "source": [
    "data.shape"
   ]
  },
  {
   "cell_type": "code",
   "execution_count": 30,
   "id": "42661681-c7a3-4e5e-abd2-bf9aaefc2f41",
   "metadata": {},
   "outputs": [
    {
     "name": "stdout",
     "output_type": "stream",
     "text": [
      "<class 'pandas.core.frame.DataFrame'>\n",
      "RangeIndex: 90348 entries, 0 to 90347\n",
      "Data columns (total 31 columns):\n",
      " #   Column                  Non-Null Count  Dtype  \n",
      "---  ------                  --------------  -----  \n",
      " 0   Event.Id                88889 non-null  object \n",
      " 1   Investigation.Type      90348 non-null  object \n",
      " 2   Accident.Number         88889 non-null  object \n",
      " 3   Event.Date              88889 non-null  object \n",
      " 4   Location                88837 non-null  object \n",
      " 5   Country                 88663 non-null  object \n",
      " 6   Latitude                34382 non-null  object \n",
      " 7   Longitude               34373 non-null  object \n",
      " 8   Airport.Code            50249 non-null  object \n",
      " 9   Airport.Name            52790 non-null  object \n",
      " 10  Injury.Severity         87889 non-null  object \n",
      " 11  Aircraft.damage         85695 non-null  object \n",
      " 12  Aircraft.Category       32287 non-null  object \n",
      " 13  Registration.Number     87572 non-null  object \n",
      " 14  Make                    88826 non-null  object \n",
      " 15  Model                   88797 non-null  object \n",
      " 16  Amateur.Built           88787 non-null  object \n",
      " 17  Number.of.Engines       82805 non-null  float64\n",
      " 18  Engine.Type             81812 non-null  object \n",
      " 19  FAR.Description         32023 non-null  object \n",
      " 20  Schedule                12582 non-null  object \n",
      " 21  Purpose.of.flight       82697 non-null  object \n",
      " 22  Air.carrier             16648 non-null  object \n",
      " 23  Total.Fatal.Injuries    77488 non-null  float64\n",
      " 24  Total.Serious.Injuries  76379 non-null  float64\n",
      " 25  Total.Minor.Injuries    76956 non-null  float64\n",
      " 26  Total.Uninjured         82977 non-null  float64\n",
      " 27  Weather.Condition       84397 non-null  object \n",
      " 28  Broad.phase.of.flight   61724 non-null  object \n",
      " 29  Report.Status           82508 non-null  object \n",
      " 30  Publication.Date        73659 non-null  object \n",
      "dtypes: float64(5), object(26)\n",
      "memory usage: 21.4+ MB\n"
     ]
    }
   ],
   "source": [
    "data.info()"
   ]
  },
  {
   "cell_type": "code",
   "execution_count": 31,
   "id": "6c7de332-6557-4263-8bb3-825a1f766c6a",
   "metadata": {},
   "outputs": [
    {
     "data": {
      "text/plain": [
       "Personal                     49448\n",
       "Instructional                10601\n",
       "Unknown                       6802\n",
       "Aerial Application            4712\n",
       "Business                      4018\n",
       "Positioning                   1646\n",
       "Other Work Use                1264\n",
       "Ferry                          812\n",
       "Aerial Observation             794\n",
       "Public Aircraft                720\n",
       "Executive/corporate            553\n",
       "Flight Test                    405\n",
       "Skydiving                      182\n",
       "External Load                  123\n",
       "Public Aircraft - Federal      105\n",
       "Banner Tow                     101\n",
       "Air Race show                   99\n",
       "Public Aircraft - Local         74\n",
       "Public Aircraft - State         64\n",
       "Air Race/show                   59\n",
       "Glider Tow                      53\n",
       "Firefighting                    40\n",
       "Air Drop                        11\n",
       "ASHO                             6\n",
       "PUBS                             4\n",
       "PUBL                             1\n",
       "Name: Purpose.of.flight, dtype: int64"
      ]
     },
     "execution_count": 31,
     "metadata": {},
     "output_type": "execute_result"
    }
   ],
   "source": [
    "data[\"Purpose.of.flight\"].value_counts()"
   ]
  },
  {
   "cell_type": "code",
   "execution_count": null,
   "id": "58ea8ab6-9093-4080-9beb-26414a7b3623",
   "metadata": {},
   "outputs": [],
   "source": []
  },
  {
   "cell_type": "code",
   "execution_count": null,
   "id": "5516af0f-5a6f-4b5f-ba44-831060f9756e",
   "metadata": {},
   "outputs": [],
   "source": []
  },
  {
   "cell_type": "code",
   "execution_count": null,
   "id": "dc01c46e-7cd5-4cec-87b6-62e61cb6746d",
   "metadata": {},
   "outputs": [],
   "source": []
  },
  {
   "cell_type": "code",
   "execution_count": null,
   "id": "b76aba8d-8b0e-4762-a89b-fd03b6174236",
   "metadata": {},
   "outputs": [],
   "source": []
  },
  {
   "cell_type": "markdown",
   "id": "08c3bccf-1243-41d1-a1b9-5fc921f7c6ab",
   "metadata": {},
   "source": [
    "## Data Preparation"
   ]
  },
  {
   "cell_type": "markdown",
   "id": "a7115ec6-93e1-4f53-a6dd-6d152dd64eea",
   "metadata": {},
   "source": [
    "\"Notebook shows how and why you prepared your data, including:\n",
    "- Instructions or code needed to get and prepare the raw data for analysis\n",
    "- Code comments and text to explain what your data preparation code does\n",
    "- Valid justifications for why the steps you took are appropriate for the problem you are solving\""
   ]
  },
  {
   "cell_type": "markdown",
   "id": "bcd53e37-bed3-4d73-815c-4db8c5501827",
   "metadata": {},
   "source": []
  },
  {
   "cell_type": "code",
   "execution_count": null,
   "id": "8cd51c41-f2de-4b17-9250-a417e45d0995",
   "metadata": {},
   "outputs": [],
   "source": []
  },
  {
   "cell_type": "code",
   "execution_count": 32,
   "id": "e872d31b-4231-4678-9da8-358252ee7d3f",
   "metadata": {},
   "outputs": [
    {
     "data": {
      "text/html": [
       "<div>\n",
       "<style scoped>\n",
       "    .dataframe tbody tr th:only-of-type {\n",
       "        vertical-align: middle;\n",
       "    }\n",
       "\n",
       "    .dataframe tbody tr th {\n",
       "        vertical-align: top;\n",
       "    }\n",
       "\n",
       "    .dataframe thead th {\n",
       "        text-align: right;\n",
       "    }\n",
       "</style>\n",
       "<table border=\"1\" class=\"dataframe\">\n",
       "  <thead>\n",
       "    <tr style=\"text-align: right;\">\n",
       "      <th></th>\n",
       "      <th>Event.Id</th>\n",
       "      <th>Investigation.Type</th>\n",
       "      <th>Accident.Number</th>\n",
       "      <th>Event.Date</th>\n",
       "      <th>Location</th>\n",
       "      <th>Country</th>\n",
       "      <th>Latitude</th>\n",
       "      <th>Longitude</th>\n",
       "      <th>Airport.Code</th>\n",
       "      <th>Airport.Name</th>\n",
       "      <th>...</th>\n",
       "      <th>Purpose.of.flight</th>\n",
       "      <th>Air.carrier</th>\n",
       "      <th>Total.Fatal.Injuries</th>\n",
       "      <th>Total.Serious.Injuries</th>\n",
       "      <th>Total.Minor.Injuries</th>\n",
       "      <th>Total.Uninjured</th>\n",
       "      <th>Weather.Condition</th>\n",
       "      <th>Broad.phase.of.flight</th>\n",
       "      <th>Report.Status</th>\n",
       "      <th>Publication.Date</th>\n",
       "    </tr>\n",
       "  </thead>\n",
       "  <tbody>\n",
       "    <tr>\n",
       "      <th>2099</th>\n",
       "      <td>20020917X02847</td>\n",
       "      <td>Accident</td>\n",
       "      <td>ATL82FA212</td>\n",
       "      <td>1982-07-25</td>\n",
       "      <td>LOUISBURG, NC</td>\n",
       "      <td>United States</td>\n",
       "      <td>NaN</td>\n",
       "      <td>NaN</td>\n",
       "      <td>LFN</td>\n",
       "      <td>FRANKLIN COUNTY</td>\n",
       "      <td>...</td>\n",
       "      <td>Skydiving</td>\n",
       "      <td>NaN</td>\n",
       "      <td>4.0</td>\n",
       "      <td>1.0</td>\n",
       "      <td>NaN</td>\n",
       "      <td>NaN</td>\n",
       "      <td>VMC</td>\n",
       "      <td>Takeoff</td>\n",
       "      <td>Probable Cause</td>\n",
       "      <td>17-10-2016</td>\n",
       "    </tr>\n",
       "    <tr>\n",
       "      <th>3066</th>\n",
       "      <td>20020917X04782</td>\n",
       "      <td>Accident</td>\n",
       "      <td>LAX83FA012</td>\n",
       "      <td>1982-10-17</td>\n",
       "      <td>TAFT, CA</td>\n",
       "      <td>United States</td>\n",
       "      <td>NaN</td>\n",
       "      <td>NaN</td>\n",
       "      <td>NaN</td>\n",
       "      <td>PRIVATE AIRPORT</td>\n",
       "      <td>...</td>\n",
       "      <td>Skydiving</td>\n",
       "      <td>NaN</td>\n",
       "      <td>14.0</td>\n",
       "      <td>NaN</td>\n",
       "      <td>NaN</td>\n",
       "      <td>NaN</td>\n",
       "      <td>VMC</td>\n",
       "      <td>Takeoff</td>\n",
       "      <td>Probable Cause</td>\n",
       "      <td>17-10-2016</td>\n",
       "    </tr>\n",
       "    <tr>\n",
       "      <th>4285</th>\n",
       "      <td>20001214X42672</td>\n",
       "      <td>Accident</td>\n",
       "      <td>FTW83LA177</td>\n",
       "      <td>1983-04-02</td>\n",
       "      <td>MCKINNEY, TX</td>\n",
       "      <td>United States</td>\n",
       "      <td>NaN</td>\n",
       "      <td>NaN</td>\n",
       "      <td>TX05</td>\n",
       "      <td>AERO COUNTRY</td>\n",
       "      <td>...</td>\n",
       "      <td>Skydiving</td>\n",
       "      <td>NaN</td>\n",
       "      <td>1.0</td>\n",
       "      <td>NaN</td>\n",
       "      <td>NaN</td>\n",
       "      <td>4.0</td>\n",
       "      <td>VMC</td>\n",
       "      <td>Standing</td>\n",
       "      <td>Probable Cause</td>\n",
       "      <td>17-10-2016</td>\n",
       "    </tr>\n",
       "    <tr>\n",
       "      <th>5960</th>\n",
       "      <td>20001214X44100</td>\n",
       "      <td>Accident</td>\n",
       "      <td>DCA83AA036</td>\n",
       "      <td>1983-08-21</td>\n",
       "      <td>SILVANA, WA</td>\n",
       "      <td>United States</td>\n",
       "      <td>NaN</td>\n",
       "      <td>NaN</td>\n",
       "      <td>S88</td>\n",
       "      <td>NaN</td>\n",
       "      <td>...</td>\n",
       "      <td>Skydiving</td>\n",
       "      <td>NaN</td>\n",
       "      <td>11.0</td>\n",
       "      <td>2.0</td>\n",
       "      <td>NaN</td>\n",
       "      <td>13.0</td>\n",
       "      <td>VMC</td>\n",
       "      <td>Other</td>\n",
       "      <td>Probable Cause</td>\n",
       "      <td>17-10-2016</td>\n",
       "    </tr>\n",
       "    <tr>\n",
       "      <th>10605</th>\n",
       "      <td>20001214X41706</td>\n",
       "      <td>Accident</td>\n",
       "      <td>ATL85FA072</td>\n",
       "      <td>1984-12-30</td>\n",
       "      <td>DUBLIN, VA</td>\n",
       "      <td>United States</td>\n",
       "      <td>NaN</td>\n",
       "      <td>NaN</td>\n",
       "      <td>PSK</td>\n",
       "      <td>NEW RIVER VALLEY</td>\n",
       "      <td>...</td>\n",
       "      <td>Skydiving</td>\n",
       "      <td>NaN</td>\n",
       "      <td>1.0</td>\n",
       "      <td>NaN</td>\n",
       "      <td>NaN</td>\n",
       "      <td>NaN</td>\n",
       "      <td>VMC</td>\n",
       "      <td>Maneuvering</td>\n",
       "      <td>Probable Cause</td>\n",
       "      <td>17-10-2016</td>\n",
       "    </tr>\n",
       "  </tbody>\n",
       "</table>\n",
       "<p>5 rows × 31 columns</p>\n",
       "</div>"
      ],
      "text/plain": [
       "             Event.Id Investigation.Type Accident.Number  Event.Date  \\\n",
       "2099   20020917X02847           Accident      ATL82FA212  1982-07-25   \n",
       "3066   20020917X04782           Accident      LAX83FA012  1982-10-17   \n",
       "4285   20001214X42672           Accident      FTW83LA177  1983-04-02   \n",
       "5960   20001214X44100           Accident      DCA83AA036  1983-08-21   \n",
       "10605  20001214X41706           Accident      ATL85FA072  1984-12-30   \n",
       "\n",
       "            Location        Country Latitude Longitude Airport.Code  \\\n",
       "2099   LOUISBURG, NC  United States      NaN       NaN          LFN   \n",
       "3066        TAFT, CA  United States      NaN       NaN          NaN   \n",
       "4285    MCKINNEY, TX  United States      NaN       NaN         TX05   \n",
       "5960     SILVANA, WA  United States      NaN       NaN          S88   \n",
       "10605     DUBLIN, VA  United States      NaN       NaN          PSK   \n",
       "\n",
       "           Airport.Name  ... Purpose.of.flight Air.carrier  \\\n",
       "2099    FRANKLIN COUNTY  ...         Skydiving         NaN   \n",
       "3066    PRIVATE AIRPORT  ...         Skydiving         NaN   \n",
       "4285       AERO COUNTRY  ...         Skydiving         NaN   \n",
       "5960                NaN  ...         Skydiving         NaN   \n",
       "10605  NEW RIVER VALLEY  ...         Skydiving         NaN   \n",
       "\n",
       "      Total.Fatal.Injuries Total.Serious.Injuries Total.Minor.Injuries  \\\n",
       "2099                   4.0                    1.0                  NaN   \n",
       "3066                  14.0                    NaN                  NaN   \n",
       "4285                   1.0                    NaN                  NaN   \n",
       "5960                  11.0                    2.0                  NaN   \n",
       "10605                  1.0                    NaN                  NaN   \n",
       "\n",
       "      Total.Uninjured Weather.Condition  Broad.phase.of.flight  \\\n",
       "2099              NaN               VMC                Takeoff   \n",
       "3066              NaN               VMC                Takeoff   \n",
       "4285              4.0               VMC               Standing   \n",
       "5960             13.0               VMC                  Other   \n",
       "10605             NaN               VMC            Maneuvering   \n",
       "\n",
       "        Report.Status Publication.Date  \n",
       "2099   Probable Cause       17-10-2016  \n",
       "3066   Probable Cause       17-10-2016  \n",
       "4285   Probable Cause       17-10-2016  \n",
       "5960   Probable Cause       17-10-2016  \n",
       "10605  Probable Cause       17-10-2016  \n",
       "\n",
       "[5 rows x 31 columns]"
      ]
     },
     "execution_count": 32,
     "metadata": {},
     "output_type": "execute_result"
    }
   ],
   "source": [
    "# Start cleaning dataset. First, drop entries where the flight purpose is not skydiving.\n",
    "skydiving = data[data['Purpose.of.flight'] == 'Skydiving']\n",
    "skydiving.head()"
   ]
  },
  {
   "cell_type": "code",
   "execution_count": 33,
   "id": "55f5c366-ee8a-4a92-a973-b1c3eb3736d0",
   "metadata": {},
   "outputs": [],
   "source": [
    "#reset the index\n",
    "skydiving.reset_index(drop= True, inplace=True)"
   ]
  },
  {
   "cell_type": "code",
   "execution_count": 34,
   "id": "1ea9e19d-725e-4dcd-a58c-344f3cacf380",
   "metadata": {},
   "outputs": [
    {
     "data": {
      "text/html": [
       "<div>\n",
       "<style scoped>\n",
       "    .dataframe tbody tr th:only-of-type {\n",
       "        vertical-align: middle;\n",
       "    }\n",
       "\n",
       "    .dataframe tbody tr th {\n",
       "        vertical-align: top;\n",
       "    }\n",
       "\n",
       "    .dataframe thead th {\n",
       "        text-align: right;\n",
       "    }\n",
       "</style>\n",
       "<table border=\"1\" class=\"dataframe\">\n",
       "  <thead>\n",
       "    <tr style=\"text-align: right;\">\n",
       "      <th></th>\n",
       "      <th>Event.Id</th>\n",
       "      <th>Investigation.Type</th>\n",
       "      <th>Accident.Number</th>\n",
       "      <th>Event.Date</th>\n",
       "      <th>Location</th>\n",
       "      <th>Country</th>\n",
       "      <th>Latitude</th>\n",
       "      <th>Longitude</th>\n",
       "      <th>Airport.Code</th>\n",
       "      <th>Airport.Name</th>\n",
       "      <th>...</th>\n",
       "      <th>Purpose.of.flight</th>\n",
       "      <th>Air.carrier</th>\n",
       "      <th>Total.Fatal.Injuries</th>\n",
       "      <th>Total.Serious.Injuries</th>\n",
       "      <th>Total.Minor.Injuries</th>\n",
       "      <th>Total.Uninjured</th>\n",
       "      <th>Weather.Condition</th>\n",
       "      <th>Broad.phase.of.flight</th>\n",
       "      <th>Report.Status</th>\n",
       "      <th>Publication.Date</th>\n",
       "    </tr>\n",
       "  </thead>\n",
       "  <tbody>\n",
       "    <tr>\n",
       "      <th>0</th>\n",
       "      <td>20020917X02847</td>\n",
       "      <td>Accident</td>\n",
       "      <td>ATL82FA212</td>\n",
       "      <td>1982-07-25</td>\n",
       "      <td>LOUISBURG, NC</td>\n",
       "      <td>United States</td>\n",
       "      <td>NaN</td>\n",
       "      <td>NaN</td>\n",
       "      <td>LFN</td>\n",
       "      <td>FRANKLIN COUNTY</td>\n",
       "      <td>...</td>\n",
       "      <td>Skydiving</td>\n",
       "      <td>NaN</td>\n",
       "      <td>4.0</td>\n",
       "      <td>1.0</td>\n",
       "      <td>NaN</td>\n",
       "      <td>NaN</td>\n",
       "      <td>VMC</td>\n",
       "      <td>Takeoff</td>\n",
       "      <td>Probable Cause</td>\n",
       "      <td>17-10-2016</td>\n",
       "    </tr>\n",
       "    <tr>\n",
       "      <th>1</th>\n",
       "      <td>20020917X04782</td>\n",
       "      <td>Accident</td>\n",
       "      <td>LAX83FA012</td>\n",
       "      <td>1982-10-17</td>\n",
       "      <td>TAFT, CA</td>\n",
       "      <td>United States</td>\n",
       "      <td>NaN</td>\n",
       "      <td>NaN</td>\n",
       "      <td>NaN</td>\n",
       "      <td>PRIVATE AIRPORT</td>\n",
       "      <td>...</td>\n",
       "      <td>Skydiving</td>\n",
       "      <td>NaN</td>\n",
       "      <td>14.0</td>\n",
       "      <td>NaN</td>\n",
       "      <td>NaN</td>\n",
       "      <td>NaN</td>\n",
       "      <td>VMC</td>\n",
       "      <td>Takeoff</td>\n",
       "      <td>Probable Cause</td>\n",
       "      <td>17-10-2016</td>\n",
       "    </tr>\n",
       "    <tr>\n",
       "      <th>2</th>\n",
       "      <td>20001214X42672</td>\n",
       "      <td>Accident</td>\n",
       "      <td>FTW83LA177</td>\n",
       "      <td>1983-04-02</td>\n",
       "      <td>MCKINNEY, TX</td>\n",
       "      <td>United States</td>\n",
       "      <td>NaN</td>\n",
       "      <td>NaN</td>\n",
       "      <td>TX05</td>\n",
       "      <td>AERO COUNTRY</td>\n",
       "      <td>...</td>\n",
       "      <td>Skydiving</td>\n",
       "      <td>NaN</td>\n",
       "      <td>1.0</td>\n",
       "      <td>NaN</td>\n",
       "      <td>NaN</td>\n",
       "      <td>4.0</td>\n",
       "      <td>VMC</td>\n",
       "      <td>Standing</td>\n",
       "      <td>Probable Cause</td>\n",
       "      <td>17-10-2016</td>\n",
       "    </tr>\n",
       "    <tr>\n",
       "      <th>3</th>\n",
       "      <td>20001214X44100</td>\n",
       "      <td>Accident</td>\n",
       "      <td>DCA83AA036</td>\n",
       "      <td>1983-08-21</td>\n",
       "      <td>SILVANA, WA</td>\n",
       "      <td>United States</td>\n",
       "      <td>NaN</td>\n",
       "      <td>NaN</td>\n",
       "      <td>S88</td>\n",
       "      <td>NaN</td>\n",
       "      <td>...</td>\n",
       "      <td>Skydiving</td>\n",
       "      <td>NaN</td>\n",
       "      <td>11.0</td>\n",
       "      <td>2.0</td>\n",
       "      <td>NaN</td>\n",
       "      <td>13.0</td>\n",
       "      <td>VMC</td>\n",
       "      <td>Other</td>\n",
       "      <td>Probable Cause</td>\n",
       "      <td>17-10-2016</td>\n",
       "    </tr>\n",
       "    <tr>\n",
       "      <th>4</th>\n",
       "      <td>20001214X41706</td>\n",
       "      <td>Accident</td>\n",
       "      <td>ATL85FA072</td>\n",
       "      <td>1984-12-30</td>\n",
       "      <td>DUBLIN, VA</td>\n",
       "      <td>United States</td>\n",
       "      <td>NaN</td>\n",
       "      <td>NaN</td>\n",
       "      <td>PSK</td>\n",
       "      <td>NEW RIVER VALLEY</td>\n",
       "      <td>...</td>\n",
       "      <td>Skydiving</td>\n",
       "      <td>NaN</td>\n",
       "      <td>1.0</td>\n",
       "      <td>NaN</td>\n",
       "      <td>NaN</td>\n",
       "      <td>NaN</td>\n",
       "      <td>VMC</td>\n",
       "      <td>Maneuvering</td>\n",
       "      <td>Probable Cause</td>\n",
       "      <td>17-10-2016</td>\n",
       "    </tr>\n",
       "  </tbody>\n",
       "</table>\n",
       "<p>5 rows × 31 columns</p>\n",
       "</div>"
      ],
      "text/plain": [
       "         Event.Id Investigation.Type Accident.Number  Event.Date  \\\n",
       "0  20020917X02847           Accident      ATL82FA212  1982-07-25   \n",
       "1  20020917X04782           Accident      LAX83FA012  1982-10-17   \n",
       "2  20001214X42672           Accident      FTW83LA177  1983-04-02   \n",
       "3  20001214X44100           Accident      DCA83AA036  1983-08-21   \n",
       "4  20001214X41706           Accident      ATL85FA072  1984-12-30   \n",
       "\n",
       "        Location        Country Latitude Longitude Airport.Code  \\\n",
       "0  LOUISBURG, NC  United States      NaN       NaN          LFN   \n",
       "1       TAFT, CA  United States      NaN       NaN          NaN   \n",
       "2   MCKINNEY, TX  United States      NaN       NaN         TX05   \n",
       "3    SILVANA, WA  United States      NaN       NaN          S88   \n",
       "4     DUBLIN, VA  United States      NaN       NaN          PSK   \n",
       "\n",
       "       Airport.Name  ... Purpose.of.flight Air.carrier Total.Fatal.Injuries  \\\n",
       "0   FRANKLIN COUNTY  ...         Skydiving         NaN                  4.0   \n",
       "1   PRIVATE AIRPORT  ...         Skydiving         NaN                 14.0   \n",
       "2      AERO COUNTRY  ...         Skydiving         NaN                  1.0   \n",
       "3               NaN  ...         Skydiving         NaN                 11.0   \n",
       "4  NEW RIVER VALLEY  ...         Skydiving         NaN                  1.0   \n",
       "\n",
       "  Total.Serious.Injuries Total.Minor.Injuries Total.Uninjured  \\\n",
       "0                    1.0                  NaN             NaN   \n",
       "1                    NaN                  NaN             NaN   \n",
       "2                    NaN                  NaN             4.0   \n",
       "3                    2.0                  NaN            13.0   \n",
       "4                    NaN                  NaN             NaN   \n",
       "\n",
       "  Weather.Condition  Broad.phase.of.flight   Report.Status Publication.Date  \n",
       "0               VMC                Takeoff  Probable Cause       17-10-2016  \n",
       "1               VMC                Takeoff  Probable Cause       17-10-2016  \n",
       "2               VMC               Standing  Probable Cause       17-10-2016  \n",
       "3               VMC                  Other  Probable Cause       17-10-2016  \n",
       "4               VMC            Maneuvering  Probable Cause       17-10-2016  \n",
       "\n",
       "[5 rows x 31 columns]"
      ]
     },
     "execution_count": 34,
     "metadata": {},
     "output_type": "execute_result"
    }
   ],
   "source": [
    "skydiving.head()\n"
   ]
  },
  {
   "cell_type": "code",
   "execution_count": 35,
   "id": "0e87754f-3c00-449c-92e2-2dfa82558345",
   "metadata": {},
   "outputs": [
    {
     "data": {
      "text/html": [
       "<div>\n",
       "<style scoped>\n",
       "    .dataframe tbody tr th:only-of-type {\n",
       "        vertical-align: middle;\n",
       "    }\n",
       "\n",
       "    .dataframe tbody tr th {\n",
       "        vertical-align: top;\n",
       "    }\n",
       "\n",
       "    .dataframe thead th {\n",
       "        text-align: right;\n",
       "    }\n",
       "</style>\n",
       "<table border=\"1\" class=\"dataframe\">\n",
       "  <thead>\n",
       "    <tr style=\"text-align: right;\">\n",
       "      <th></th>\n",
       "      <th>Event.Date</th>\n",
       "      <th>Location</th>\n",
       "      <th>Injury.Severity</th>\n",
       "      <th>Aircraft.damage</th>\n",
       "      <th>Make</th>\n",
       "      <th>Model</th>\n",
       "      <th>Number.of.Engines</th>\n",
       "      <th>Engine.Type</th>\n",
       "      <th>Total.Fatal.Injuries</th>\n",
       "      <th>Total.Serious.Injuries</th>\n",
       "      <th>Total.Minor.Injuries</th>\n",
       "      <th>Total.Uninjured</th>\n",
       "      <th>Weather.Condition</th>\n",
       "      <th>Broad.phase.of.flight</th>\n",
       "      <th>Report.Status</th>\n",
       "    </tr>\n",
       "  </thead>\n",
       "  <tbody>\n",
       "    <tr>\n",
       "      <th>0</th>\n",
       "      <td>1982-07-25</td>\n",
       "      <td>LOUISBURG, NC</td>\n",
       "      <td>Fatal(4)</td>\n",
       "      <td>Destroyed</td>\n",
       "      <td>Cessna</td>\n",
       "      <td>182A</td>\n",
       "      <td>1.0</td>\n",
       "      <td>Reciprocating</td>\n",
       "      <td>4.0</td>\n",
       "      <td>1.0</td>\n",
       "      <td>NaN</td>\n",
       "      <td>NaN</td>\n",
       "      <td>VMC</td>\n",
       "      <td>Takeoff</td>\n",
       "      <td>Probable Cause</td>\n",
       "    </tr>\n",
       "    <tr>\n",
       "      <th>1</th>\n",
       "      <td>1982-10-17</td>\n",
       "      <td>TAFT, CA</td>\n",
       "      <td>Fatal(14)</td>\n",
       "      <td>Destroyed</td>\n",
       "      <td>Beech</td>\n",
       "      <td>C-45H</td>\n",
       "      <td>2.0</td>\n",
       "      <td>Reciprocating</td>\n",
       "      <td>14.0</td>\n",
       "      <td>NaN</td>\n",
       "      <td>NaN</td>\n",
       "      <td>NaN</td>\n",
       "      <td>VMC</td>\n",
       "      <td>Takeoff</td>\n",
       "      <td>Probable Cause</td>\n",
       "    </tr>\n",
       "    <tr>\n",
       "      <th>2</th>\n",
       "      <td>1983-04-02</td>\n",
       "      <td>MCKINNEY, TX</td>\n",
       "      <td>Fatal(1)</td>\n",
       "      <td>NaN</td>\n",
       "      <td>De Havilland</td>\n",
       "      <td>DHC-6</td>\n",
       "      <td>2.0</td>\n",
       "      <td>Turbo Prop</td>\n",
       "      <td>1.0</td>\n",
       "      <td>NaN</td>\n",
       "      <td>NaN</td>\n",
       "      <td>4.0</td>\n",
       "      <td>VMC</td>\n",
       "      <td>Standing</td>\n",
       "      <td>Probable Cause</td>\n",
       "    </tr>\n",
       "    <tr>\n",
       "      <th>3</th>\n",
       "      <td>1983-08-21</td>\n",
       "      <td>SILVANA, WA</td>\n",
       "      <td>Fatal(11)</td>\n",
       "      <td>Destroyed</td>\n",
       "      <td>Lockheed</td>\n",
       "      <td>LEARSTAR, L-18-56</td>\n",
       "      <td>2.0</td>\n",
       "      <td>Reciprocating</td>\n",
       "      <td>11.0</td>\n",
       "      <td>2.0</td>\n",
       "      <td>NaN</td>\n",
       "      <td>13.0</td>\n",
       "      <td>VMC</td>\n",
       "      <td>Other</td>\n",
       "      <td>Probable Cause</td>\n",
       "    </tr>\n",
       "    <tr>\n",
       "      <th>4</th>\n",
       "      <td>1984-12-30</td>\n",
       "      <td>DUBLIN, VA</td>\n",
       "      <td>Fatal(1)</td>\n",
       "      <td>Destroyed</td>\n",
       "      <td>Cessna</td>\n",
       "      <td>182A</td>\n",
       "      <td>1.0</td>\n",
       "      <td>Reciprocating</td>\n",
       "      <td>1.0</td>\n",
       "      <td>NaN</td>\n",
       "      <td>NaN</td>\n",
       "      <td>NaN</td>\n",
       "      <td>VMC</td>\n",
       "      <td>Maneuvering</td>\n",
       "      <td>Probable Cause</td>\n",
       "    </tr>\n",
       "  </tbody>\n",
       "</table>\n",
       "</div>"
      ],
      "text/plain": [
       "   Event.Date       Location Injury.Severity Aircraft.damage          Make  \\\n",
       "0  1982-07-25  LOUISBURG, NC        Fatal(4)       Destroyed        Cessna   \n",
       "1  1982-10-17       TAFT, CA       Fatal(14)       Destroyed         Beech   \n",
       "2  1983-04-02   MCKINNEY, TX        Fatal(1)             NaN  De Havilland   \n",
       "3  1983-08-21    SILVANA, WA       Fatal(11)       Destroyed      Lockheed   \n",
       "4  1984-12-30     DUBLIN, VA        Fatal(1)       Destroyed        Cessna   \n",
       "\n",
       "               Model  Number.of.Engines    Engine.Type  Total.Fatal.Injuries  \\\n",
       "0               182A                1.0  Reciprocating                   4.0   \n",
       "1              C-45H                2.0  Reciprocating                  14.0   \n",
       "2              DHC-6                2.0     Turbo Prop                   1.0   \n",
       "3  LEARSTAR, L-18-56                2.0  Reciprocating                  11.0   \n",
       "4               182A                1.0  Reciprocating                   1.0   \n",
       "\n",
       "   Total.Serious.Injuries  Total.Minor.Injuries  Total.Uninjured  \\\n",
       "0                     1.0                   NaN              NaN   \n",
       "1                     NaN                   NaN              NaN   \n",
       "2                     NaN                   NaN              4.0   \n",
       "3                     2.0                   NaN             13.0   \n",
       "4                     NaN                   NaN              NaN   \n",
       "\n",
       "  Weather.Condition Broad.phase.of.flight   Report.Status  \n",
       "0               VMC               Takeoff  Probable Cause  \n",
       "1               VMC               Takeoff  Probable Cause  \n",
       "2               VMC              Standing  Probable Cause  \n",
       "3               VMC                 Other  Probable Cause  \n",
       "4               VMC           Maneuvering  Probable Cause  "
      ]
     },
     "execution_count": 35,
     "metadata": {},
     "output_type": "execute_result"
    }
   ],
   "source": [
    "# Deal with missing data. Start by dropping columns that aren't needed. We want to keep columns about injuries, event date, location, damage, and aircraft make and model. \n",
    "# \"Schedule\" column only has 2 non-null values, so we'll drop it.\n",
    "# We'll drop \"Investigation.Type\" as it contains values \"accident\" and \"incident\". We will treat the df with perspective that every entry is an accident.\n",
    "skydiving = skydiving.drop(['Event.Id', 'Purpose.of.flight', 'FAR.Description','Publication.Date', 'Aircraft.Category', 'Amateur.Built', 'Registration.Number', 'Accident.Number', 'Country', 'Latitude', 'Longitude', 'Airport.Code', 'Airport.Name', 'Air.carrier', 'Schedule', 'Investigation.Type', ], axis = 1)\n",
    "\n",
    "skydiving.head()"
   ]
  },
  {
   "cell_type": "code",
   "execution_count": 36,
   "id": "6c97d462-850e-4702-90e2-a97cdbb6b649",
   "metadata": {},
   "outputs": [
    {
     "name": "stdout",
     "output_type": "stream",
     "text": [
      "<class 'pandas.core.frame.DataFrame'>\n",
      "RangeIndex: 182 entries, 0 to 181\n",
      "Data columns (total 15 columns):\n",
      " #   Column                  Non-Null Count  Dtype  \n",
      "---  ------                  --------------  -----  \n",
      " 0   Event.Date              182 non-null    object \n",
      " 1   Location                182 non-null    object \n",
      " 2   Injury.Severity         182 non-null    object \n",
      " 3   Aircraft.damage         178 non-null    object \n",
      " 4   Make                    182 non-null    object \n",
      " 5   Model                   182 non-null    object \n",
      " 6   Number.of.Engines       177 non-null    float64\n",
      " 7   Engine.Type             171 non-null    object \n",
      " 8   Total.Fatal.Injuries    152 non-null    float64\n",
      " 9   Total.Serious.Injuries  131 non-null    float64\n",
      " 10  Total.Minor.Injuries    125 non-null    float64\n",
      " 11  Total.Uninjured         144 non-null    float64\n",
      " 12  Weather.Condition       176 non-null    object \n",
      " 13  Broad.phase.of.flight   70 non-null     object \n",
      " 14  Report.Status           169 non-null    object \n",
      "dtypes: float64(5), object(10)\n",
      "memory usage: 21.5+ KB\n"
     ]
    }
   ],
   "source": [
    "skydiving.info()"
   ]
  },
  {
   "cell_type": "code",
   "execution_count": 37,
   "id": "c0fbc615-17c3-4463-84dd-3220eff74d3a",
   "metadata": {},
   "outputs": [
    {
     "data": {
      "text/plain": [
       "Substantial    131\n",
       "Destroyed       38\n",
       "Minor            9\n",
       "Name: Aircraft.damage, dtype: int64"
      ]
     },
     "execution_count": 37,
     "metadata": {},
     "output_type": "execute_result"
    }
   ],
   "source": [
    "skydiving['Aircraft.damage'].value_counts()"
   ]
  },
  {
   "cell_type": "code",
   "execution_count": 38,
   "id": "2b447416-9e5d-4968-9e87-284a2f4d4c8f",
   "metadata": {},
   "outputs": [
    {
     "data": {
      "text/plain": [
       "0.0     93\n",
       "1.0     28\n",
       "5.0      7\n",
       "6.0      4\n",
       "2.0      4\n",
       "4.0      4\n",
       "12.0     2\n",
       "7.0      2\n",
       "3.0      2\n",
       "11.0     2\n",
       "10.0     1\n",
       "16.0     1\n",
       "17.0     1\n",
       "14.0     1\n",
       "Name: Total.Fatal.Injuries, dtype: int64"
      ]
     },
     "execution_count": 38,
     "metadata": {},
     "output_type": "execute_result"
    }
   ],
   "source": [
    "skydiving['Total.Fatal.Injuries'].value_counts()"
   ]
  },
  {
   "cell_type": "code",
   "execution_count": 39,
   "id": "c1f890ba-25f0-4e49-80a5-3a873d066253",
   "metadata": {
    "scrolled": true
   },
   "outputs": [
    {
     "data": {
      "text/plain": [
       "0.0    85\n",
       "1.0    28\n",
       "2.0     8\n",
       "4.0     5\n",
       "5.0     2\n",
       "3.0     1\n",
       "7.0     1\n",
       "6.0     1\n",
       "Name: Total.Serious.Injuries, dtype: int64"
      ]
     },
     "execution_count": 39,
     "metadata": {},
     "output_type": "execute_result"
    }
   ],
   "source": [
    "skydiving['Total.Serious.Injuries'].value_counts()"
   ]
  },
  {
   "cell_type": "code",
   "execution_count": 40,
   "id": "32ad6e53-baf8-4a3e-869a-e6c9ce4524c0",
   "metadata": {},
   "outputs": [
    {
     "data": {
      "text/plain": [
       "0.0     95\n",
       "1.0     20\n",
       "2.0      7\n",
       "4.0      1\n",
       "6.0      1\n",
       "13.0     1\n",
       "Name: Total.Minor.Injuries, dtype: int64"
      ]
     },
     "execution_count": 40,
     "metadata": {},
     "output_type": "execute_result"
    }
   ],
   "source": [
    "skydiving['Total.Minor.Injuries'].value_counts()"
   ]
  },
  {
   "cell_type": "code",
   "execution_count": 41,
   "id": "ebaaf0a1-34d2-4215-bad5-a34e0b1ad65e",
   "metadata": {},
   "outputs": [
    {
     "data": {
      "text/plain": [
       "1.0     52\n",
       "0.0     23\n",
       "4.0     14\n",
       "5.0     11\n",
       "7.0      6\n",
       "3.0      6\n",
       "2.0      6\n",
       "6.0      5\n",
       "12.0     4\n",
       "15.0     4\n",
       "10.0     4\n",
       "17.0     3\n",
       "13.0     2\n",
       "14.0     1\n",
       "22.0     1\n",
       "11.0     1\n",
       "18.0     1\n",
       "Name: Total.Uninjured, dtype: int64"
      ]
     },
     "execution_count": 41,
     "metadata": {},
     "output_type": "execute_result"
    }
   ],
   "source": [
    "skydiving['Total.Uninjured'].value_counts()"
   ]
  },
  {
   "cell_type": "code",
   "execution_count": 42,
   "id": "420f7e09-e7c2-4ded-afe8-b21d4a6d983b",
   "metadata": {},
   "outputs": [
    {
     "data": {
      "text/plain": [
       "VMC    174\n",
       "IMC      2\n",
       "Name: Weather.Condition, dtype: int64"
      ]
     },
     "execution_count": 42,
     "metadata": {},
     "output_type": "execute_result"
    }
   ],
   "source": [
    "skydiving['Weather.Condition'].value_counts()"
   ]
  },
  {
   "cell_type": "code",
   "execution_count": 43,
   "id": "5a653380-9d18-4342-8adc-ba6e1ea9cc55",
   "metadata": {},
   "outputs": [],
   "source": [
    "# We see that 174 entries have VMC (Visual Meteorological Conditions) and 2 entries have IMC (Instrument Meteorological Conditions).\n",
    "# (As we have 182 entries, we know that there are 6 missing values in this column.)\n",
    "# VMC is associated with clear weather and IMC is associated with cloudy or bad weather.\n",
    "# As more than 95% have VMC-clear weather, we'll drop this column as well."
   ]
  },
  {
   "cell_type": "code",
   "execution_count": 44,
   "id": "92871d42-e375-4f04-9d6a-f025f4162dda",
   "metadata": {},
   "outputs": [],
   "source": [
    "skydiving = skydiving.drop(\"Weather.Condition\", axis =1)"
   ]
  },
  {
   "cell_type": "code",
   "execution_count": 45,
   "id": "b5da4f9f-8c42-4839-ba7f-3373076846c2",
   "metadata": {},
   "outputs": [
    {
     "data": {
      "text/plain": [
       "CESSNA                        76\n",
       "Cessna                        59\n",
       "Beech                         13\n",
       "De Havilland                  10\n",
       "BEECH                          7\n",
       "DEHAVILLAND                    5\n",
       "PACIFIC AEROSPACE CORP LTD     3\n",
       "Lockheed                       2\n",
       "Pilatus                        2\n",
       "de Havilland                   1\n",
       "Helio                          1\n",
       "FIREFLY BALLOONS INC           1\n",
       "BOEING                         1\n",
       "C A S A                        1\n",
       "Name: Make, dtype: int64"
      ]
     },
     "execution_count": 45,
     "metadata": {},
     "output_type": "execute_result"
    }
   ],
   "source": [
    "skydiving['Make'].value_counts()"
   ]
  },
  {
   "cell_type": "code",
   "execution_count": 46,
   "id": "9c793780-f152-4e4d-b771-f1b49f9c81d3",
   "metadata": {},
   "outputs": [],
   "source": [
    "skydiving['Make'] = skydiving['Make'].str.title()"
   ]
  },
  {
   "cell_type": "code",
   "execution_count": 47,
   "id": "6f1823f6-2108-4871-99e9-2d60972476e4",
   "metadata": {},
   "outputs": [
    {
     "data": {
      "text/plain": [
       "Cessna                        135\n",
       "Beech                          20\n",
       "De Havilland                   11\n",
       "Dehavilland                     5\n",
       "Pacific Aerospace Corp Ltd      3\n",
       "Lockheed                        2\n",
       "Pilatus                         2\n",
       "Helio                           1\n",
       "Boeing                          1\n",
       "Firefly Balloons Inc            1\n",
       "C A S A                         1\n",
       "Name: Make, dtype: int64"
      ]
     },
     "execution_count": 47,
     "metadata": {},
     "output_type": "execute_result"
    }
   ],
   "source": [
    "skydiving['Make'].value_counts()"
   ]
  },
  {
   "cell_type": "code",
   "execution_count": 48,
   "id": "596edbb6-b45f-444f-9169-92e7d0045a91",
   "metadata": {},
   "outputs": [],
   "source": [
    "skydiving['Make'] = skydiving['Make'].replace('Dehavilland', 'De Havilland')"
   ]
  },
  {
   "cell_type": "code",
   "execution_count": 49,
   "id": "1f2a8664-5439-46bc-bb37-de6f51a75b00",
   "metadata": {},
   "outputs": [
    {
     "data": {
      "text/plain": [
       "Cessna                        135\n",
       "Beech                          20\n",
       "De Havilland                   16\n",
       "Pacific Aerospace Corp Ltd      3\n",
       "Lockheed                        2\n",
       "Pilatus                         2\n",
       "Helio                           1\n",
       "Boeing                          1\n",
       "Firefly Balloons Inc            1\n",
       "C A S A                         1\n",
       "Name: Make, dtype: int64"
      ]
     },
     "execution_count": 49,
     "metadata": {},
     "output_type": "execute_result"
    }
   ],
   "source": [
    "skydiving['Make'].value_counts()"
   ]
  },
  {
   "cell_type": "code",
   "execution_count": 50,
   "id": "8a9b3bc6-df29-45bb-afd2-80f68142e13c",
   "metadata": {},
   "outputs": [
    {
     "data": {
      "text/plain": [
       "182                  30\n",
       "182A                 29\n",
       "208                  11\n",
       "182C                  6\n",
       "208B                  6\n",
       "                     ..\n",
       "L-402-2 (LASA-60)     1\n",
       "P206A                 1\n",
       "K172R                 1\n",
       "E 90                  1\n",
       "A75N1 (PT17)          1\n",
       "Name: Model, Length: 70, dtype: int64"
      ]
     },
     "execution_count": 50,
     "metadata": {},
     "output_type": "execute_result"
    }
   ],
   "source": [
    "skydiving['Model'].value_counts()"
   ]
  },
  {
   "cell_type": "code",
   "execution_count": 51,
   "id": "dd6c198e-0409-44d2-95c6-f5c8a99af11d",
   "metadata": {},
   "outputs": [
    {
     "data": {
      "text/plain": [
       "Non-Fatal    120\n",
       "Fatal(1)      18\n",
       "Fatal         17\n",
       "Fatal(5)       6\n",
       "Fatal(6)       4\n",
       "Fatal(4)       3\n",
       "Fatal(7)       2\n",
       "Fatal(2)       2\n",
       "Fatal(12)      2\n",
       "Fatal(11)      1\n",
       "Fatal(3)       1\n",
       "Fatal(10)      1\n",
       "Fatal(16)      1\n",
       "Minor          1\n",
       "Fatal(14)      1\n",
       "Serious        1\n",
       "Fatal(17)      1\n",
       "Name: Injury.Severity, dtype: int64"
      ]
     },
     "execution_count": 51,
     "metadata": {},
     "output_type": "execute_result"
    }
   ],
   "source": [
    "skydiving['Injury.Severity'].value_counts()"
   ]
  },
  {
   "cell_type": "code",
   "execution_count": 52,
   "id": "1d9428dd-91a3-4f55-ac50-3f8b0b8fe5eb",
   "metadata": {},
   "outputs": [
    {
     "data": {
      "text/plain": [
       "0.0     93\n",
       "1.0     28\n",
       "5.0      7\n",
       "6.0      4\n",
       "2.0      4\n",
       "4.0      4\n",
       "12.0     2\n",
       "7.0      2\n",
       "3.0      2\n",
       "11.0     2\n",
       "10.0     1\n",
       "16.0     1\n",
       "17.0     1\n",
       "14.0     1\n",
       "Name: Total.Fatal.Injuries, dtype: int64"
      ]
     },
     "execution_count": 52,
     "metadata": {},
     "output_type": "execute_result"
    }
   ],
   "source": [
    "skydiving['Total.Fatal.Injuries'].value_counts()"
   ]
  },
  {
   "cell_type": "code",
   "execution_count": 53,
   "id": "2cff4003-e0b7-4db3-9de9-8a694e1183d4",
   "metadata": {},
   "outputs": [],
   "source": [
    "#Why does Injury.Severity Column -Fatal() not match the Total.Fatal.Injuries Column-> Total.Fatal.Injuries Column missing values"
   ]
  },
  {
   "cell_type": "code",
   "execution_count": 58,
   "id": "1a2e82bb-4928-497b-88dc-383a9f68ab29",
   "metadata": {},
   "outputs": [
    {
     "name": "stdout",
     "output_type": "stream",
     "text": [
      "                          Make Injury.Severity  Count\n",
      "0                        Beech           Fatal      5\n",
      "1                        Beech        Fatal(1)      3\n",
      "2                        Beech       Fatal(10)      1\n",
      "3                        Beech       Fatal(12)      2\n",
      "4                        Beech       Fatal(14)      1\n",
      "5                        Beech        Fatal(7)      1\n",
      "6                        Beech       Non-Fatal      7\n",
      "7                       Boeing       Non-Fatal      1\n",
      "8                      C A S A           Fatal      1\n",
      "9                       Cessna           Fatal      9\n",
      "10                      Cessna        Fatal(1)      8\n",
      "11                      Cessna       Fatal(17)      1\n",
      "12                      Cessna        Fatal(2)      2\n",
      "13                      Cessna        Fatal(4)      3\n",
      "14                      Cessna        Fatal(5)      6\n",
      "15                      Cessna        Fatal(6)      3\n",
      "16                      Cessna        Fatal(7)      1\n",
      "17                      Cessna           Minor      1\n",
      "18                      Cessna       Non-Fatal    100\n",
      "19                      Cessna         Serious      1\n",
      "20                De Havilland           Fatal      1\n",
      "21                De Havilland        Fatal(1)      6\n",
      "22                De Havilland       Fatal(16)      1\n",
      "23                De Havilland        Fatal(6)      1\n",
      "24                De Havilland       Non-Fatal      7\n",
      "25        Firefly Balloons Inc           Fatal      1\n",
      "26                       Helio        Fatal(1)      1\n",
      "27                    Lockheed       Fatal(11)      1\n",
      "28                    Lockheed        Fatal(3)      1\n",
      "29  Pacific Aerospace Corp Ltd       Non-Fatal      3\n",
      "30                     Pilatus       Non-Fatal      2\n"
     ]
    }
   ],
   "source": [
    "grouped = skydiving.groupby(['Make', 'Injury.Severity']).size().reset_index(name='Count')\n",
    "\n",
    "print(grouped)"
   ]
  },
  {
   "cell_type": "code",
   "execution_count": 59,
   "id": "ab0b23ec-0d4b-4dfe-af1f-c5ed5a34ab1a",
   "metadata": {},
   "outputs": [
    {
     "name": "stdout",
     "output_type": "stream",
     "text": [
      "                          Make Aircraft.damage  Count\n",
      "0                        Beech       Destroyed      8\n",
      "1                        Beech           Minor      2\n",
      "2                        Beech     Substantial     10\n",
      "3                       Boeing     Substantial      1\n",
      "4                      C A S A     Substantial      1\n",
      "5                       Cessna       Destroyed     26\n",
      "6                       Cessna           Minor      4\n",
      "7                       Cessna     Substantial    105\n",
      "8                 De Havilland       Destroyed      1\n",
      "9                 De Havilland           Minor      3\n",
      "10                De Havilland     Substantial      8\n",
      "11        Firefly Balloons Inc     Substantial      1\n",
      "12                       Helio       Destroyed      1\n",
      "13                    Lockheed       Destroyed      2\n",
      "14  Pacific Aerospace Corp Ltd     Substantial      3\n",
      "15                     Pilatus     Substantial      2\n"
     ]
    }
   ],
   "source": [
    "grouped2 = skydiving.groupby(['Make', 'Aircraft.damage']).size().reset_index(name='Count')\n",
    "\n",
    "print(grouped2)"
   ]
  },
  {
   "cell_type": "code",
   "execution_count": 61,
   "id": "f1144045-3907-4d58-893a-6654c52a5b19",
   "metadata": {},
   "outputs": [
    {
     "data": {
      "text/html": [
       "<div>\n",
       "<style scoped>\n",
       "    .dataframe tbody tr th:only-of-type {\n",
       "        vertical-align: middle;\n",
       "    }\n",
       "\n",
       "    .dataframe tbody tr th {\n",
       "        vertical-align: top;\n",
       "    }\n",
       "\n",
       "    .dataframe thead th {\n",
       "        text-align: right;\n",
       "    }\n",
       "</style>\n",
       "<table border=\"1\" class=\"dataframe\">\n",
       "  <thead>\n",
       "    <tr style=\"text-align: right;\">\n",
       "      <th></th>\n",
       "      <th>Event.Date</th>\n",
       "      <th>Location</th>\n",
       "      <th>Injury.Severity</th>\n",
       "      <th>Aircraft.damage</th>\n",
       "      <th>Make</th>\n",
       "      <th>Model</th>\n",
       "      <th>Number.of.Engines</th>\n",
       "      <th>Engine.Type</th>\n",
       "      <th>Total.Fatal.Injuries</th>\n",
       "      <th>Total.Serious.Injuries</th>\n",
       "      <th>Total.Minor.Injuries</th>\n",
       "      <th>Total.Uninjured</th>\n",
       "      <th>Broad.phase.of.flight</th>\n",
       "      <th>Report.Status</th>\n",
       "      <th>Fatality</th>\n",
       "    </tr>\n",
       "  </thead>\n",
       "  <tbody>\n",
       "    <tr>\n",
       "      <th>0</th>\n",
       "      <td>1982-07-25</td>\n",
       "      <td>LOUISBURG, NC</td>\n",
       "      <td>Fatal(4)</td>\n",
       "      <td>Destroyed</td>\n",
       "      <td>Cessna</td>\n",
       "      <td>182A</td>\n",
       "      <td>1.0</td>\n",
       "      <td>Reciprocating</td>\n",
       "      <td>4.0</td>\n",
       "      <td>1.0</td>\n",
       "      <td>NaN</td>\n",
       "      <td>NaN</td>\n",
       "      <td>Takeoff</td>\n",
       "      <td>Probable Cause</td>\n",
       "      <td>Fatal</td>\n",
       "    </tr>\n",
       "    <tr>\n",
       "      <th>1</th>\n",
       "      <td>1982-10-17</td>\n",
       "      <td>TAFT, CA</td>\n",
       "      <td>Fatal(14)</td>\n",
       "      <td>Destroyed</td>\n",
       "      <td>Beech</td>\n",
       "      <td>C-45H</td>\n",
       "      <td>2.0</td>\n",
       "      <td>Reciprocating</td>\n",
       "      <td>14.0</td>\n",
       "      <td>NaN</td>\n",
       "      <td>NaN</td>\n",
       "      <td>NaN</td>\n",
       "      <td>Takeoff</td>\n",
       "      <td>Probable Cause</td>\n",
       "      <td>Fatal</td>\n",
       "    </tr>\n",
       "    <tr>\n",
       "      <th>2</th>\n",
       "      <td>1983-04-02</td>\n",
       "      <td>MCKINNEY, TX</td>\n",
       "      <td>Fatal(1)</td>\n",
       "      <td>NaN</td>\n",
       "      <td>De Havilland</td>\n",
       "      <td>DHC-6</td>\n",
       "      <td>2.0</td>\n",
       "      <td>Turbo Prop</td>\n",
       "      <td>1.0</td>\n",
       "      <td>NaN</td>\n",
       "      <td>NaN</td>\n",
       "      <td>4.0</td>\n",
       "      <td>Standing</td>\n",
       "      <td>Probable Cause</td>\n",
       "      <td>Fatal</td>\n",
       "    </tr>\n",
       "    <tr>\n",
       "      <th>3</th>\n",
       "      <td>1983-08-21</td>\n",
       "      <td>SILVANA, WA</td>\n",
       "      <td>Fatal(11)</td>\n",
       "      <td>Destroyed</td>\n",
       "      <td>Lockheed</td>\n",
       "      <td>LEARSTAR, L-18-56</td>\n",
       "      <td>2.0</td>\n",
       "      <td>Reciprocating</td>\n",
       "      <td>11.0</td>\n",
       "      <td>2.0</td>\n",
       "      <td>NaN</td>\n",
       "      <td>13.0</td>\n",
       "      <td>Other</td>\n",
       "      <td>Probable Cause</td>\n",
       "      <td>Fatal</td>\n",
       "    </tr>\n",
       "    <tr>\n",
       "      <th>4</th>\n",
       "      <td>1984-12-30</td>\n",
       "      <td>DUBLIN, VA</td>\n",
       "      <td>Fatal(1)</td>\n",
       "      <td>Destroyed</td>\n",
       "      <td>Cessna</td>\n",
       "      <td>182A</td>\n",
       "      <td>1.0</td>\n",
       "      <td>Reciprocating</td>\n",
       "      <td>1.0</td>\n",
       "      <td>NaN</td>\n",
       "      <td>NaN</td>\n",
       "      <td>NaN</td>\n",
       "      <td>Maneuvering</td>\n",
       "      <td>Probable Cause</td>\n",
       "      <td>Fatal</td>\n",
       "    </tr>\n",
       "  </tbody>\n",
       "</table>\n",
       "</div>"
      ],
      "text/plain": [
       "   Event.Date       Location Injury.Severity Aircraft.damage          Make  \\\n",
       "0  1982-07-25  LOUISBURG, NC        Fatal(4)       Destroyed        Cessna   \n",
       "1  1982-10-17       TAFT, CA       Fatal(14)       Destroyed         Beech   \n",
       "2  1983-04-02   MCKINNEY, TX        Fatal(1)             NaN  De Havilland   \n",
       "3  1983-08-21    SILVANA, WA       Fatal(11)       Destroyed      Lockheed   \n",
       "4  1984-12-30     DUBLIN, VA        Fatal(1)       Destroyed        Cessna   \n",
       "\n",
       "               Model  Number.of.Engines    Engine.Type  Total.Fatal.Injuries  \\\n",
       "0               182A                1.0  Reciprocating                   4.0   \n",
       "1              C-45H                2.0  Reciprocating                  14.0   \n",
       "2              DHC-6                2.0     Turbo Prop                   1.0   \n",
       "3  LEARSTAR, L-18-56                2.0  Reciprocating                  11.0   \n",
       "4               182A                1.0  Reciprocating                   1.0   \n",
       "\n",
       "   Total.Serious.Injuries  Total.Minor.Injuries  Total.Uninjured  \\\n",
       "0                     1.0                   NaN              NaN   \n",
       "1                     NaN                   NaN              NaN   \n",
       "2                     NaN                   NaN              4.0   \n",
       "3                     2.0                   NaN             13.0   \n",
       "4                     NaN                   NaN              NaN   \n",
       "\n",
       "  Broad.phase.of.flight   Report.Status Fatality  \n",
       "0               Takeoff  Probable Cause    Fatal  \n",
       "1               Takeoff  Probable Cause    Fatal  \n",
       "2              Standing  Probable Cause    Fatal  \n",
       "3                 Other  Probable Cause    Fatal  \n",
       "4           Maneuvering  Probable Cause    Fatal  "
      ]
     },
     "execution_count": 61,
     "metadata": {},
     "output_type": "execute_result"
    }
   ],
   "source": [
    "skydiving['Fatality'] = skydiving['Injury.Severity'].apply(lambda x: 'Fatal' if 'fatal' in x.lower() else 'Non-Fatal')\n",
    "skydiving.head()"
   ]
  },
  {
   "cell_type": "code",
   "execution_count": 63,
   "id": "50274f43-1d83-4839-a83b-faad88be563d",
   "metadata": {},
   "outputs": [
    {
     "name": "stdout",
     "output_type": "stream",
     "text": [
      "                          Make   Fatality  Count\n",
      "0                        Beech      Fatal     20\n",
      "1                       Boeing      Fatal      1\n",
      "2                      C A S A      Fatal      1\n",
      "3                       Cessna      Fatal    133\n",
      "4                       Cessna  Non-Fatal      2\n",
      "5                 De Havilland      Fatal     16\n",
      "6         Firefly Balloons Inc      Fatal      1\n",
      "7                        Helio      Fatal      1\n",
      "8                     Lockheed      Fatal      2\n",
      "9   Pacific Aerospace Corp Ltd      Fatal      3\n",
      "10                     Pilatus      Fatal      2\n"
     ]
    }
   ],
   "source": [
    "grouped4 = skydiving.groupby(['Make', 'Fatality']).size().reset_index(name='Count')\n",
    "\n",
    "print(grouped4)"
   ]
  },
  {
   "cell_type": "code",
   "execution_count": 199,
   "id": "a960166f-82d7-4d84-908d-f64cfd51f472",
   "metadata": {},
   "outputs": [
    {
     "data": {
      "text/plain": [
       "1.0    132\n",
       "2.0     34\n",
       "0.0      1\n",
       "Name: Number.of.Engines, dtype: int64"
      ]
     },
     "execution_count": 199,
     "metadata": {},
     "output_type": "execute_result"
    }
   ],
   "source": [
    "skydiving['Number.of.Engines'].value_counts()"
   ]
  },
  {
   "cell_type": "code",
   "execution_count": 212,
   "id": "895daf28-5f8f-41f1-ac74-20cf460bedf9",
   "metadata": {},
   "outputs": [
    {
     "data": {
      "text/plain": [
       "Event.Date                 0\n",
       "Location                   0\n",
       "Injury.Severity            0\n",
       "Aircraft.damage            4\n",
       "Make                       0\n",
       "Model                      0\n",
       "Number.of.Engines          2\n",
       "Engine.Type                3\n",
       "Total.Fatal.Injuries      30\n",
       "Total.Serious.Injuries    51\n",
       "Total.Minor.Injuries      57\n",
       "Total.Uninjured           38\n",
       "Weather.Condition          1\n",
       "Report.Status              0\n",
       "dtype: int64"
      ]
     },
     "execution_count": 212,
     "metadata": {},
     "output_type": "execute_result"
    }
   ],
   "source": [
    "skydiving.isna().sum()"
   ]
  },
  {
   "cell_type": "code",
   "execution_count": null,
   "id": "dc1704a1-ddd8-45a6-a09d-c0fcc5b0cef7",
   "metadata": {},
   "outputs": [],
   "source": []
  },
  {
   "cell_type": "code",
   "execution_count": null,
   "id": "959e2fa1-90dd-4251-9b9f-85d8b6f8b05c",
   "metadata": {},
   "outputs": [],
   "source": []
  },
  {
   "cell_type": "code",
   "execution_count": null,
   "id": "8fd9de44-0a27-4572-b971-516417179e91",
   "metadata": {},
   "outputs": [],
   "source": []
  },
  {
   "cell_type": "code",
   "execution_count": null,
   "id": "bdd2189b-300b-48e3-b233-0cdd9a4652ba",
   "metadata": {},
   "outputs": [],
   "source": []
  },
  {
   "cell_type": "code",
   "execution_count": null,
   "id": "1baaaf7a-4cfe-4347-ba31-f6870f925fed",
   "metadata": {},
   "outputs": [],
   "source": []
  },
  {
   "cell_type": "code",
   "execution_count": null,
   "id": "abf7c9a8-d4fe-4c5a-96e6-aaa2d4bff69f",
   "metadata": {},
   "outputs": [],
   "source": []
  },
  {
   "cell_type": "code",
   "execution_count": null,
   "id": "2e3506ef-af9e-42c5-8192-48075c89ed9b",
   "metadata": {},
   "outputs": [],
   "source": []
  },
  {
   "cell_type": "code",
   "execution_count": null,
   "id": "619e900c-ec63-474b-9192-e3f2beef9ba4",
   "metadata": {},
   "outputs": [],
   "source": []
  },
  {
   "cell_type": "code",
   "execution_count": 64,
   "id": "8df4e863-c6d1-48d8-9315-abd16b102a93",
   "metadata": {},
   "outputs": [
    {
     "data": {
      "image/png": "[encoded data removed]",
      "text/plain": [
       "<Figure size 432x288 with 1 Axes>"
      ]
     },
     "metadata": {
      "needs_background": "light"
     },
     "output_type": "display_data"
    }
   ],
   "source": [
    "sns.countplot(x='Make', data=skydiving)\n",
    "plt.show()"
   ]
  },
  {
   "cell_type": "markdown",
   "id": "27addb17-fc25-4e6e-94ba-4fabce507654",
   "metadata": {},
   "source": [
    "# Exploratory Data Analysis"
   ]
  },
  {
   "cell_type": "markdown",
   "id": "d14badf3-ea91-4f96-b2d0-83debb296684",
   "metadata": {},
   "source": [
    "\"Notebook promotes three recommendations for choosing films to produce:\n",
    " - Uses three or more findings from data analyses to support recommendations\n",
    " - Explains why the findings support the recommendations\n",
    " - Explains how the recommendations would help the stakeholder\n"
   ]
  },
  {
   "cell_type": "markdown",
   "id": "fd175f58-176d-4a1a-8f1d-41691794302c",
   "metadata": {},
   "source": [
    "\"Notebook includes three relevant and polished visualizations of findings that:\n",
    " - Help the project stakeholder understand the value or success of the project\n",
    " - Have text and marks to aid reader interpretation, such as graph and axis titles, axis ticks and labels, or legend (varies by visualization type)\n",
    " - Use color, size, and/or location to appropriately facilitate comparisons\n",
    " - Are not cluttered, dense, or illegible\n",
    "\""
   ]
  },
  {
   "cell_type": "code",
   "execution_count": 65,
   "id": "72300a61-0048-4628-9249-0b85ceac2533",
   "metadata": {},
   "outputs": [],
   "source": [
    "#accident survivability?, accident cause, most common planes that have reported accidents\n"
   ]
  },
  {
   "cell_type": "markdown",
   "id": "c581a44b-9469-45a5-83d6-d49627188a6a",
   "metadata": {},
   "source": [
    "# Conclusions"
   ]
  },
  {
   "cell_type": "markdown",
   "id": "3f272c77-322a-47a6-8202-1701c9a0141a",
   "metadata": {},
   "source": []
  },
  {
   "cell_type": "markdown",
   "id": "2a588152-87ee-449f-8739-b5e2e7759c2e",
   "metadata": {},
   "source": [
    "## Limitations"
   ]
  },
  {
   "cell_type": "markdown",
   "id": "80cc3bc0-bfcd-41bf-a11f-8fbd8fc28ebb",
   "metadata": {},
   "source": [
    "The largest limitation of this data set is that we only have the data for accidents. We don't have the data for when flights occurred where everything went smoothly. This means we cannot say anything like: \"99% of flights of a certain kind of plane has safe flights.\" This also makes it difficult to see the whole picture."
   ]
  },
  {
   "cell_type": "markdown",
   "id": "03f9997e-f24d-46f0-95fd-469cfec1ddc9",
   "metadata": {},
   "source": [
    "## Recommendations"
   ]
  },
  {
   "cell_type": "markdown",
   "id": "d610e40f-dc3c-416d-b091-ab85ecb0b782",
   "metadata": {},
   "source": [
    "These planes are commonly used.\n",
    "Of the commonly used, these have the least reported accidents.\n",
    "Of all of the reported accidents with most commonly used planes, these are the main reason for the accident."
   ]
  },
  {
   "cell_type": "markdown",
   "id": "68a54e88-0953-4e8f-bb5d-bdc37124b08c",
   "metadata": {},
   "source": [
    "## Next Steps"
   ]
  },
  {
   "cell_type": "markdown",
   "id": "22d1f0e4-1491-4887-9f74-20c5a54d848e",
   "metadata": {},
   "source": [
    "Look into price for these planes."
   ]
  },
  {
   "cell_type": "code",
   "execution_count": null,
   "id": "4202a42b-e42f-4351-8682-3fbfeca5db6a",
   "metadata": {},
   "outputs": [],
   "source": []
  }
 ],
 "metadata": {
  "kernelspec": {
   "display_name": "Python (learn-env)",
   "language": "python",
   "name": "learn-env"
  },
  "language_info": {
   "codemirror_mode": {
    "name": "ipython",
    "version": 3
   },
   "file_extension": ".py",
   "mimetype": "text/x-python",
   "name": "python",
   "nbconvert_exporter": "python",
   "pygments_lexer": "ipython3",
   "version": "3.8.5"
  }
 },
 "nbformat": 4,
 "nbformat_minor": 5
}
