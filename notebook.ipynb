{
 "cells": [
  {
   "cell_type": "markdown",
   "id": "247039b3-f785-4d01-a480-5aeefa9b9d67",
   "metadata": {},
   "source": [
    "# Business Understanding"
   ]
  },
  {
   "cell_type": "markdown",
   "id": "0f0e0db3-723f-4d83-b1a0-806209e29072",
   "metadata": {},
   "source": [
    "This project aims to determine which planes would be best to look into first for indoor skydiving companies that plan to expand to offer real skydiving. We'll use an Aviation Accident Dataset to determine which planes would be the lowest risk for the company to start looking into for their expansion. \n"
   ]
  },
  {
   "cell_type": "markdown",
   "id": "8db3f566-6b0b-4a19-bd72-f3b211b7a2bb",
   "metadata": {},
   "source": [
    "# Data Understanding"
   ]
  },
  {
   "cell_type": "markdown",
   "id": "68f9b38c-1bac-4bda-933d-e8987bbcb8b1",
   "metadata": {},
   "source": [
    "\"Notebook clearly describes the data, including:\n",
    "- Describe the data sources and explain why the data are suitable for the project\n",
    "- Present the size of the dataset and descriptive statistics for all features used in the analysis\n",
    "- Justify the inclusion of features based on their properties and relevance for the project\n",
    "- Identify any limitations of the data that have implications for the project\"\n",
    "\n",
    "\n",
    "The data source used in this project is a data set from the National Transportation Safety Board with specifics about US aviation accidents between 1962 through 2023. It is in the form of a CSV file and accessed through Kaggle.\n",
    "\n",
    "Through data cleaning and visualizations, this project provides recommendations about which planes would be of lowest risk. The Aviation Accident data set is a good option to use for this project as it contains many factual details of specific accidents in past flight accidents. \n",
    "\n",
    "The Aviation Accident dataset contains 90348 records of individual aviation accidents. There are 31 columns that break down each accident into further details.\n",
    "\n"
   ]
  },
  {
   "cell_type": "code",
   "execution_count": 26,
   "id": "7e03817e-8498-4b67-a0f2-824e143b850a",
   "metadata": {},
   "outputs": [
    {
     "name": "stderr",
     "output_type": "stream",
     "text": [
      "/opt/anaconda3/envs/learn-env/lib/python3.8/site-packages/IPython/core/interactiveshell.py:3145: DtypeWarning: Columns (6,7,28) have mixed types.Specify dtype option on import or set low_memory=False.\n",
      "  has_raised = await self.run_ast_nodes(code_ast.body, cell_name,\n"
     ]
    },
    {
     "data": {
      "text/html": [
       "<div>\n",
       "<style scoped>\n",
       "    .dataframe tbody tr th:only-of-type {\n",
       "        vertical-align: middle;\n",
       "    }\n",
       "\n",
       "    .dataframe tbody tr th {\n",
       "        vertical-align: top;\n",
       "    }\n",
       "\n",
       "    .dataframe thead th {\n",
       "        text-align: right;\n",
       "    }\n",
       "</style>\n",
       "<table border=\"1\" class=\"dataframe\">\n",
       "  <thead>\n",
       "    <tr style=\"text-align: right;\">\n",
       "      <th></th>\n",
       "      <th>Event.Id</th>\n",
       "      <th>Investigation.Type</th>\n",
       "      <th>Accident.Number</th>\n",
       "      <th>Event.Date</th>\n",
       "      <th>Location</th>\n",
       "      <th>Country</th>\n",
       "      <th>Latitude</th>\n",
       "      <th>Longitude</th>\n",
       "      <th>Airport.Code</th>\n",
       "      <th>Airport.Name</th>\n",
       "      <th>...</th>\n",
       "      <th>Purpose.of.flight</th>\n",
       "      <th>Air.carrier</th>\n",
       "      <th>Total.Fatal.Injuries</th>\n",
       "      <th>Total.Serious.Injuries</th>\n",
       "      <th>Total.Minor.Injuries</th>\n",
       "      <th>Total.Uninjured</th>\n",
       "      <th>Weather.Condition</th>\n",
       "      <th>Broad.phase.of.flight</th>\n",
       "      <th>Report.Status</th>\n",
       "      <th>Publication.Date</th>\n",
       "    </tr>\n",
       "  </thead>\n",
       "  <tbody>\n",
       "    <tr>\n",
       "      <th>0</th>\n",
       "      <td>20001218X45444</td>\n",
       "      <td>Accident</td>\n",
       "      <td>SEA87LA080</td>\n",
       "      <td>1948-10-24</td>\n",
       "      <td>MOOSE CREEK, ID</td>\n",
       "      <td>United States</td>\n",
       "      <td>NaN</td>\n",
       "      <td>NaN</td>\n",
       "      <td>NaN</td>\n",
       "      <td>NaN</td>\n",
       "      <td>...</td>\n",
       "      <td>Personal</td>\n",
       "      <td>NaN</td>\n",
       "      <td>2.0</td>\n",
       "      <td>0.0</td>\n",
       "      <td>0.0</td>\n",
       "      <td>0.0</td>\n",
       "      <td>UNK</td>\n",
       "      <td>Cruise</td>\n",
       "      <td>Probable Cause</td>\n",
       "      <td>NaN</td>\n",
       "    </tr>\n",
       "    <tr>\n",
       "      <th>1</th>\n",
       "      <td>20001218X45447</td>\n",
       "      <td>Accident</td>\n",
       "      <td>LAX94LA336</td>\n",
       "      <td>1962-07-19</td>\n",
       "      <td>BRIDGEPORT, CA</td>\n",
       "      <td>United States</td>\n",
       "      <td>NaN</td>\n",
       "      <td>NaN</td>\n",
       "      <td>NaN</td>\n",
       "      <td>NaN</td>\n",
       "      <td>...</td>\n",
       "      <td>Personal</td>\n",
       "      <td>NaN</td>\n",
       "      <td>4.0</td>\n",
       "      <td>0.0</td>\n",
       "      <td>0.0</td>\n",
       "      <td>0.0</td>\n",
       "      <td>UNK</td>\n",
       "      <td>Unknown</td>\n",
       "      <td>Probable Cause</td>\n",
       "      <td>19-09-1996</td>\n",
       "    </tr>\n",
       "    <tr>\n",
       "      <th>2</th>\n",
       "      <td>20061025X01555</td>\n",
       "      <td>Accident</td>\n",
       "      <td>NYC07LA005</td>\n",
       "      <td>1974-08-30</td>\n",
       "      <td>Saltville, VA</td>\n",
       "      <td>United States</td>\n",
       "      <td>36.9222</td>\n",
       "      <td>-81.8781</td>\n",
       "      <td>NaN</td>\n",
       "      <td>NaN</td>\n",
       "      <td>...</td>\n",
       "      <td>Personal</td>\n",
       "      <td>NaN</td>\n",
       "      <td>3.0</td>\n",
       "      <td>NaN</td>\n",
       "      <td>NaN</td>\n",
       "      <td>NaN</td>\n",
       "      <td>IMC</td>\n",
       "      <td>Cruise</td>\n",
       "      <td>Probable Cause</td>\n",
       "      <td>26-02-2007</td>\n",
       "    </tr>\n",
       "    <tr>\n",
       "      <th>3</th>\n",
       "      <td>20001218X45448</td>\n",
       "      <td>Accident</td>\n",
       "      <td>LAX96LA321</td>\n",
       "      <td>1977-06-19</td>\n",
       "      <td>EUREKA, CA</td>\n",
       "      <td>United States</td>\n",
       "      <td>NaN</td>\n",
       "      <td>NaN</td>\n",
       "      <td>NaN</td>\n",
       "      <td>NaN</td>\n",
       "      <td>...</td>\n",
       "      <td>Personal</td>\n",
       "      <td>NaN</td>\n",
       "      <td>2.0</td>\n",
       "      <td>0.0</td>\n",
       "      <td>0.0</td>\n",
       "      <td>0.0</td>\n",
       "      <td>IMC</td>\n",
       "      <td>Cruise</td>\n",
       "      <td>Probable Cause</td>\n",
       "      <td>12-09-2000</td>\n",
       "    </tr>\n",
       "    <tr>\n",
       "      <th>4</th>\n",
       "      <td>20041105X01764</td>\n",
       "      <td>Accident</td>\n",
       "      <td>CHI79FA064</td>\n",
       "      <td>1979-08-02</td>\n",
       "      <td>Canton, OH</td>\n",
       "      <td>United States</td>\n",
       "      <td>NaN</td>\n",
       "      <td>NaN</td>\n",
       "      <td>NaN</td>\n",
       "      <td>NaN</td>\n",
       "      <td>...</td>\n",
       "      <td>Personal</td>\n",
       "      <td>NaN</td>\n",
       "      <td>1.0</td>\n",
       "      <td>2.0</td>\n",
       "      <td>NaN</td>\n",
       "      <td>0.0</td>\n",
       "      <td>VMC</td>\n",
       "      <td>Approach</td>\n",
       "      <td>Probable Cause</td>\n",
       "      <td>16-04-1980</td>\n",
       "    </tr>\n",
       "  </tbody>\n",
       "</table>\n",
       "<p>5 rows × 31 columns</p>\n",
       "</div>"
      ],
      "text/plain": [
       "         Event.Id Investigation.Type Accident.Number  Event.Date  \\\n",
       "0  20001218X45444           Accident      SEA87LA080  1948-10-24   \n",
       "1  20001218X45447           Accident      LAX94LA336  1962-07-19   \n",
       "2  20061025X01555           Accident      NYC07LA005  1974-08-30   \n",
       "3  20001218X45448           Accident      LAX96LA321  1977-06-19   \n",
       "4  20041105X01764           Accident      CHI79FA064  1979-08-02   \n",
       "\n",
       "          Location        Country Latitude Longitude Airport.Code  \\\n",
       "0  MOOSE CREEK, ID  United States      NaN       NaN          NaN   \n",
       "1   BRIDGEPORT, CA  United States      NaN       NaN          NaN   \n",
       "2    Saltville, VA  United States  36.9222  -81.8781          NaN   \n",
       "3       EUREKA, CA  United States      NaN       NaN          NaN   \n",
       "4       Canton, OH  United States      NaN       NaN          NaN   \n",
       "\n",
       "  Airport.Name  ... Purpose.of.flight Air.carrier Total.Fatal.Injuries  \\\n",
       "0          NaN  ...          Personal         NaN                  2.0   \n",
       "1          NaN  ...          Personal         NaN                  4.0   \n",
       "2          NaN  ...          Personal         NaN                  3.0   \n",
       "3          NaN  ...          Personal         NaN                  2.0   \n",
       "4          NaN  ...          Personal         NaN                  1.0   \n",
       "\n",
       "  Total.Serious.Injuries Total.Minor.Injuries Total.Uninjured  \\\n",
       "0                    0.0                  0.0             0.0   \n",
       "1                    0.0                  0.0             0.0   \n",
       "2                    NaN                  NaN             NaN   \n",
       "3                    0.0                  0.0             0.0   \n",
       "4                    2.0                  NaN             0.0   \n",
       "\n",
       "  Weather.Condition  Broad.phase.of.flight   Report.Status Publication.Date  \n",
       "0               UNK                 Cruise  Probable Cause              NaN  \n",
       "1               UNK                Unknown  Probable Cause       19-09-1996  \n",
       "2               IMC                 Cruise  Probable Cause       26-02-2007  \n",
       "3               IMC                 Cruise  Probable Cause       12-09-2000  \n",
       "4               VMC               Approach  Probable Cause       16-04-1980  \n",
       "\n",
       "[5 rows x 31 columns]"
      ]
     },
     "execution_count": 26,
     "metadata": {},
     "output_type": "execute_result"
    }
   ],
   "source": [
    "#import standard libraries/ load dataset into dataframe\n",
    "import numpy as np\n",
    "import matplotlib.pyplot as plt\n",
    "import seaborn as sns\n",
    "import pandas as pd\n",
    "data = pd.read_csv('https://raw.githubusercontent.com/learn-co-curriculum/dsc-phase-1-project-v3/refs/heads/master/data/Aviation_Data.csv')\n",
    "data.head()"
   ]
  },
  {
   "cell_type": "code",
   "execution_count": 27,
   "id": "3a9be322-11c6-48c0-adf7-221e977e7cdf",
   "metadata": {},
   "outputs": [
    {
     "data": {
      "text/plain": [
       "(90348, 31)"
      ]
     },
     "execution_count": 27,
     "metadata": {},
     "output_type": "execute_result"
    }
   ],
   "source": [
    "data.shape"
   ]
  },
  {
   "cell_type": "code",
   "execution_count": 3,
   "id": "42661681-c7a3-4e5e-abd2-bf9aaefc2f41",
   "metadata": {},
   "outputs": [
    {
     "name": "stdout",
     "output_type": "stream",
     "text": [
      "<class 'pandas.core.frame.DataFrame'>\n",
      "RangeIndex: 90348 entries, 0 to 90347\n",
      "Data columns (total 31 columns):\n",
      " #   Column                  Non-Null Count  Dtype  \n",
      "---  ------                  --------------  -----  \n",
      " 0   Event.Id                88889 non-null  object \n",
      " 1   Investigation.Type      90348 non-null  object \n",
      " 2   Accident.Number         88889 non-null  object \n",
      " 3   Event.Date              88889 non-null  object \n",
      " 4   Location                88837 non-null  object \n",
      " 5   Country                 88663 non-null  object \n",
      " 6   Latitude                34382 non-null  object \n",
      " 7   Longitude               34373 non-null  object \n",
      " 8   Airport.Code            50249 non-null  object \n",
      " 9   Airport.Name            52790 non-null  object \n",
      " 10  Injury.Severity         87889 non-null  object \n",
      " 11  Aircraft.damage         85695 non-null  object \n",
      " 12  Aircraft.Category       32287 non-null  object \n",
      " 13  Registration.Number     87572 non-null  object \n",
      " 14  Make                    88826 non-null  object \n",
      " 15  Model                   88797 non-null  object \n",
      " 16  Amateur.Built           88787 non-null  object \n",
      " 17  Number.of.Engines       82805 non-null  float64\n",
      " 18  Engine.Type             81812 non-null  object \n",
      " 19  FAR.Description         32023 non-null  object \n",
      " 20  Schedule                12582 non-null  object \n",
      " 21  Purpose.of.flight       82697 non-null  object \n",
      " 22  Air.carrier             16648 non-null  object \n",
      " 23  Total.Fatal.Injuries    77488 non-null  float64\n",
      " 24  Total.Serious.Injuries  76379 non-null  float64\n",
      " 25  Total.Minor.Injuries    76956 non-null  float64\n",
      " 26  Total.Uninjured         82977 non-null  float64\n",
      " 27  Weather.Condition       84397 non-null  object \n",
      " 28  Broad.phase.of.flight   61724 non-null  object \n",
      " 29  Report.Status           82508 non-null  object \n",
      " 30  Publication.Date        73659 non-null  object \n",
      "dtypes: float64(5), object(26)\n",
      "memory usage: 21.4+ MB\n"
     ]
    }
   ],
   "source": [
    "data.info()"
   ]
  },
  {
   "cell_type": "code",
   "execution_count": 4,
   "id": "6c7de332-6557-4263-8bb3-825a1f766c6a",
   "metadata": {},
   "outputs": [
    {
     "data": {
      "text/plain": [
       "Personal                     49448\n",
       "Instructional                10601\n",
       "Unknown                       6802\n",
       "Aerial Application            4712\n",
       "Business                      4018\n",
       "Positioning                   1646\n",
       "Other Work Use                1264\n",
       "Ferry                          812\n",
       "Aerial Observation             794\n",
       "Public Aircraft                720\n",
       "Executive/corporate            553\n",
       "Flight Test                    405\n",
       "Skydiving                      182\n",
       "External Load                  123\n",
       "Public Aircraft - Federal      105\n",
       "Banner Tow                     101\n",
       "Air Race show                   99\n",
       "Public Aircraft - Local         74\n",
       "Public Aircraft - State         64\n",
       "Air Race/show                   59\n",
       "Glider Tow                      53\n",
       "Firefighting                    40\n",
       "Air Drop                        11\n",
       "ASHO                             6\n",
       "PUBS                             4\n",
       "PUBL                             1\n",
       "Name: Purpose.of.flight, dtype: int64"
      ]
     },
     "execution_count": 4,
     "metadata": {},
     "output_type": "execute_result"
    }
   ],
   "source": [
    "data[\"Purpose.of.flight\"].value_counts()"
   ]
  },
  {
   "cell_type": "code",
   "execution_count": null,
   "id": "58ea8ab6-9093-4080-9beb-26414a7b3623",
   "metadata": {},
   "outputs": [],
   "source": []
  },
  {
   "cell_type": "code",
   "execution_count": null,
   "id": "dc01c46e-7cd5-4cec-87b6-62e61cb6746d",
   "metadata": {},
   "outputs": [],
   "source": []
  },
  {
   "cell_type": "code",
   "execution_count": null,
   "id": "b76aba8d-8b0e-4762-a89b-fd03b6174236",
   "metadata": {},
   "outputs": [],
   "source": []
  },
  {
   "cell_type": "markdown",
   "id": "08c3bccf-1243-41d1-a1b9-5fc921f7c6ab",
   "metadata": {},
   "source": [
    "## Data Preparation"
   ]
  },
  {
   "cell_type": "markdown",
   "id": "a7115ec6-93e1-4f53-a6dd-6d152dd64eea",
   "metadata": {},
   "source": [
    "\"Notebook shows how and why you prepared your data, including:\n",
    "- Instructions or code needed to get and prepare the raw data for analysis\n",
    "- Code comments and text to explain what your data preparation code does\n",
    "- Valid justifications for why the steps you took are appropriate for the problem you are solving\""
   ]
  },
  {
   "cell_type": "code",
   "execution_count": 23,
   "id": "8cd51c41-f2de-4b17-9250-a417e45d0995",
   "metadata": {},
   "outputs": [],
   "source": [
    "# Want to see some specifics first about what accidents are related to skydiving, start cleaning the data set, then make another dataframe -. skydiving"
   ]
  },
  {
   "cell_type": "code",
   "execution_count": 28,
   "id": "0b15c96a-696f-4f29-8876-f96f176eea51",
   "metadata": {},
   "outputs": [
    {
     "data": {
      "text/html": [
       "<div>\n",
       "<style scoped>\n",
       "    .dataframe tbody tr th:only-of-type {\n",
       "        vertical-align: middle;\n",
       "    }\n",
       "\n",
       "    .dataframe tbody tr th {\n",
       "        vertical-align: top;\n",
       "    }\n",
       "\n",
       "    .dataframe thead th {\n",
       "        text-align: right;\n",
       "    }\n",
       "</style>\n",
       "<table border=\"1\" class=\"dataframe\">\n",
       "  <thead>\n",
       "    <tr style=\"text-align: right;\">\n",
       "      <th></th>\n",
       "      <th>Event.Date</th>\n",
       "      <th>Location</th>\n",
       "      <th>Country</th>\n",
       "      <th>Injury.Severity</th>\n",
       "      <th>Aircraft.damage</th>\n",
       "      <th>Make</th>\n",
       "      <th>Model</th>\n",
       "      <th>Number.of.Engines</th>\n",
       "      <th>Engine.Type</th>\n",
       "      <th>Purpose.of.flight</th>\n",
       "      <th>Total.Fatal.Injuries</th>\n",
       "      <th>Total.Serious.Injuries</th>\n",
       "      <th>Total.Minor.Injuries</th>\n",
       "      <th>Total.Uninjured</th>\n",
       "      <th>Weather.Condition</th>\n",
       "      <th>Broad.phase.of.flight</th>\n",
       "      <th>Report.Status</th>\n",
       "    </tr>\n",
       "  </thead>\n",
       "  <tbody>\n",
       "    <tr>\n",
       "      <th>0</th>\n",
       "      <td>1948-10-24</td>\n",
       "      <td>MOOSE CREEK, ID</td>\n",
       "      <td>United States</td>\n",
       "      <td>Fatal(2)</td>\n",
       "      <td>Destroyed</td>\n",
       "      <td>Stinson</td>\n",
       "      <td>108-3</td>\n",
       "      <td>1.0</td>\n",
       "      <td>Reciprocating</td>\n",
       "      <td>Personal</td>\n",
       "      <td>2.0</td>\n",
       "      <td>0.0</td>\n",
       "      <td>0.0</td>\n",
       "      <td>0.0</td>\n",
       "      <td>UNK</td>\n",
       "      <td>Cruise</td>\n",
       "      <td>Probable Cause</td>\n",
       "    </tr>\n",
       "    <tr>\n",
       "      <th>1</th>\n",
       "      <td>1962-07-19</td>\n",
       "      <td>BRIDGEPORT, CA</td>\n",
       "      <td>United States</td>\n",
       "      <td>Fatal(4)</td>\n",
       "      <td>Destroyed</td>\n",
       "      <td>Piper</td>\n",
       "      <td>PA24-180</td>\n",
       "      <td>1.0</td>\n",
       "      <td>Reciprocating</td>\n",
       "      <td>Personal</td>\n",
       "      <td>4.0</td>\n",
       "      <td>0.0</td>\n",
       "      <td>0.0</td>\n",
       "      <td>0.0</td>\n",
       "      <td>UNK</td>\n",
       "      <td>Unknown</td>\n",
       "      <td>Probable Cause</td>\n",
       "    </tr>\n",
       "    <tr>\n",
       "      <th>2</th>\n",
       "      <td>1974-08-30</td>\n",
       "      <td>Saltville, VA</td>\n",
       "      <td>United States</td>\n",
       "      <td>Fatal(3)</td>\n",
       "      <td>Destroyed</td>\n",
       "      <td>Cessna</td>\n",
       "      <td>172M</td>\n",
       "      <td>1.0</td>\n",
       "      <td>Reciprocating</td>\n",
       "      <td>Personal</td>\n",
       "      <td>3.0</td>\n",
       "      <td>NaN</td>\n",
       "      <td>NaN</td>\n",
       "      <td>NaN</td>\n",
       "      <td>IMC</td>\n",
       "      <td>Cruise</td>\n",
       "      <td>Probable Cause</td>\n",
       "    </tr>\n",
       "    <tr>\n",
       "      <th>3</th>\n",
       "      <td>1977-06-19</td>\n",
       "      <td>EUREKA, CA</td>\n",
       "      <td>United States</td>\n",
       "      <td>Fatal(2)</td>\n",
       "      <td>Destroyed</td>\n",
       "      <td>Rockwell</td>\n",
       "      <td>112</td>\n",
       "      <td>1.0</td>\n",
       "      <td>Reciprocating</td>\n",
       "      <td>Personal</td>\n",
       "      <td>2.0</td>\n",
       "      <td>0.0</td>\n",
       "      <td>0.0</td>\n",
       "      <td>0.0</td>\n",
       "      <td>IMC</td>\n",
       "      <td>Cruise</td>\n",
       "      <td>Probable Cause</td>\n",
       "    </tr>\n",
       "    <tr>\n",
       "      <th>4</th>\n",
       "      <td>1979-08-02</td>\n",
       "      <td>Canton, OH</td>\n",
       "      <td>United States</td>\n",
       "      <td>Fatal(1)</td>\n",
       "      <td>Destroyed</td>\n",
       "      <td>Cessna</td>\n",
       "      <td>501</td>\n",
       "      <td>NaN</td>\n",
       "      <td>NaN</td>\n",
       "      <td>Personal</td>\n",
       "      <td>1.0</td>\n",
       "      <td>2.0</td>\n",
       "      <td>NaN</td>\n",
       "      <td>0.0</td>\n",
       "      <td>VMC</td>\n",
       "      <td>Approach</td>\n",
       "      <td>Probable Cause</td>\n",
       "    </tr>\n",
       "  </tbody>\n",
       "</table>\n",
       "</div>"
      ],
      "text/plain": [
       "   Event.Date         Location        Country Injury.Severity Aircraft.damage  \\\n",
       "0  1948-10-24  MOOSE CREEK, ID  United States        Fatal(2)       Destroyed   \n",
       "1  1962-07-19   BRIDGEPORT, CA  United States        Fatal(4)       Destroyed   \n",
       "2  1974-08-30    Saltville, VA  United States        Fatal(3)       Destroyed   \n",
       "3  1977-06-19       EUREKA, CA  United States        Fatal(2)       Destroyed   \n",
       "4  1979-08-02       Canton, OH  United States        Fatal(1)       Destroyed   \n",
       "\n",
       "       Make     Model  Number.of.Engines    Engine.Type Purpose.of.flight  \\\n",
       "0   Stinson     108-3                1.0  Reciprocating          Personal   \n",
       "1     Piper  PA24-180                1.0  Reciprocating          Personal   \n",
       "2    Cessna      172M                1.0  Reciprocating          Personal   \n",
       "3  Rockwell       112                1.0  Reciprocating          Personal   \n",
       "4    Cessna       501                NaN            NaN          Personal   \n",
       "\n",
       "   Total.Fatal.Injuries  Total.Serious.Injuries  Total.Minor.Injuries  \\\n",
       "0                   2.0                     0.0                   0.0   \n",
       "1                   4.0                     0.0                   0.0   \n",
       "2                   3.0                     NaN                   NaN   \n",
       "3                   2.0                     0.0                   0.0   \n",
       "4                   1.0                     2.0                   NaN   \n",
       "\n",
       "   Total.Uninjured Weather.Condition Broad.phase.of.flight   Report.Status  \n",
       "0              0.0               UNK                Cruise  Probable Cause  \n",
       "1              0.0               UNK               Unknown  Probable Cause  \n",
       "2              NaN               IMC                Cruise  Probable Cause  \n",
       "3              0.0               IMC                Cruise  Probable Cause  \n",
       "4              0.0               VMC              Approach  Probable Cause  "
      ]
     },
     "execution_count": 28,
     "metadata": {},
     "output_type": "execute_result"
    }
   ],
   "source": [
    "#cleaning up columns\n",
    "data= data.drop(['Event.Id', 'FAR.Description','Publication.Date', 'Aircraft.Category', 'Amateur.Built', 'Registration.Number', 'Accident.Number', 'Latitude', 'Longitude', 'Airport.Code', 'Airport.Name', 'Air.carrier', 'Schedule', 'Investigation.Type', ], axis = 1)\n",
    "data.head()"
   ]
  },
  {
   "cell_type": "code",
   "execution_count": 7,
   "id": "cd9f812e-921e-4880-a1f0-043e717b5c28",
   "metadata": {},
   "outputs": [
    {
     "name": "stdout",
     "output_type": "stream",
     "text": [
      "<class 'pandas.core.frame.DataFrame'>\n",
      "RangeIndex: 90348 entries, 0 to 90347\n",
      "Data columns (total 17 columns):\n",
      " #   Column                  Non-Null Count  Dtype  \n",
      "---  ------                  --------------  -----  \n",
      " 0   Event.Date              88889 non-null  object \n",
      " 1   Location                88837 non-null  object \n",
      " 2   Country                 88663 non-null  object \n",
      " 3   Injury.Severity         87889 non-null  object \n",
      " 4   Aircraft.damage         85695 non-null  object \n",
      " 5   Make                    88826 non-null  object \n",
      " 6   Model                   88797 non-null  object \n",
      " 7   Number.of.Engines       82805 non-null  float64\n",
      " 8   Engine.Type             81812 non-null  object \n",
      " 9   Purpose.of.flight       82697 non-null  object \n",
      " 10  Total.Fatal.Injuries    77488 non-null  float64\n",
      " 11  Total.Serious.Injuries  76379 non-null  float64\n",
      " 12  Total.Minor.Injuries    76956 non-null  float64\n",
      " 13  Total.Uninjured         82977 non-null  float64\n",
      " 14  Weather.Condition       84397 non-null  object \n",
      " 15  Broad.phase.of.flight   61724 non-null  object \n",
      " 16  Report.Status           82508 non-null  object \n",
      "dtypes: float64(5), object(12)\n",
      "memory usage: 11.7+ MB\n"
     ]
    }
   ],
   "source": [
    "data.info()"
   ]
  },
  {
   "cell_type": "code",
   "execution_count": 29,
   "id": "237bd555-1f1f-437e-b9a0-d415511e34f3",
   "metadata": {},
   "outputs": [],
   "source": [
    "#formate date column\n",
    "data['Event.Date'] = pd.to_datetime(data['Event.Date'])"
   ]
  },
  {
   "cell_type": "code",
   "execution_count": 30,
   "id": "323a2a71-b60e-4df7-ad35-7e8a3cedb088",
   "metadata": {},
   "outputs": [],
   "source": [
    "#add column for year and month, so we can later see accidents by year/ by month\n",
    "data['Year'] = data['Event.Date'].dt.year\n",
    "data['Month'] = data['Event.Date'].dt.month_name()"
   ]
  },
  {
   "cell_type": "code",
   "execution_count": 68,
   "id": "5676928a-9e71-40cc-af07-13cdb24471e9",
   "metadata": {},
   "outputs": [],
   "source": [
    "data['Injury.Severity.Type'] = data['Injury.Severity'].str.split('(').str[0]"
   ]
  },
  {
   "cell_type": "code",
   "execution_count": 69,
   "id": "eae38a73-dfbf-4fbf-ac76-ef81249057e8",
   "metadata": {},
   "outputs": [
    {
     "data": {
      "text/plain": [
       "Non-Fatal      67357\n",
       "Fatal          17826\n",
       "Incident        2219\n",
       "Minor            218\n",
       "Serious          173\n",
       "Unavailable       96\n",
       "Name: Injury.Severity.Type, dtype: int64"
      ]
     },
     "execution_count": 69,
     "metadata": {},
     "output_type": "execute_result"
    }
   ],
   "source": [
    "data['Injury.Severity.Type'].value_counts()"
   ]
  },
  {
   "cell_type": "code",
   "execution_count": 10,
   "id": "965bb10f-5969-4a4a-8230-c10a70f84051",
   "metadata": {},
   "outputs": [
    {
     "name": "stdout",
     "output_type": "stream",
     "text": [
      "<class 'pandas.core.frame.DataFrame'>\n",
      "RangeIndex: 90348 entries, 0 to 90347\n",
      "Data columns (total 19 columns):\n",
      " #   Column                  Non-Null Count  Dtype         \n",
      "---  ------                  --------------  -----         \n",
      " 0   Event.Date              88889 non-null  datetime64[ns]\n",
      " 1   Location                88837 non-null  object        \n",
      " 2   Country                 88663 non-null  object        \n",
      " 3   Injury.Severity         87889 non-null  object        \n",
      " 4   Aircraft.damage         85695 non-null  object        \n",
      " 5   Make                    88826 non-null  object        \n",
      " 6   Model                   88797 non-null  object        \n",
      " 7   Number.of.Engines       82805 non-null  float64       \n",
      " 8   Engine.Type             81812 non-null  object        \n",
      " 9   Purpose.of.flight       82697 non-null  object        \n",
      " 10  Total.Fatal.Injuries    77488 non-null  float64       \n",
      " 11  Total.Serious.Injuries  76379 non-null  float64       \n",
      " 12  Total.Minor.Injuries    76956 non-null  float64       \n",
      " 13  Total.Uninjured         82977 non-null  float64       \n",
      " 14  Weather.Condition       84397 non-null  object        \n",
      " 15  Broad.phase.of.flight   61724 non-null  object        \n",
      " 16  Report.Status           82508 non-null  object        \n",
      " 17  Year                    88889 non-null  float64       \n",
      " 18  Month                   88889 non-null  object        \n",
      "dtypes: datetime64[ns](1), float64(6), object(12)\n",
      "memory usage: 13.1+ MB\n"
     ]
    }
   ],
   "source": [
    "data.info()"
   ]
  },
  {
   "cell_type": "code",
   "execution_count": 31,
   "id": "11286d3c-9998-46de-ba2a-5f701e151677",
   "metadata": {},
   "outputs": [
    {
     "data": {
      "text/plain": [
       "United States     82248\n",
       "Brazil              374\n",
       "Canada              359\n",
       "Mexico              358\n",
       "United Kingdom      344\n",
       "                  ...  \n",
       "Nauru                 1\n",
       "Belarus               1\n",
       "Ivory Coast           1\n",
       "Niger                 1\n",
       "Liberia               1\n",
       "Name: Country, Length: 219, dtype: int64"
      ]
     },
     "execution_count": 31,
     "metadata": {},
     "output_type": "execute_result"
    }
   ],
   "source": [
    "data['Country'].value_counts()"
   ]
  },
  {
   "cell_type": "code",
   "execution_count": 32,
   "id": "9befa95f-8fc2-41a7-aac5-dd266c4b5b78",
   "metadata": {},
   "outputs": [],
   "source": [
    "#to only look at accidents within the states, new US dataframe\n",
    "data_us= data[data['Country'] == 'United States']"
   ]
  },
  {
   "cell_type": "code",
   "execution_count": 13,
   "id": "e12f2fc9-33bc-408a-aebc-2b168eb072dc",
   "metadata": {},
   "outputs": [
    {
     "data": {
      "text/plain": [
       "(82248, 19)"
      ]
     },
     "execution_count": 13,
     "metadata": {},
     "output_type": "execute_result"
    }
   ],
   "source": [
    "data_us.shape"
   ]
  },
  {
   "cell_type": "code",
   "execution_count": 21,
   "id": "9d74d1c0-f09e-4eff-a76e-a68ba12b6c11",
   "metadata": {},
   "outputs": [
    {
     "data": {
      "text/plain": [
       "Substantial    61675\n",
       "Destroyed      16425\n",
       "Minor           2119\n",
       "Unknown           50\n",
       "Name: Aircraft.damage, dtype: int64"
      ]
     },
     "execution_count": 21,
     "metadata": {},
     "output_type": "execute_result"
    }
   ],
   "source": [
    "data_us['Aircraft.damage'].value_counts()"
   ]
  },
  {
   "cell_type": "code",
   "execution_count": 22,
   "id": "4cacc530-ff74-49b5-9a66-594d93ee44b2",
   "metadata": {},
   "outputs": [
    {
     "data": {
      "text/plain": [
       "VMC    75317\n",
       "IMC     5618\n",
       "UNK      547\n",
       "Unk      121\n",
       "Name: Weather.Condition, dtype: int64"
      ]
     },
     "execution_count": 22,
     "metadata": {},
     "output_type": "execute_result"
    }
   ],
   "source": [
    "data_us['Weather.Condition'].value_counts()"
   ]
  },
  {
   "cell_type": "code",
   "execution_count": 33,
   "id": "e872d31b-4231-4678-9da8-358252ee7d3f",
   "metadata": {},
   "outputs": [
    {
     "data": {
      "text/html": [
       "<div>\n",
       "<style scoped>\n",
       "    .dataframe tbody tr th:only-of-type {\n",
       "        vertical-align: middle;\n",
       "    }\n",
       "\n",
       "    .dataframe tbody tr th {\n",
       "        vertical-align: top;\n",
       "    }\n",
       "\n",
       "    .dataframe thead th {\n",
       "        text-align: right;\n",
       "    }\n",
       "</style>\n",
       "<table border=\"1\" class=\"dataframe\">\n",
       "  <thead>\n",
       "    <tr style=\"text-align: right;\">\n",
       "      <th></th>\n",
       "      <th>Event.Date</th>\n",
       "      <th>Location</th>\n",
       "      <th>Country</th>\n",
       "      <th>Injury.Severity</th>\n",
       "      <th>Aircraft.damage</th>\n",
       "      <th>Make</th>\n",
       "      <th>Model</th>\n",
       "      <th>Number.of.Engines</th>\n",
       "      <th>Engine.Type</th>\n",
       "      <th>Purpose.of.flight</th>\n",
       "      <th>Total.Fatal.Injuries</th>\n",
       "      <th>Total.Serious.Injuries</th>\n",
       "      <th>Total.Minor.Injuries</th>\n",
       "      <th>Total.Uninjured</th>\n",
       "      <th>Weather.Condition</th>\n",
       "      <th>Broad.phase.of.flight</th>\n",
       "      <th>Report.Status</th>\n",
       "      <th>Year</th>\n",
       "      <th>Month</th>\n",
       "    </tr>\n",
       "  </thead>\n",
       "  <tbody>\n",
       "    <tr>\n",
       "      <th>2099</th>\n",
       "      <td>1982-07-25</td>\n",
       "      <td>LOUISBURG, NC</td>\n",
       "      <td>United States</td>\n",
       "      <td>Fatal(4)</td>\n",
       "      <td>Destroyed</td>\n",
       "      <td>Cessna</td>\n",
       "      <td>182A</td>\n",
       "      <td>1.0</td>\n",
       "      <td>Reciprocating</td>\n",
       "      <td>Skydiving</td>\n",
       "      <td>4.0</td>\n",
       "      <td>1.0</td>\n",
       "      <td>NaN</td>\n",
       "      <td>NaN</td>\n",
       "      <td>VMC</td>\n",
       "      <td>Takeoff</td>\n",
       "      <td>Probable Cause</td>\n",
       "      <td>1982.0</td>\n",
       "      <td>July</td>\n",
       "    </tr>\n",
       "    <tr>\n",
       "      <th>3066</th>\n",
       "      <td>1982-10-17</td>\n",
       "      <td>TAFT, CA</td>\n",
       "      <td>United States</td>\n",
       "      <td>Fatal(14)</td>\n",
       "      <td>Destroyed</td>\n",
       "      <td>Beech</td>\n",
       "      <td>C-45H</td>\n",
       "      <td>2.0</td>\n",
       "      <td>Reciprocating</td>\n",
       "      <td>Skydiving</td>\n",
       "      <td>14.0</td>\n",
       "      <td>NaN</td>\n",
       "      <td>NaN</td>\n",
       "      <td>NaN</td>\n",
       "      <td>VMC</td>\n",
       "      <td>Takeoff</td>\n",
       "      <td>Probable Cause</td>\n",
       "      <td>1982.0</td>\n",
       "      <td>October</td>\n",
       "    </tr>\n",
       "    <tr>\n",
       "      <th>4285</th>\n",
       "      <td>1983-04-02</td>\n",
       "      <td>MCKINNEY, TX</td>\n",
       "      <td>United States</td>\n",
       "      <td>Fatal(1)</td>\n",
       "      <td>NaN</td>\n",
       "      <td>De Havilland</td>\n",
       "      <td>DHC-6</td>\n",
       "      <td>2.0</td>\n",
       "      <td>Turbo Prop</td>\n",
       "      <td>Skydiving</td>\n",
       "      <td>1.0</td>\n",
       "      <td>NaN</td>\n",
       "      <td>NaN</td>\n",
       "      <td>4.0</td>\n",
       "      <td>VMC</td>\n",
       "      <td>Standing</td>\n",
       "      <td>Probable Cause</td>\n",
       "      <td>1983.0</td>\n",
       "      <td>April</td>\n",
       "    </tr>\n",
       "    <tr>\n",
       "      <th>5960</th>\n",
       "      <td>1983-08-21</td>\n",
       "      <td>SILVANA, WA</td>\n",
       "      <td>United States</td>\n",
       "      <td>Fatal(11)</td>\n",
       "      <td>Destroyed</td>\n",
       "      <td>Lockheed</td>\n",
       "      <td>LEARSTAR, L-18-56</td>\n",
       "      <td>2.0</td>\n",
       "      <td>Reciprocating</td>\n",
       "      <td>Skydiving</td>\n",
       "      <td>11.0</td>\n",
       "      <td>2.0</td>\n",
       "      <td>NaN</td>\n",
       "      <td>13.0</td>\n",
       "      <td>VMC</td>\n",
       "      <td>Other</td>\n",
       "      <td>Probable Cause</td>\n",
       "      <td>1983.0</td>\n",
       "      <td>August</td>\n",
       "    </tr>\n",
       "    <tr>\n",
       "      <th>10605</th>\n",
       "      <td>1984-12-30</td>\n",
       "      <td>DUBLIN, VA</td>\n",
       "      <td>United States</td>\n",
       "      <td>Fatal(1)</td>\n",
       "      <td>Destroyed</td>\n",
       "      <td>Cessna</td>\n",
       "      <td>182A</td>\n",
       "      <td>1.0</td>\n",
       "      <td>Reciprocating</td>\n",
       "      <td>Skydiving</td>\n",
       "      <td>1.0</td>\n",
       "      <td>NaN</td>\n",
       "      <td>NaN</td>\n",
       "      <td>NaN</td>\n",
       "      <td>VMC</td>\n",
       "      <td>Maneuvering</td>\n",
       "      <td>Probable Cause</td>\n",
       "      <td>1984.0</td>\n",
       "      <td>December</td>\n",
       "    </tr>\n",
       "  </tbody>\n",
       "</table>\n",
       "</div>"
      ],
      "text/plain": [
       "      Event.Date       Location        Country Injury.Severity  \\\n",
       "2099  1982-07-25  LOUISBURG, NC  United States        Fatal(4)   \n",
       "3066  1982-10-17       TAFT, CA  United States       Fatal(14)   \n",
       "4285  1983-04-02   MCKINNEY, TX  United States        Fatal(1)   \n",
       "5960  1983-08-21    SILVANA, WA  United States       Fatal(11)   \n",
       "10605 1984-12-30     DUBLIN, VA  United States        Fatal(1)   \n",
       "\n",
       "      Aircraft.damage          Make              Model  Number.of.Engines  \\\n",
       "2099        Destroyed        Cessna               182A                1.0   \n",
       "3066        Destroyed         Beech              C-45H                2.0   \n",
       "4285              NaN  De Havilland              DHC-6                2.0   \n",
       "5960        Destroyed      Lockheed  LEARSTAR, L-18-56                2.0   \n",
       "10605       Destroyed        Cessna               182A                1.0   \n",
       "\n",
       "         Engine.Type Purpose.of.flight  Total.Fatal.Injuries  \\\n",
       "2099   Reciprocating         Skydiving                   4.0   \n",
       "3066   Reciprocating         Skydiving                  14.0   \n",
       "4285      Turbo Prop         Skydiving                   1.0   \n",
       "5960   Reciprocating         Skydiving                  11.0   \n",
       "10605  Reciprocating         Skydiving                   1.0   \n",
       "\n",
       "       Total.Serious.Injuries  Total.Minor.Injuries  Total.Uninjured  \\\n",
       "2099                      1.0                   NaN              NaN   \n",
       "3066                      NaN                   NaN              NaN   \n",
       "4285                      NaN                   NaN              4.0   \n",
       "5960                      2.0                   NaN             13.0   \n",
       "10605                     NaN                   NaN              NaN   \n",
       "\n",
       "      Weather.Condition Broad.phase.of.flight   Report.Status    Year  \\\n",
       "2099                VMC               Takeoff  Probable Cause  1982.0   \n",
       "3066                VMC               Takeoff  Probable Cause  1982.0   \n",
       "4285                VMC              Standing  Probable Cause  1983.0   \n",
       "5960                VMC                 Other  Probable Cause  1983.0   \n",
       "10605               VMC           Maneuvering  Probable Cause  1984.0   \n",
       "\n",
       "          Month  \n",
       "2099       July  \n",
       "3066    October  \n",
       "4285      April  \n",
       "5960     August  \n",
       "10605  December  "
      ]
     },
     "execution_count": 33,
     "metadata": {},
     "output_type": "execute_result"
    }
   ],
   "source": [
    "#skydiving specific dataframe\n",
    "skydiving = data_us[data_us['Purpose.of.flight'] == 'Skydiving']\n",
    "skydiving.head()"
   ]
  },
  {
   "cell_type": "code",
   "execution_count": null,
   "id": "70b70356-abae-4263-b22b-8059c535a114",
   "metadata": {},
   "outputs": [],
   "source": []
  },
  {
   "cell_type": "code",
   "execution_count": 34,
   "id": "55f5c366-ee8a-4a92-a973-b1c3eb3736d0",
   "metadata": {},
   "outputs": [],
   "source": [
    "#reset the index\n",
    "skydiving.reset_index(drop= True, inplace=True)"
   ]
  },
  {
   "cell_type": "code",
   "execution_count": 35,
   "id": "1ea9e19d-725e-4dcd-a58c-344f3cacf380",
   "metadata": {},
   "outputs": [
    {
     "data": {
      "text/html": [
       "<div>\n",
       "<style scoped>\n",
       "    .dataframe tbody tr th:only-of-type {\n",
       "        vertical-align: middle;\n",
       "    }\n",
       "\n",
       "    .dataframe tbody tr th {\n",
       "        vertical-align: top;\n",
       "    }\n",
       "\n",
       "    .dataframe thead th {\n",
       "        text-align: right;\n",
       "    }\n",
       "</style>\n",
       "<table border=\"1\" class=\"dataframe\">\n",
       "  <thead>\n",
       "    <tr style=\"text-align: right;\">\n",
       "      <th></th>\n",
       "      <th>Event.Date</th>\n",
       "      <th>Location</th>\n",
       "      <th>Country</th>\n",
       "      <th>Injury.Severity</th>\n",
       "      <th>Aircraft.damage</th>\n",
       "      <th>Make</th>\n",
       "      <th>Model</th>\n",
       "      <th>Number.of.Engines</th>\n",
       "      <th>Engine.Type</th>\n",
       "      <th>Purpose.of.flight</th>\n",
       "      <th>Total.Fatal.Injuries</th>\n",
       "      <th>Total.Serious.Injuries</th>\n",
       "      <th>Total.Minor.Injuries</th>\n",
       "      <th>Total.Uninjured</th>\n",
       "      <th>Weather.Condition</th>\n",
       "      <th>Broad.phase.of.flight</th>\n",
       "      <th>Report.Status</th>\n",
       "      <th>Year</th>\n",
       "      <th>Month</th>\n",
       "    </tr>\n",
       "  </thead>\n",
       "  <tbody>\n",
       "    <tr>\n",
       "      <th>0</th>\n",
       "      <td>1982-07-25</td>\n",
       "      <td>LOUISBURG, NC</td>\n",
       "      <td>United States</td>\n",
       "      <td>Fatal(4)</td>\n",
       "      <td>Destroyed</td>\n",
       "      <td>Cessna</td>\n",
       "      <td>182A</td>\n",
       "      <td>1.0</td>\n",
       "      <td>Reciprocating</td>\n",
       "      <td>Skydiving</td>\n",
       "      <td>4.0</td>\n",
       "      <td>1.0</td>\n",
       "      <td>NaN</td>\n",
       "      <td>NaN</td>\n",
       "      <td>VMC</td>\n",
       "      <td>Takeoff</td>\n",
       "      <td>Probable Cause</td>\n",
       "      <td>1982.0</td>\n",
       "      <td>July</td>\n",
       "    </tr>\n",
       "    <tr>\n",
       "      <th>1</th>\n",
       "      <td>1982-10-17</td>\n",
       "      <td>TAFT, CA</td>\n",
       "      <td>United States</td>\n",
       "      <td>Fatal(14)</td>\n",
       "      <td>Destroyed</td>\n",
       "      <td>Beech</td>\n",
       "      <td>C-45H</td>\n",
       "      <td>2.0</td>\n",
       "      <td>Reciprocating</td>\n",
       "      <td>Skydiving</td>\n",
       "      <td>14.0</td>\n",
       "      <td>NaN</td>\n",
       "      <td>NaN</td>\n",
       "      <td>NaN</td>\n",
       "      <td>VMC</td>\n",
       "      <td>Takeoff</td>\n",
       "      <td>Probable Cause</td>\n",
       "      <td>1982.0</td>\n",
       "      <td>October</td>\n",
       "    </tr>\n",
       "    <tr>\n",
       "      <th>2</th>\n",
       "      <td>1983-04-02</td>\n",
       "      <td>MCKINNEY, TX</td>\n",
       "      <td>United States</td>\n",
       "      <td>Fatal(1)</td>\n",
       "      <td>NaN</td>\n",
       "      <td>De Havilland</td>\n",
       "      <td>DHC-6</td>\n",
       "      <td>2.0</td>\n",
       "      <td>Turbo Prop</td>\n",
       "      <td>Skydiving</td>\n",
       "      <td>1.0</td>\n",
       "      <td>NaN</td>\n",
       "      <td>NaN</td>\n",
       "      <td>4.0</td>\n",
       "      <td>VMC</td>\n",
       "      <td>Standing</td>\n",
       "      <td>Probable Cause</td>\n",
       "      <td>1983.0</td>\n",
       "      <td>April</td>\n",
       "    </tr>\n",
       "    <tr>\n",
       "      <th>3</th>\n",
       "      <td>1983-08-21</td>\n",
       "      <td>SILVANA, WA</td>\n",
       "      <td>United States</td>\n",
       "      <td>Fatal(11)</td>\n",
       "      <td>Destroyed</td>\n",
       "      <td>Lockheed</td>\n",
       "      <td>LEARSTAR, L-18-56</td>\n",
       "      <td>2.0</td>\n",
       "      <td>Reciprocating</td>\n",
       "      <td>Skydiving</td>\n",
       "      <td>11.0</td>\n",
       "      <td>2.0</td>\n",
       "      <td>NaN</td>\n",
       "      <td>13.0</td>\n",
       "      <td>VMC</td>\n",
       "      <td>Other</td>\n",
       "      <td>Probable Cause</td>\n",
       "      <td>1983.0</td>\n",
       "      <td>August</td>\n",
       "    </tr>\n",
       "    <tr>\n",
       "      <th>4</th>\n",
       "      <td>1984-12-30</td>\n",
       "      <td>DUBLIN, VA</td>\n",
       "      <td>United States</td>\n",
       "      <td>Fatal(1)</td>\n",
       "      <td>Destroyed</td>\n",
       "      <td>Cessna</td>\n",
       "      <td>182A</td>\n",
       "      <td>1.0</td>\n",
       "      <td>Reciprocating</td>\n",
       "      <td>Skydiving</td>\n",
       "      <td>1.0</td>\n",
       "      <td>NaN</td>\n",
       "      <td>NaN</td>\n",
       "      <td>NaN</td>\n",
       "      <td>VMC</td>\n",
       "      <td>Maneuvering</td>\n",
       "      <td>Probable Cause</td>\n",
       "      <td>1984.0</td>\n",
       "      <td>December</td>\n",
       "    </tr>\n",
       "  </tbody>\n",
       "</table>\n",
       "</div>"
      ],
      "text/plain": [
       "  Event.Date       Location        Country Injury.Severity Aircraft.damage  \\\n",
       "0 1982-07-25  LOUISBURG, NC  United States        Fatal(4)       Destroyed   \n",
       "1 1982-10-17       TAFT, CA  United States       Fatal(14)       Destroyed   \n",
       "2 1983-04-02   MCKINNEY, TX  United States        Fatal(1)             NaN   \n",
       "3 1983-08-21    SILVANA, WA  United States       Fatal(11)       Destroyed   \n",
       "4 1984-12-30     DUBLIN, VA  United States        Fatal(1)       Destroyed   \n",
       "\n",
       "           Make              Model  Number.of.Engines    Engine.Type  \\\n",
       "0        Cessna               182A                1.0  Reciprocating   \n",
       "1         Beech              C-45H                2.0  Reciprocating   \n",
       "2  De Havilland              DHC-6                2.0     Turbo Prop   \n",
       "3      Lockheed  LEARSTAR, L-18-56                2.0  Reciprocating   \n",
       "4        Cessna               182A                1.0  Reciprocating   \n",
       "\n",
       "  Purpose.of.flight  Total.Fatal.Injuries  Total.Serious.Injuries  \\\n",
       "0         Skydiving                   4.0                     1.0   \n",
       "1         Skydiving                  14.0                     NaN   \n",
       "2         Skydiving                   1.0                     NaN   \n",
       "3         Skydiving                  11.0                     2.0   \n",
       "4         Skydiving                   1.0                     NaN   \n",
       "\n",
       "   Total.Minor.Injuries  Total.Uninjured Weather.Condition  \\\n",
       "0                   NaN              NaN               VMC   \n",
       "1                   NaN              NaN               VMC   \n",
       "2                   NaN              4.0               VMC   \n",
       "3                   NaN             13.0               VMC   \n",
       "4                   NaN              NaN               VMC   \n",
       "\n",
       "  Broad.phase.of.flight   Report.Status    Year     Month  \n",
       "0               Takeoff  Probable Cause  1982.0      July  \n",
       "1               Takeoff  Probable Cause  1982.0   October  \n",
       "2              Standing  Probable Cause  1983.0     April  \n",
       "3                 Other  Probable Cause  1983.0    August  \n",
       "4           Maneuvering  Probable Cause  1984.0  December  "
      ]
     },
     "execution_count": 35,
     "metadata": {},
     "output_type": "execute_result"
    }
   ],
   "source": [
    "skydiving.head()\n"
   ]
  },
  {
   "cell_type": "code",
   "execution_count": null,
   "id": "0e87754f-3c00-449c-92e2-2dfa82558345",
   "metadata": {},
   "outputs": [],
   "source": []
  },
  {
   "cell_type": "code",
   "execution_count": 25,
   "id": "6c97d462-850e-4702-90e2-a97cdbb6b649",
   "metadata": {},
   "outputs": [
    {
     "name": "stdout",
     "output_type": "stream",
     "text": [
      "<class 'pandas.core.frame.DataFrame'>\n",
      "RangeIndex: 171 entries, 0 to 170\n",
      "Data columns (total 19 columns):\n",
      " #   Column                  Non-Null Count  Dtype         \n",
      "---  ------                  --------------  -----         \n",
      " 0   Event.Date              171 non-null    datetime64[ns]\n",
      " 1   Location                171 non-null    object        \n",
      " 2   Country                 171 non-null    object        \n",
      " 3   Injury.Severity         171 non-null    object        \n",
      " 4   Aircraft.damage         167 non-null    object        \n",
      " 5   Make                    171 non-null    object        \n",
      " 6   Model                   171 non-null    object        \n",
      " 7   Number.of.Engines       171 non-null    float64       \n",
      " 8   Engine.Type             165 non-null    object        \n",
      " 9   Purpose.of.flight       171 non-null    object        \n",
      " 10  Total.Fatal.Injuries    141 non-null    float64       \n",
      " 11  Total.Serious.Injuries  121 non-null    float64       \n",
      " 12  Total.Minor.Injuries    117 non-null    float64       \n",
      " 13  Total.Uninjured         135 non-null    float64       \n",
      " 14  Weather.Condition       171 non-null    object        \n",
      " 15  Broad.phase.of.flight   70 non-null     object        \n",
      " 16  Report.Status           165 non-null    object        \n",
      " 17  Year                    171 non-null    float64       \n",
      " 18  Month                   171 non-null    object        \n",
      "dtypes: datetime64[ns](1), float64(6), object(12)\n",
      "memory usage: 25.5+ KB\n"
     ]
    }
   ],
   "source": [
    "skydiving.info()"
   ]
  },
  {
   "cell_type": "code",
   "execution_count": 26,
   "id": "c0fbc615-17c3-4463-84dd-3220eff74d3a",
   "metadata": {},
   "outputs": [
    {
     "data": {
      "text/plain": [
       "Substantial    125\n",
       "Destroyed       34\n",
       "Minor            8\n",
       "Name: Aircraft.damage, dtype: int64"
      ]
     },
     "execution_count": 26,
     "metadata": {},
     "output_type": "execute_result"
    }
   ],
   "source": [
    "skydiving['Aircraft.damage'].value_counts()"
   ]
  },
  {
   "cell_type": "code",
   "execution_count": 27,
   "id": "2b447416-9e5d-4968-9e87-284a2f4d4c8f",
   "metadata": {},
   "outputs": [
    {
     "data": {
      "text/plain": [
       "0.0     87\n",
       "1.0     26\n",
       "5.0      5\n",
       "6.0      4\n",
       "4.0      4\n",
       "2.0      3\n",
       "12.0     2\n",
       "7.0      2\n",
       "3.0      2\n",
       "11.0     2\n",
       "10.0     1\n",
       "16.0     1\n",
       "17.0     1\n",
       "14.0     1\n",
       "Name: Total.Fatal.Injuries, dtype: int64"
      ]
     },
     "execution_count": 27,
     "metadata": {},
     "output_type": "execute_result"
    }
   ],
   "source": [
    "skydiving['Total.Fatal.Injuries'].value_counts()"
   ]
  },
  {
   "cell_type": "code",
   "execution_count": 28,
   "id": "c1f890ba-25f0-4e49-80a5-3a873d066253",
   "metadata": {
    "scrolled": true
   },
   "outputs": [
    {
     "data": {
      "text/plain": [
       "0.0    78\n",
       "1.0    27\n",
       "2.0     7\n",
       "4.0     4\n",
       "5.0     2\n",
       "3.0     1\n",
       "7.0     1\n",
       "6.0     1\n",
       "Name: Total.Serious.Injuries, dtype: int64"
      ]
     },
     "execution_count": 28,
     "metadata": {},
     "output_type": "execute_result"
    }
   ],
   "source": [
    "skydiving['Total.Serious.Injuries'].value_counts()"
   ]
  },
  {
   "cell_type": "code",
   "execution_count": 29,
   "id": "32ad6e53-baf8-4a3e-869a-e6c9ce4524c0",
   "metadata": {},
   "outputs": [
    {
     "data": {
      "text/plain": [
       "0.0     91\n",
       "1.0     19\n",
       "2.0      5\n",
       "6.0      1\n",
       "13.0     1\n",
       "Name: Total.Minor.Injuries, dtype: int64"
      ]
     },
     "execution_count": 29,
     "metadata": {},
     "output_type": "execute_result"
    }
   ],
   "source": [
    "skydiving['Total.Minor.Injuries'].value_counts()"
   ]
  },
  {
   "cell_type": "code",
   "execution_count": 30,
   "id": "ebaaf0a1-34d2-4215-bad5-a34e0b1ad65e",
   "metadata": {},
   "outputs": [
    {
     "data": {
      "text/plain": [
       "1.0     50\n",
       "0.0     21\n",
       "4.0     13\n",
       "5.0     10\n",
       "2.0      6\n",
       "7.0      6\n",
       "3.0      6\n",
       "6.0      4\n",
       "15.0     4\n",
       "12.0     4\n",
       "10.0     4\n",
       "17.0     3\n",
       "13.0     2\n",
       "14.0     1\n",
       "22.0     1\n",
       "Name: Total.Uninjured, dtype: int64"
      ]
     },
     "execution_count": 30,
     "metadata": {},
     "output_type": "execute_result"
    }
   ],
   "source": [
    "skydiving['Total.Uninjured'].value_counts()"
   ]
  },
  {
   "cell_type": "code",
   "execution_count": 32,
   "id": "5a653380-9d18-4342-8adc-ba6e1ea9cc55",
   "metadata": {},
   "outputs": [],
   "source": []
  },
  {
   "cell_type": "code",
   "execution_count": 34,
   "id": "b5da4f9f-8c42-4839-ba7f-3373076846c2",
   "metadata": {},
   "outputs": [
    {
     "data": {
      "text/plain": [
       "CESSNA                        72\n",
       "Cessna                        54\n",
       "Beech                         12\n",
       "De Havilland                  10\n",
       "BEECH                          6\n",
       "DEHAVILLAND                    5\n",
       "PACIFIC AEROSPACE CORP LTD     3\n",
       "Lockheed                       2\n",
       "Pilatus                        2\n",
       "de Havilland                   1\n",
       "C A S A                        1\n",
       "Helio                          1\n",
       "BOEING                         1\n",
       "FIREFLY BALLOONS INC           1\n",
       "Name: Make, dtype: int64"
      ]
     },
     "execution_count": 34,
     "metadata": {},
     "output_type": "execute_result"
    }
   ],
   "source": [
    "skydiving['Make'].value_counts()"
   ]
  },
  {
   "cell_type": "code",
   "execution_count": 36,
   "id": "9c793780-f152-4e4d-b771-f1b49f9c81d3",
   "metadata": {},
   "outputs": [
    {
     "name": "stderr",
     "output_type": "stream",
     "text": [
      "<ipython-input-36-7d80e706a174>:1: SettingWithCopyWarning: \n",
      "A value is trying to be set on a copy of a slice from a DataFrame.\n",
      "Try using .loc[row_indexer,col_indexer] = value instead\n",
      "\n",
      "See the caveats in the documentation: https://pandas.pydata.org/pandas-docs/stable/user_guide/indexing.html#returning-a-view-versus-a-copy\n",
      "  skydiving['Make'] = skydiving['Make'].str.title()\n"
     ]
    }
   ],
   "source": [
    "skydiving['Make'] = skydiving['Make'].str.title()"
   ]
  },
  {
   "cell_type": "code",
   "execution_count": 37,
   "id": "6f1823f6-2108-4871-99e9-2d60972476e4",
   "metadata": {},
   "outputs": [
    {
     "data": {
      "text/plain": [
       "Cessna                        126\n",
       "Beech                          18\n",
       "De Havilland                   11\n",
       "Dehavilland                     5\n",
       "Pacific Aerospace Corp Ltd      3\n",
       "Pilatus                         2\n",
       "Lockheed                        2\n",
       "Helio                           1\n",
       "Firefly Balloons Inc            1\n",
       "C A S A                         1\n",
       "Boeing                          1\n",
       "Name: Make, dtype: int64"
      ]
     },
     "execution_count": 37,
     "metadata": {},
     "output_type": "execute_result"
    }
   ],
   "source": [
    "skydiving['Make'].value_counts()"
   ]
  },
  {
   "cell_type": "code",
   "execution_count": 38,
   "id": "596edbb6-b45f-444f-9169-92e7d0045a91",
   "metadata": {},
   "outputs": [
    {
     "name": "stderr",
     "output_type": "stream",
     "text": [
      "<ipython-input-38-d251656d6c6c>:1: SettingWithCopyWarning: \n",
      "A value is trying to be set on a copy of a slice from a DataFrame.\n",
      "Try using .loc[row_indexer,col_indexer] = value instead\n",
      "\n",
      "See the caveats in the documentation: https://pandas.pydata.org/pandas-docs/stable/user_guide/indexing.html#returning-a-view-versus-a-copy\n",
      "  skydiving['Make'] = skydiving['Make'].replace('Dehavilland', 'De Havilland')\n"
     ]
    }
   ],
   "source": [
    "skydiving['Make'] = skydiving['Make'].replace('Dehavilland', 'De Havilland')"
   ]
  },
  {
   "cell_type": "code",
   "execution_count": 39,
   "id": "1f2a8664-5439-46bc-bb37-de6f51a75b00",
   "metadata": {},
   "outputs": [
    {
     "data": {
      "text/plain": [
       "Cessna                        126\n",
       "Beech                          18\n",
       "De Havilland                   16\n",
       "Pacific Aerospace Corp Ltd      3\n",
       "Pilatus                         2\n",
       "Lockheed                        2\n",
       "Helio                           1\n",
       "Firefly Balloons Inc            1\n",
       "C A S A                         1\n",
       "Boeing                          1\n",
       "Name: Make, dtype: int64"
      ]
     },
     "execution_count": 39,
     "metadata": {},
     "output_type": "execute_result"
    }
   ],
   "source": [
    "skydiving['Make'].value_counts()"
   ]
  },
  {
   "cell_type": "code",
   "execution_count": 39,
   "id": "8a9b3bc6-df29-45bb-afd2-80f68142e13c",
   "metadata": {},
   "outputs": [
    {
     "data": {
      "text/plain": [
       "182A                 29\n",
       "182                  29\n",
       "208                   9\n",
       "208B                  6\n",
       "182C                  6\n",
       "                     ..\n",
       "U206G                 1\n",
       "LEARSTAR, L-18-56     1\n",
       "DHC-6-6               1\n",
       "A185F                 1\n",
       "G18 - S               1\n",
       "Name: Model, Length: 66, dtype: int64"
      ]
     },
     "execution_count": 39,
     "metadata": {},
     "output_type": "execute_result"
    }
   ],
   "source": [
    "skydiving['Model'].value_counts()"
   ]
  },
  {
   "cell_type": "code",
   "execution_count": 40,
   "id": "fdeef2d9-d17c-4d92-a283-ba4fe09caa8c",
   "metadata": {},
   "outputs": [],
   "source": [
    "#When exploring the skydiving accidents, we see that the Make: Cessna and the models 182 and 182A are the most common. We'll use this\n",
    "#to look further into the full set of data."
   ]
  },
  {
   "cell_type": "code",
   "execution_count": 40,
   "id": "dd6c198e-0409-44d2-95c6-f5c8a99af11d",
   "metadata": {},
   "outputs": [
    {
     "data": {
      "text/plain": [
       "Non-Fatal    114\n",
       "Fatal(1)      17\n",
       "Fatal         15\n",
       "Fatal(6)       4\n",
       "Fatal(5)       4\n",
       "Fatal(4)       3\n",
       "Fatal(2)       2\n",
       "Fatal(7)       2\n",
       "Fatal(12)      2\n",
       "Fatal(10)      1\n",
       "Fatal(16)      1\n",
       "Fatal(17)      1\n",
       "Serious        1\n",
       "Fatal(3)       1\n",
       "Minor          1\n",
       "Fatal(11)      1\n",
       "Fatal(14)      1\n",
       "Name: Injury.Severity, dtype: int64"
      ]
     },
     "execution_count": 40,
     "metadata": {},
     "output_type": "execute_result"
    }
   ],
   "source": [
    "skydiving['Injury.Severity'].value_counts()"
   ]
  },
  {
   "cell_type": "code",
   "execution_count": 41,
   "id": "1d9428dd-91a3-4f55-ac50-3f8b0b8fe5eb",
   "metadata": {},
   "outputs": [
    {
     "data": {
      "text/plain": [
       "0.0     87\n",
       "1.0     26\n",
       "5.0      5\n",
       "6.0      4\n",
       "4.0      4\n",
       "2.0      3\n",
       "12.0     2\n",
       "7.0      2\n",
       "3.0      2\n",
       "11.0     2\n",
       "10.0     1\n",
       "16.0     1\n",
       "17.0     1\n",
       "14.0     1\n",
       "Name: Total.Fatal.Injuries, dtype: int64"
      ]
     },
     "execution_count": 41,
     "metadata": {},
     "output_type": "execute_result"
    }
   ],
   "source": [
    "skydiving['Total.Fatal.Injuries'].value_counts()"
   ]
  },
  {
   "cell_type": "code",
   "execution_count": 28,
   "id": "2cff4003-e0b7-4db3-9de9-8a694e1183d4",
   "metadata": {},
   "outputs": [],
   "source": [
    "#Injury.Severity Column -Fatal() doesn't match the Total.Fatal.Injuries Column-> Total.Fatal.Injuries Column missing values"
   ]
  },
  {
   "cell_type": "code",
   "execution_count": 41,
   "id": "f1144045-3907-4d58-893a-6654c52a5b19",
   "metadata": {},
   "outputs": [
    {
     "name": "stderr",
     "output_type": "stream",
     "text": [
      "<ipython-input-41-02aa09b47540>:1: SettingWithCopyWarning: \n",
      "A value is trying to be set on a copy of a slice from a DataFrame.\n",
      "Try using .loc[row_indexer,col_indexer] = value instead\n",
      "\n",
      "See the caveats in the documentation: https://pandas.pydata.org/pandas-docs/stable/user_guide/indexing.html#returning-a-view-versus-a-copy\n",
      "  skydiving['Fatality'] = skydiving['Injury.Severity'].apply(lambda x: 'Non-Fatal' if 'non-fatal' in x.lower() else 'Fatal')\n"
     ]
    },
    {
     "data": {
      "text/html": [
       "<div>\n",
       "<style scoped>\n",
       "    .dataframe tbody tr th:only-of-type {\n",
       "        vertical-align: middle;\n",
       "    }\n",
       "\n",
       "    .dataframe tbody tr th {\n",
       "        vertical-align: top;\n",
       "    }\n",
       "\n",
       "    .dataframe thead th {\n",
       "        text-align: right;\n",
       "    }\n",
       "</style>\n",
       "<table border=\"1\" class=\"dataframe\">\n",
       "  <thead>\n",
       "    <tr style=\"text-align: right;\">\n",
       "      <th></th>\n",
       "      <th>Event.Date</th>\n",
       "      <th>Location</th>\n",
       "      <th>Country</th>\n",
       "      <th>Injury.Severity</th>\n",
       "      <th>Aircraft.damage</th>\n",
       "      <th>Make</th>\n",
       "      <th>Model</th>\n",
       "      <th>Number.of.Engines</th>\n",
       "      <th>Engine.Type</th>\n",
       "      <th>Purpose.of.flight</th>\n",
       "      <th>Total.Fatal.Injuries</th>\n",
       "      <th>Total.Serious.Injuries</th>\n",
       "      <th>Total.Minor.Injuries</th>\n",
       "      <th>Total.Uninjured</th>\n",
       "      <th>Weather.Condition</th>\n",
       "      <th>Broad.phase.of.flight</th>\n",
       "      <th>Report.Status</th>\n",
       "      <th>Year</th>\n",
       "      <th>Month</th>\n",
       "      <th>Fatality</th>\n",
       "    </tr>\n",
       "  </thead>\n",
       "  <tbody>\n",
       "    <tr>\n",
       "      <th>0</th>\n",
       "      <td>1982-07-25</td>\n",
       "      <td>LOUISBURG, NC</td>\n",
       "      <td>United States</td>\n",
       "      <td>Fatal(4)</td>\n",
       "      <td>Destroyed</td>\n",
       "      <td>Cessna</td>\n",
       "      <td>182A</td>\n",
       "      <td>1.0</td>\n",
       "      <td>Reciprocating</td>\n",
       "      <td>Skydiving</td>\n",
       "      <td>4.0</td>\n",
       "      <td>1.0</td>\n",
       "      <td>NaN</td>\n",
       "      <td>NaN</td>\n",
       "      <td>VMC</td>\n",
       "      <td>Takeoff</td>\n",
       "      <td>Probable Cause</td>\n",
       "      <td>1982.0</td>\n",
       "      <td>July</td>\n",
       "      <td>Fatal</td>\n",
       "    </tr>\n",
       "    <tr>\n",
       "      <th>1</th>\n",
       "      <td>1982-10-17</td>\n",
       "      <td>TAFT, CA</td>\n",
       "      <td>United States</td>\n",
       "      <td>Fatal(14)</td>\n",
       "      <td>Destroyed</td>\n",
       "      <td>Beech</td>\n",
       "      <td>C-45H</td>\n",
       "      <td>2.0</td>\n",
       "      <td>Reciprocating</td>\n",
       "      <td>Skydiving</td>\n",
       "      <td>14.0</td>\n",
       "      <td>NaN</td>\n",
       "      <td>NaN</td>\n",
       "      <td>NaN</td>\n",
       "      <td>VMC</td>\n",
       "      <td>Takeoff</td>\n",
       "      <td>Probable Cause</td>\n",
       "      <td>1982.0</td>\n",
       "      <td>October</td>\n",
       "      <td>Fatal</td>\n",
       "    </tr>\n",
       "    <tr>\n",
       "      <th>2</th>\n",
       "      <td>1983-04-02</td>\n",
       "      <td>MCKINNEY, TX</td>\n",
       "      <td>United States</td>\n",
       "      <td>Fatal(1)</td>\n",
       "      <td>NaN</td>\n",
       "      <td>De Havilland</td>\n",
       "      <td>DHC-6</td>\n",
       "      <td>2.0</td>\n",
       "      <td>Turbo Prop</td>\n",
       "      <td>Skydiving</td>\n",
       "      <td>1.0</td>\n",
       "      <td>NaN</td>\n",
       "      <td>NaN</td>\n",
       "      <td>4.0</td>\n",
       "      <td>VMC</td>\n",
       "      <td>Standing</td>\n",
       "      <td>Probable Cause</td>\n",
       "      <td>1983.0</td>\n",
       "      <td>April</td>\n",
       "      <td>Fatal</td>\n",
       "    </tr>\n",
       "    <tr>\n",
       "      <th>3</th>\n",
       "      <td>1983-08-21</td>\n",
       "      <td>SILVANA, WA</td>\n",
       "      <td>United States</td>\n",
       "      <td>Fatal(11)</td>\n",
       "      <td>Destroyed</td>\n",
       "      <td>Lockheed</td>\n",
       "      <td>LEARSTAR, L-18-56</td>\n",
       "      <td>2.0</td>\n",
       "      <td>Reciprocating</td>\n",
       "      <td>Skydiving</td>\n",
       "      <td>11.0</td>\n",
       "      <td>2.0</td>\n",
       "      <td>NaN</td>\n",
       "      <td>13.0</td>\n",
       "      <td>VMC</td>\n",
       "      <td>Other</td>\n",
       "      <td>Probable Cause</td>\n",
       "      <td>1983.0</td>\n",
       "      <td>August</td>\n",
       "      <td>Fatal</td>\n",
       "    </tr>\n",
       "    <tr>\n",
       "      <th>4</th>\n",
       "      <td>1984-12-30</td>\n",
       "      <td>DUBLIN, VA</td>\n",
       "      <td>United States</td>\n",
       "      <td>Fatal(1)</td>\n",
       "      <td>Destroyed</td>\n",
       "      <td>Cessna</td>\n",
       "      <td>182A</td>\n",
       "      <td>1.0</td>\n",
       "      <td>Reciprocating</td>\n",
       "      <td>Skydiving</td>\n",
       "      <td>1.0</td>\n",
       "      <td>NaN</td>\n",
       "      <td>NaN</td>\n",
       "      <td>NaN</td>\n",
       "      <td>VMC</td>\n",
       "      <td>Maneuvering</td>\n",
       "      <td>Probable Cause</td>\n",
       "      <td>1984.0</td>\n",
       "      <td>December</td>\n",
       "      <td>Fatal</td>\n",
       "    </tr>\n",
       "  </tbody>\n",
       "</table>\n",
       "</div>"
      ],
      "text/plain": [
       "  Event.Date       Location        Country Injury.Severity Aircraft.damage  \\\n",
       "0 1982-07-25  LOUISBURG, NC  United States        Fatal(4)       Destroyed   \n",
       "1 1982-10-17       TAFT, CA  United States       Fatal(14)       Destroyed   \n",
       "2 1983-04-02   MCKINNEY, TX  United States        Fatal(1)             NaN   \n",
       "3 1983-08-21    SILVANA, WA  United States       Fatal(11)       Destroyed   \n",
       "4 1984-12-30     DUBLIN, VA  United States        Fatal(1)       Destroyed   \n",
       "\n",
       "           Make              Model  Number.of.Engines    Engine.Type  \\\n",
       "0        Cessna               182A                1.0  Reciprocating   \n",
       "1         Beech              C-45H                2.0  Reciprocating   \n",
       "2  De Havilland              DHC-6                2.0     Turbo Prop   \n",
       "3      Lockheed  LEARSTAR, L-18-56                2.0  Reciprocating   \n",
       "4        Cessna               182A                1.0  Reciprocating   \n",
       "\n",
       "  Purpose.of.flight  Total.Fatal.Injuries  Total.Serious.Injuries  \\\n",
       "0         Skydiving                   4.0                     1.0   \n",
       "1         Skydiving                  14.0                     NaN   \n",
       "2         Skydiving                   1.0                     NaN   \n",
       "3         Skydiving                  11.0                     2.0   \n",
       "4         Skydiving                   1.0                     NaN   \n",
       "\n",
       "   Total.Minor.Injuries  Total.Uninjured Weather.Condition  \\\n",
       "0                   NaN              NaN               VMC   \n",
       "1                   NaN              NaN               VMC   \n",
       "2                   NaN              4.0               VMC   \n",
       "3                   NaN             13.0               VMC   \n",
       "4                   NaN              NaN               VMC   \n",
       "\n",
       "  Broad.phase.of.flight   Report.Status    Year     Month Fatality  \n",
       "0               Takeoff  Probable Cause  1982.0      July    Fatal  \n",
       "1               Takeoff  Probable Cause  1982.0   October    Fatal  \n",
       "2              Standing  Probable Cause  1983.0     April    Fatal  \n",
       "3                 Other  Probable Cause  1983.0    August    Fatal  \n",
       "4           Maneuvering  Probable Cause  1984.0  December    Fatal  "
      ]
     },
     "execution_count": 41,
     "metadata": {},
     "output_type": "execute_result"
    }
   ],
   "source": [
    "skydiving['Fatality'] = skydiving['Injury.Severity'].apply(lambda x: 'Non-Fatal' if 'non-fatal' in x.lower() else 'Fatal')\n",
    "skydiving.head()"
   ]
  },
  {
   "cell_type": "code",
   "execution_count": 42,
   "id": "50274f43-1d83-4839-a83b-faad88be563d",
   "metadata": {},
   "outputs": [
    {
     "name": "stdout",
     "output_type": "stream",
     "text": [
      "                          Make   Fatality  Count\n",
      "0                        Beech      Fatal     12\n",
      "1                        Beech  Non-Fatal      6\n",
      "2                       Boeing  Non-Fatal      1\n",
      "3                      C A S A      Fatal      1\n",
      "4                       Cessna      Fatal     31\n",
      "5                       Cessna  Non-Fatal     95\n",
      "6                 De Havilland      Fatal      9\n",
      "7                 De Havilland  Non-Fatal      7\n",
      "8         Firefly Balloons Inc      Fatal      1\n",
      "9                        Helio      Fatal      1\n",
      "10                    Lockheed      Fatal      2\n",
      "11  Pacific Aerospace Corp Ltd  Non-Fatal      3\n",
      "12                     Pilatus  Non-Fatal      2\n"
     ]
    }
   ],
   "source": [
    "grouped4 = skydiving.groupby(['Make', 'Fatality']).size().reset_index(name='Count')\n",
    "\n",
    "print(grouped4)"
   ]
  },
  {
   "cell_type": "code",
   "execution_count": null,
   "id": "dc1704a1-ddd8-45a6-a09d-c0fcc5b0cef7",
   "metadata": {},
   "outputs": [],
   "source": []
  },
  {
   "cell_type": "code",
   "execution_count": null,
   "id": "959e2fa1-90dd-4251-9b9f-85d8b6f8b05c",
   "metadata": {},
   "outputs": [],
   "source": []
  },
  {
   "cell_type": "code",
   "execution_count": null,
   "id": "8fd9de44-0a27-4572-b971-516417179e91",
   "metadata": {},
   "outputs": [],
   "source": []
  },
  {
   "cell_type": "code",
   "execution_count": null,
   "id": "bdd2189b-300b-48e3-b233-0cdd9a4652ba",
   "metadata": {},
   "outputs": [],
   "source": []
  },
  {
   "cell_type": "code",
   "execution_count": null,
   "id": "1baaaf7a-4cfe-4347-ba31-f6870f925fed",
   "metadata": {},
   "outputs": [],
   "source": []
  },
  {
   "cell_type": "code",
   "execution_count": null,
   "id": "abf7c9a8-d4fe-4c5a-96e6-aaa2d4bff69f",
   "metadata": {},
   "outputs": [],
   "source": []
  },
  {
   "cell_type": "code",
   "execution_count": null,
   "id": "2e3506ef-af9e-42c5-8192-48075c89ed9b",
   "metadata": {},
   "outputs": [],
   "source": []
  },
  {
   "cell_type": "code",
   "execution_count": null,
   "id": "619e900c-ec63-474b-9192-e3f2beef9ba4",
   "metadata": {},
   "outputs": [],
   "source": []
  },
  {
   "cell_type": "code",
   "execution_count": 43,
   "id": "8df4e863-c6d1-48d8-9315-abd16b102a93",
   "metadata": {},
   "outputs": [
    {
     "data": {
      "image/png": "[encoded data removed]",
      "text/plain": [
       "<Figure size 720x288 with 1 Axes>"
      ]
     },
     "metadata": {
      "needs_background": "light"
     },
     "output_type": "display_data"
    }
   ],
   "source": [
    "make_ordered = skydiving['Make'].value_counts(ascending=False).index[:5]\n",
    "\n",
    "# Create a figure with a wider aspect ratio\n",
    "fig, ax = plt.subplots(figsize=(10, 4))  # Adjust the width (10) as needed\n",
    "sns.countplot(x='Make', data=skydiving, order= make_ordered)\n",
    "plt.xticks(rotation=45)\n",
    "ax.set_title(\"Top 5 Most Reported Skydiving Accidents by Aircraft Make\")\n",
    "plt.show()\n"
   ]
  },
  {
   "cell_type": "code",
   "execution_count": 48,
   "id": "bf2f7a96-e514-4939-bcd0-0b8aac294bcf",
   "metadata": {},
   "outputs": [],
   "source": [
    "# We will begin by looking at Cessna and Beech models in the full aviation accident dataset as they will be most relevant for skydiving.\n",
    "\n"
   ]
  },
  {
   "cell_type": "code",
   "execution_count": 46,
   "id": "a1fa5fe6-2325-4653-907d-2eb08d535bdc",
   "metadata": {},
   "outputs": [
    {
     "data": {
      "text/html": [
       "<div>\n",
       "<style scoped>\n",
       "    .dataframe tbody tr th:only-of-type {\n",
       "        vertical-align: middle;\n",
       "    }\n",
       "\n",
       "    .dataframe tbody tr th {\n",
       "        vertical-align: top;\n",
       "    }\n",
       "\n",
       "    .dataframe thead th {\n",
       "        text-align: right;\n",
       "    }\n",
       "</style>\n",
       "<table border=\"1\" class=\"dataframe\">\n",
       "  <thead>\n",
       "    <tr style=\"text-align: right;\">\n",
       "      <th></th>\n",
       "      <th>Event.Date</th>\n",
       "      <th>Location</th>\n",
       "      <th>Country</th>\n",
       "      <th>Injury.Severity</th>\n",
       "      <th>Aircraft.damage</th>\n",
       "      <th>Make</th>\n",
       "      <th>Model</th>\n",
       "      <th>Number.of.Engines</th>\n",
       "      <th>Engine.Type</th>\n",
       "      <th>Purpose.of.flight</th>\n",
       "      <th>Total.Fatal.Injuries</th>\n",
       "      <th>Total.Serious.Injuries</th>\n",
       "      <th>Total.Minor.Injuries</th>\n",
       "      <th>Total.Uninjured</th>\n",
       "      <th>Weather.Condition</th>\n",
       "      <th>Broad.phase.of.flight</th>\n",
       "      <th>Report.Status</th>\n",
       "      <th>Year</th>\n",
       "      <th>Month</th>\n",
       "    </tr>\n",
       "  </thead>\n",
       "  <tbody>\n",
       "    <tr>\n",
       "      <th>0</th>\n",
       "      <td>1948-10-24</td>\n",
       "      <td>MOOSE CREEK, ID</td>\n",
       "      <td>United States</td>\n",
       "      <td>Fatal(2)</td>\n",
       "      <td>Destroyed</td>\n",
       "      <td>Stinson</td>\n",
       "      <td>108-3</td>\n",
       "      <td>1.0</td>\n",
       "      <td>Reciprocating</td>\n",
       "      <td>Personal</td>\n",
       "      <td>2.0</td>\n",
       "      <td>0.0</td>\n",
       "      <td>0.0</td>\n",
       "      <td>0.0</td>\n",
       "      <td>UNK</td>\n",
       "      <td>Cruise</td>\n",
       "      <td>Probable Cause</td>\n",
       "      <td>1948.0</td>\n",
       "      <td>October</td>\n",
       "    </tr>\n",
       "    <tr>\n",
       "      <th>1</th>\n",
       "      <td>1962-07-19</td>\n",
       "      <td>BRIDGEPORT, CA</td>\n",
       "      <td>United States</td>\n",
       "      <td>Fatal(4)</td>\n",
       "      <td>Destroyed</td>\n",
       "      <td>Piper</td>\n",
       "      <td>PA24-180</td>\n",
       "      <td>1.0</td>\n",
       "      <td>Reciprocating</td>\n",
       "      <td>Personal</td>\n",
       "      <td>4.0</td>\n",
       "      <td>0.0</td>\n",
       "      <td>0.0</td>\n",
       "      <td>0.0</td>\n",
       "      <td>UNK</td>\n",
       "      <td>Unknown</td>\n",
       "      <td>Probable Cause</td>\n",
       "      <td>1962.0</td>\n",
       "      <td>July</td>\n",
       "    </tr>\n",
       "    <tr>\n",
       "      <th>2</th>\n",
       "      <td>1974-08-30</td>\n",
       "      <td>Saltville, VA</td>\n",
       "      <td>United States</td>\n",
       "      <td>Fatal(3)</td>\n",
       "      <td>Destroyed</td>\n",
       "      <td>Cessna</td>\n",
       "      <td>172M</td>\n",
       "      <td>1.0</td>\n",
       "      <td>Reciprocating</td>\n",
       "      <td>Personal</td>\n",
       "      <td>3.0</td>\n",
       "      <td>NaN</td>\n",
       "      <td>NaN</td>\n",
       "      <td>NaN</td>\n",
       "      <td>IMC</td>\n",
       "      <td>Cruise</td>\n",
       "      <td>Probable Cause</td>\n",
       "      <td>1974.0</td>\n",
       "      <td>August</td>\n",
       "    </tr>\n",
       "    <tr>\n",
       "      <th>3</th>\n",
       "      <td>1977-06-19</td>\n",
       "      <td>EUREKA, CA</td>\n",
       "      <td>United States</td>\n",
       "      <td>Fatal(2)</td>\n",
       "      <td>Destroyed</td>\n",
       "      <td>Rockwell</td>\n",
       "      <td>112</td>\n",
       "      <td>1.0</td>\n",
       "      <td>Reciprocating</td>\n",
       "      <td>Personal</td>\n",
       "      <td>2.0</td>\n",
       "      <td>0.0</td>\n",
       "      <td>0.0</td>\n",
       "      <td>0.0</td>\n",
       "      <td>IMC</td>\n",
       "      <td>Cruise</td>\n",
       "      <td>Probable Cause</td>\n",
       "      <td>1977.0</td>\n",
       "      <td>June</td>\n",
       "    </tr>\n",
       "    <tr>\n",
       "      <th>4</th>\n",
       "      <td>1979-08-02</td>\n",
       "      <td>Canton, OH</td>\n",
       "      <td>United States</td>\n",
       "      <td>Fatal(1)</td>\n",
       "      <td>Destroyed</td>\n",
       "      <td>Cessna</td>\n",
       "      <td>501</td>\n",
       "      <td>NaN</td>\n",
       "      <td>NaN</td>\n",
       "      <td>Personal</td>\n",
       "      <td>1.0</td>\n",
       "      <td>2.0</td>\n",
       "      <td>NaN</td>\n",
       "      <td>0.0</td>\n",
       "      <td>VMC</td>\n",
       "      <td>Approach</td>\n",
       "      <td>Probable Cause</td>\n",
       "      <td>1979.0</td>\n",
       "      <td>August</td>\n",
       "    </tr>\n",
       "  </tbody>\n",
       "</table>\n",
       "</div>"
      ],
      "text/plain": [
       "  Event.Date         Location        Country Injury.Severity Aircraft.damage  \\\n",
       "0 1948-10-24  MOOSE CREEK, ID  United States        Fatal(2)       Destroyed   \n",
       "1 1962-07-19   BRIDGEPORT, CA  United States        Fatal(4)       Destroyed   \n",
       "2 1974-08-30    Saltville, VA  United States        Fatal(3)       Destroyed   \n",
       "3 1977-06-19       EUREKA, CA  United States        Fatal(2)       Destroyed   \n",
       "4 1979-08-02       Canton, OH  United States        Fatal(1)       Destroyed   \n",
       "\n",
       "       Make     Model  Number.of.Engines    Engine.Type Purpose.of.flight  \\\n",
       "0   Stinson     108-3                1.0  Reciprocating          Personal   \n",
       "1     Piper  PA24-180                1.0  Reciprocating          Personal   \n",
       "2    Cessna      172M                1.0  Reciprocating          Personal   \n",
       "3  Rockwell       112                1.0  Reciprocating          Personal   \n",
       "4    Cessna       501                NaN            NaN          Personal   \n",
       "\n",
       "   Total.Fatal.Injuries  Total.Serious.Injuries  Total.Minor.Injuries  \\\n",
       "0                   2.0                     0.0                   0.0   \n",
       "1                   4.0                     0.0                   0.0   \n",
       "2                   3.0                     NaN                   NaN   \n",
       "3                   2.0                     0.0                   0.0   \n",
       "4                   1.0                     2.0                   NaN   \n",
       "\n",
       "   Total.Uninjured Weather.Condition Broad.phase.of.flight   Report.Status  \\\n",
       "0              0.0               UNK                Cruise  Probable Cause   \n",
       "1              0.0               UNK               Unknown  Probable Cause   \n",
       "2              NaN               IMC                Cruise  Probable Cause   \n",
       "3              0.0               IMC                Cruise  Probable Cause   \n",
       "4              0.0               VMC              Approach  Probable Cause   \n",
       "\n",
       "     Year    Month  \n",
       "0  1948.0  October  \n",
       "1  1962.0     July  \n",
       "2  1974.0   August  \n",
       "3  1977.0     June  \n",
       "4  1979.0   August  "
      ]
     },
     "execution_count": 46,
     "metadata": {},
     "output_type": "execute_result"
    }
   ],
   "source": [
    "data_us.head()\n"
   ]
  },
  {
   "cell_type": "code",
   "execution_count": 60,
   "id": "cf9f7023-86fb-4763-ab9e-e5650a31c137",
   "metadata": {},
   "outputs": [
    {
     "data": {
      "text/plain": [
       "Event.Date                    0\n",
       "Location                     11\n",
       "Country                       0\n",
       "Injury.Severity             108\n",
       "Aircraft.damage            1979\n",
       "Make                         21\n",
       "Model                        38\n",
       "Number.of.Engines          1875\n",
       "Engine.Type                3023\n",
       "Purpose.of.flight          2429\n",
       "Total.Fatal.Injuries      10654\n",
       "Total.Serious.Injuries    11375\n",
       "Total.Minor.Injuries      10729\n",
       "Total.Uninjured            5005\n",
       "Weather.Condition           645\n",
       "Broad.phase.of.flight     21090\n",
       "Report.Status              2611\n",
       "Year                          0\n",
       "Month                         0\n",
       "dtype: int64"
      ]
     },
     "execution_count": 60,
     "metadata": {},
     "output_type": "execute_result"
    }
   ],
   "source": [
    "data_us.isna().sum()"
   ]
  },
  {
   "cell_type": "code",
   "execution_count": 67,
   "id": "25d29912-b881-4e94-a35d-2537b09b8c13",
   "metadata": {},
   "outputs": [
    {
     "name": "stderr",
     "output_type": "stream",
     "text": [
      "<ipython-input-67-3c1ff883849c>:2: SettingWithCopyWarning: \n",
      "A value is trying to be set on a copy of a slice from a DataFrame\n",
      "\n",
      "See the caveats in the documentation: https://pandas.pydata.org/pandas-docs/stable/user_guide/indexing.html#returning-a-view-versus-a-copy\n",
      "  data_us.dropna(subset=['Location'], inplace=True)\n",
      "<ipython-input-67-3c1ff883849c>:3: SettingWithCopyWarning: \n",
      "A value is trying to be set on a copy of a slice from a DataFrame\n",
      "\n",
      "See the caveats in the documentation: https://pandas.pydata.org/pandas-docs/stable/user_guide/indexing.html#returning-a-view-versus-a-copy\n",
      "  data_us.dropna(subset=['Injury.Severity'], inplace=True)\n",
      "/opt/anaconda3/envs/learn-env/lib/python3.8/site-packages/pandas/core/series.py:4517: SettingWithCopyWarning: \n",
      "A value is trying to be set on a copy of a slice from a DataFrame\n",
      "\n",
      "See the caveats in the documentation: https://pandas.pydata.org/pandas-docs/stable/user_guide/indexing.html#returning-a-view-versus-a-copy\n",
      "  return super().fillna(\n",
      "<ipython-input-67-3c1ff883849c>:5: SettingWithCopyWarning: \n",
      "A value is trying to be set on a copy of a slice from a DataFrame\n",
      "\n",
      "See the caveats in the documentation: https://pandas.pydata.org/pandas-docs/stable/user_guide/indexing.html#returning-a-view-versus-a-copy\n",
      "  data_us.dropna(subset=['Make'], inplace=True)\n",
      "<ipython-input-67-3c1ff883849c>:6: SettingWithCopyWarning: \n",
      "A value is trying to be set on a copy of a slice from a DataFrame\n",
      "\n",
      "See the caveats in the documentation: https://pandas.pydata.org/pandas-docs/stable/user_guide/indexing.html#returning-a-view-versus-a-copy\n",
      "  data_us.dropna(subset=['Model'], inplace=True)\n",
      "/opt/anaconda3/envs/learn-env/lib/python3.8/site-packages/pandas/core/series.py:4517: SettingWithCopyWarning: \n",
      "A value is trying to be set on a copy of a slice from a DataFrame\n",
      "\n",
      "See the caveats in the documentation: https://pandas.pydata.org/pandas-docs/stable/user_guide/indexing.html#returning-a-view-versus-a-copy\n",
      "  return super().fillna(\n"
     ]
    }
   ],
   "source": [
    "#????????????????\n",
    "data_us.dropna(subset=['Location'], inplace=True)\n",
    "data_us.dropna(subset=['Injury.Severity'], inplace=True)\n",
    "data_us['Aircraft.damage'].fillna('UKN', inplace=True)\n",
    "data_us.dropna(subset=['Make'], inplace=True)\n",
    "data_us.dropna(subset=['Model'], inplace=True)\n",
    "data_us['Number.of.Engines'].fillna('UKN', inplace=True)\n",
    "data_us['Engine.Type'].fillna('UKN', inplace=True)\n",
    "data_us['Purpose.of.flight'].fillna('UKN', inplace=True)\n",
    "data_us['Total.Fatal.Injuries'].fillna('UKN', inplace=True)\n",
    "data_us['Total.Serious.Injuries'].fillna('UKN', inplace=True)\n",
    "data_us['Total.Minor.Injuries'].fillna('UKN', inplace=True)\n",
    "data_us['Total.Uninjured'].fillna('UKN', inplace=True)\n",
    "data_us['Weather.Condition'].fillna(data_us['Weather.Condition'].mode()[0], inplace=True)\n",
    "data_us['Broad.phase.of.flight'].fillna('UKN', inplace=True)\n",
    "data_us['Report.Status'].fillna('n/a', inplace=True)"
   ]
  },
  {
   "cell_type": "code",
   "execution_count": null,
   "id": "c3697c6d-7dec-4c77-8eba-523a95604459",
   "metadata": {},
   "outputs": [],
   "source": []
  },
  {
   "cell_type": "code",
   "execution_count": 64,
   "id": "cb43da79-d837-49c6-96d7-6c7eafe3b780",
   "metadata": {},
   "outputs": [
    {
     "name": "stdout",
     "output_type": "stream",
     "text": [
      "<class 'pandas.core.frame.DataFrame'>\n",
      "Int64Index: 82084 entries, 0 to 90347\n",
      "Data columns (total 19 columns):\n",
      " #   Column                  Non-Null Count  Dtype         \n",
      "---  ------                  --------------  -----         \n",
      " 0   Event.Date              82084 non-null  datetime64[ns]\n",
      " 1   Location                82084 non-null  object        \n",
      " 2   Country                 82084 non-null  object        \n",
      " 3   Injury.Severity         82084 non-null  object        \n",
      " 4   Aircraft.damage         82084 non-null  object        \n",
      " 5   Make                    82084 non-null  object        \n",
      " 6   Model                   82084 non-null  object        \n",
      " 7   Number.of.Engines       82084 non-null  object        \n",
      " 8   Engine.Type             82084 non-null  object        \n",
      " 9   Purpose.of.flight       82084 non-null  object        \n",
      " 10  Total.Fatal.Injuries    82084 non-null  object        \n",
      " 11  Total.Serious.Injuries  82084 non-null  object        \n",
      " 12  Total.Minor.Injuries    82084 non-null  object        \n",
      " 13  Total.Uninjured         82084 non-null  object        \n",
      " 14  Weather.Condition       82084 non-null  object        \n",
      " 15  Broad.phase.of.flight   82084 non-null  object        \n",
      " 16  Report.Status           82084 non-null  object        \n",
      " 17  Year                    82084 non-null  float64       \n",
      " 18  Month                   82084 non-null  object        \n",
      "dtypes: datetime64[ns](1), float64(1), object(17)\n",
      "memory usage: 12.5+ MB\n"
     ]
    }
   ],
   "source": [
    "data_us.info()"
   ]
  },
  {
   "cell_type": "code",
   "execution_count": 52,
   "id": "6f5d1546-1305-4cc1-830d-39fb822b3a35",
   "metadata": {},
   "outputs": [
    {
     "name": "stderr",
     "output_type": "stream",
     "text": [
      "<ipython-input-52-336e4bce6221>:1: SettingWithCopyWarning: \n",
      "A value is trying to be set on a copy of a slice from a DataFrame.\n",
      "Try using .loc[row_indexer,col_indexer] = value instead\n",
      "\n",
      "See the caveats in the documentation: https://pandas.pydata.org/pandas-docs/stable/user_guide/indexing.html#returning-a-view-versus-a-copy\n",
      "  data_us['Make'] = data_us['Make'].str.title()\n"
     ]
    }
   ],
   "source": [
    "data_us['Make'] = data_us['Make'].str.title()"
   ]
  },
  {
   "cell_type": "code",
   "execution_count": 53,
   "id": "b02cd875-9df3-4b1a-9eb3-f2d147159d43",
   "metadata": {},
   "outputs": [
    {
     "name": "stderr",
     "output_type": "stream",
     "text": [
      "<ipython-input-53-d520367e060b>:1: SettingWithCopyWarning: \n",
      "A value is trying to be set on a copy of a slice from a DataFrame.\n",
      "Try using .loc[row_indexer,col_indexer] = value instead\n",
      "\n",
      "See the caveats in the documentation: https://pandas.pydata.org/pandas-docs/stable/user_guide/indexing.html#returning-a-view-versus-a-copy\n",
      "  data_us['Make'] = data_us['Make'].replace('Dehavilland', 'De Havilland')\n"
     ]
    }
   ],
   "source": [
    "data_us['Make'] = data_us['Make'].replace('Dehavilland', 'De Havilland')"
   ]
  },
  {
   "cell_type": "code",
   "execution_count": 65,
   "id": "aa89328a-8b16-4133-b1c6-470038f915f2",
   "metadata": {},
   "outputs": [
    {
     "data": {
      "image/png": "[encoded data removed]",
      "text/plain": [
       "<Figure size 720x576 with 1 Axes>"
      ]
     },
     "metadata": {
      "needs_background": "light"
     },
     "output_type": "display_data"
    }
   ],
   "source": [
    "top_makes = skydiving['Make'].value_counts().nlargest(3).index\n",
    "\n",
    "# Filter DataFrame for top 3 makes\n",
    "df_filtered = data_us[data_us['Make'].isin(top_makes)]\n",
    "\n",
    "# Get top 5 models for each make\n",
    "top_models = df_filtered.groupby('Make')['Model'].value_counts().groupby(level=0).nlargest(5)\n",
    "\n",
    "# Create a new DataFrame for plotting\n",
    "plot_df = top_models.unstack(level=0).fillna(0)\n",
    "\n",
    "# Plot the unstacked bar chart\n",
    "plot_df.plot(kind='bar', figsize=(10, 8), width=1.5)\n",
    "plt.tight_layout()\n",
    "plt.xticks(rotation=45)\n",
    "plt.title('Top 5 Models of Top 3 Makes')\n",
    "plt.xlabel('Model')\n",
    "plt.ylabel('Count')\n",
    "plt.legend(title='Make')\n",
    "plt.show()"
   ]
  },
  {
   "cell_type": "code",
   "execution_count": null,
   "id": "8ce1379c-600e-4dff-bb25-6a97fd9d9255",
   "metadata": {},
   "outputs": [],
   "source": [
    "fig, ax = plt.subplots()\n",
    "\n",
    "# Plot the unstacked bar chart\n",
    "sns.barplot(x='Category', y='Value1', data=df, ax=ax, label='Value1')\n",
    "sns.barplot(x='Category', y='Value2', data=df, ax=ax, label='Value2')\n",
    "\n",
    "# Add legend and labels\n",
    "ax.legend()\n",
    "ax.set_xlabel('Category')\n",
    "ax.set_ylabel('Values')\n",
    "plt.show()"
   ]
  },
  {
   "cell_type": "code",
   "execution_count": 66,
   "id": "24b3a754-b58e-40f6-a9e8-59c9052fa11e",
   "metadata": {},
   "outputs": [
    {
     "data": {
      "text/plain": [
       "Text(0.5, 0, 'Make')"
      ]
     },
     "execution_count": 66,
     "metadata": {},
     "output_type": "execute_result"
    },
    {
     "data": {
      "image/png": "[encoded data removed]",
      "text/plain": [
       "<Figure size 1008x432 with 1 Axes>"
      ]
     },
     "metadata": {
      "needs_background": "light"
     },
     "output_type": "display_data"
    }
   ],
   "source": [
    "top_skydiving_makes = make_ordered[:3]\n",
    "\n",
    "# Filter dataframe for top 5 makes\n",
    "df_top_makes = data_us[data_us['Make'].isin(top_skydiving_makes)]\n",
    "\n",
    "# Get top 5 models for each top make\n",
    "top_models_by_make = df_top_makes.groupby('Make')['Model'].value_counts().groupby(level=0).nlargest(5)\n",
    "\n",
    "ax = top_models_by_make.unstack().plot(kind='bar', figsize=(14, 6))\n",
    "\n",
    "ax.set_title('Top 5 Aircraft Models by Top 3 Skydiving Aircraft Makes')\n",
    "ax.set_ylabel('Count')\n",
    "ax.set_xlabel('Make')"
   ]
  },
  {
   "cell_type": "code",
   "execution_count": 76,
   "id": "dec955c2-d996-40be-a805-b1e54b90029e",
   "metadata": {},
   "outputs": [],
   "source": [
    "# find fatality count amongst single vs multi engine \n",
    "#also note that in skydiving data frame, Cessna's top models were the 182 and 182A, which is not featured in the above chart that encompasses the full us dataframe"
   ]
  },
  {
   "cell_type": "code",
   "execution_count": null,
   "id": "e8151fa9-969e-4772-96ec-05758b476c33",
   "metadata": {},
   "outputs": [],
   "source": []
  },
  {
   "cell_type": "code",
   "execution_count": null,
   "id": "e5ddc608-1705-4ef8-b69a-f093cfd36849",
   "metadata": {},
   "outputs": [],
   "source": []
  },
  {
   "cell_type": "code",
   "execution_count": null,
   "id": "9cf4bf6f-1cd7-4665-9020-55ef77bf6cbd",
   "metadata": {},
   "outputs": [],
   "source": []
  },
  {
   "cell_type": "markdown",
   "id": "27addb17-fc25-4e6e-94ba-4fabce507654",
   "metadata": {},
   "source": [
    "# Exploratory Data Analysis"
   ]
  },
  {
   "cell_type": "markdown",
   "id": "d14badf3-ea91-4f96-b2d0-83debb296684",
   "metadata": {},
   "source": [
    "\"Notebook promotes three recommendations for choosing films to produce:\n",
    " - Uses three or more findings from data analyses to support recommendations\n",
    " - Explains why the findings support the recommendations\n",
    " - Explains how the recommendations would help the stakeholder\n"
   ]
  },
  {
   "cell_type": "markdown",
   "id": "fd175f58-176d-4a1a-8f1d-41691794302c",
   "metadata": {},
   "source": [
    "\"Notebook includes three relevant and polished visualizations of findings that:\n",
    " - Help the project stakeholder understand the value or success of the project\n",
    " - Have text and marks to aid reader interpretation, such as graph and axis titles, axis ticks and labels, or legend (varies by visualization type)\n",
    " - Use color, size, and/or location to appropriately facilitate comparisons\n",
    " - Are not cluttered, dense, or illegible\n",
    "\""
   ]
  },
  {
   "cell_type": "code",
   "execution_count": null,
   "id": "72300a61-0048-4628-9249-0b85ceac2533",
   "metadata": {},
   "outputs": [],
   "source": []
  },
  {
   "cell_type": "markdown",
   "id": "c581a44b-9469-45a5-83d6-d49627188a6a",
   "metadata": {},
   "source": [
    "# Conclusions"
   ]
  },
  {
   "cell_type": "markdown",
   "id": "3f272c77-322a-47a6-8202-1701c9a0141a",
   "metadata": {},
   "source": []
  },
  {
   "cell_type": "markdown",
   "id": "2a588152-87ee-449f-8739-b5e2e7759c2e",
   "metadata": {},
   "source": [
    "## Limitations"
   ]
  },
  {
   "cell_type": "markdown",
   "id": "80cc3bc0-bfcd-41bf-a11f-8fbd8fc28ebb",
   "metadata": {},
   "source": [
    "The largest limitation of this data set is that we only have the data for accidents. We don't have the data for when flights occurred where everything went smoothly. This means we cannot say anything like: \"99% of flights of a certain kind of plane has safe flights.\" This also makes it difficult to see the whole picture. We assume that certain Aircrafts appear more often because they are more common, not because they are inherently more dangerous."
   ]
  },
  {
   "cell_type": "markdown",
   "id": "03f9997e-f24d-46f0-95fd-469cfec1ddc9",
   "metadata": {},
   "source": [
    "## Recommendations"
   ]
  },
  {
   "cell_type": "markdown",
   "id": "d610e40f-dc3c-416d-b091-ab85ecb0b782",
   "metadata": {},
   "source": [
    "These planes are commonly used.\n",
    "Of the commonly used, these have the least reported accidents.\n",
    "Of all of the reported accidents with most commonly used planes, these are the main reason for the accident."
   ]
  },
  {
   "cell_type": "markdown",
   "id": "68a54e88-0953-4e8f-bb5d-bdc37124b08c",
   "metadata": {},
   "source": [
    "## Next Steps"
   ]
  },
  {
   "cell_type": "markdown",
   "id": "22d1f0e4-1491-4887-9f74-20c5a54d848e",
   "metadata": {},
   "source": [
    "Look into price for these planes."
   ]
  },
  {
   "cell_type": "code",
   "execution_count": null,
   "id": "4202a42b-e42f-4351-8682-3fbfeca5db6a",
   "metadata": {},
   "outputs": [],
   "source": []
  }
 ],
 "metadata": {
  "kernelspec": {
   "display_name": "Python (learn-env)",
   "language": "python",
   "name": "learn-env"
  },
  "language_info": {
   "codemirror_mode": {
    "name": "ipython",
    "version": 3
   },
   "file_extension": ".py",
   "mimetype": "text/x-python",
   "name": "python",
   "nbconvert_exporter": "python",
   "pygments_lexer": "ipython3",
   "version": "3.8.5"
  }
 },
 "nbformat": 4,
 "nbformat_minor": 5
}
