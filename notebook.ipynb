{
 "cells": [
  {
   "cell_type": "markdown",
   "id": "30e85d3e-afb1-481c-a83c-8e33d9d33c6d",
   "metadata": {},
   "source": [
    "![skydiving.png](images/skydiving.png)"
   ]
  },
  {
   "cell_type": "markdown",
   "id": "c80abec8-3bf0-4d67-b2db-c9c58f9ff556",
   "metadata": {},
   "source": [
    "# DS Phase 1 Project: Aviation Accidents "
   ]
  },
  {
   "cell_type": "markdown",
   "id": "247039b3-f785-4d01-a480-5aeefa9b9d67",
   "metadata": {},
   "source": [
    "# Business Understanding"
   ]
  },
  {
   "cell_type": "markdown",
   "id": "0f0e0db3-723f-4d83-b1a0-806209e29072",
   "metadata": {},
   "source": [
    "This project aims to determine which planes would be best to look into first for indoor skydiving companies that plan to expand to offer real, outdoor skydiving. We'll use an Aviation Accident Dataset to determine which planes would be the lowest risk for the company to start looking into for their expansion. \n"
   ]
  },
  {
   "cell_type": "markdown",
   "id": "8db3f566-6b0b-4a19-bd72-f3b211b7a2bb",
   "metadata": {},
   "source": [
    "# Data Understanding"
   ]
  },
  {
   "cell_type": "markdown",
   "id": "68f9b38c-1bac-4bda-933d-e8987bbcb8b1",
   "metadata": {},
   "source": [
    "The data source used in this project is a data set from the National Transportation Safety Board with specifics about US aviation accidents between 1962 through 2023. It is in the form of a CSV file and accessed via Kaggle.\n",
    "\n",
    "Through data cleaning and creating visualizations, this project provides recommendations about which planes would be of lowest risk. The Aviation Accident data set is a good option to use for this project as it contains many factual details of specific accidents in past flight accidents. \n",
    "\n",
    "It's important to note that this dataset's largest limitation is that it does not contain records of flights that occured smoothly.\n",
    "\n",
    "The Aviation Accident dataset contains 90348 records of individual aviation accidents. There are 31 columns that break down each accident into further details.\n"
   ]
  },
  {
   "cell_type": "markdown",
   "id": "08c3bccf-1243-41d1-a1b9-5fc921f7c6ab",
   "metadata": {},
   "source": [
    "## Data Preparation"
   ]
  },
  {
   "cell_type": "markdown",
   "id": "e5a10855-32cb-424c-a783-4ddadd0f12e8",
   "metadata": {},
   "source": [
    "### Import Standard Libraries & Load Dataset"
   ]
  },
  {
   "cell_type": "code",
   "execution_count": 1,
   "id": "7e03817e-8498-4b67-a0f2-824e143b850a",
   "metadata": {},
   "outputs": [
    {
     "name": "stderr",
     "output_type": "stream",
     "text": [
      "/opt/anaconda3/envs/learn-env/lib/python3.8/site-packages/IPython/core/interactiveshell.py:3145: DtypeWarning: Columns (6,7,28) have mixed types.Specify dtype option on import or set low_memory=False.\n",
      "  has_raised = await self.run_ast_nodes(code_ast.body, cell_name,\n"
     ]
    },
    {
     "data": {
      "text/html": [
       "<div>\n",
       "<style scoped>\n",
       "    .dataframe tbody tr th:only-of-type {\n",
       "        vertical-align: middle;\n",
       "    }\n",
       "\n",
       "    .dataframe tbody tr th {\n",
       "        vertical-align: top;\n",
       "    }\n",
       "\n",
       "    .dataframe thead th {\n",
       "        text-align: right;\n",
       "    }\n",
       "</style>\n",
       "<table border=\"1\" class=\"dataframe\">\n",
       "  <thead>\n",
       "    <tr style=\"text-align: right;\">\n",
       "      <th></th>\n",
       "      <th>Event.Id</th>\n",
       "      <th>Investigation.Type</th>\n",
       "      <th>Accident.Number</th>\n",
       "      <th>Event.Date</th>\n",
       "      <th>Location</th>\n",
       "      <th>Country</th>\n",
       "      <th>Latitude</th>\n",
       "      <th>Longitude</th>\n",
       "      <th>Airport.Code</th>\n",
       "      <th>Airport.Name</th>\n",
       "      <th>...</th>\n",
       "      <th>Purpose.of.flight</th>\n",
       "      <th>Air.carrier</th>\n",
       "      <th>Total.Fatal.Injuries</th>\n",
       "      <th>Total.Serious.Injuries</th>\n",
       "      <th>Total.Minor.Injuries</th>\n",
       "      <th>Total.Uninjured</th>\n",
       "      <th>Weather.Condition</th>\n",
       "      <th>Broad.phase.of.flight</th>\n",
       "      <th>Report.Status</th>\n",
       "      <th>Publication.Date</th>\n",
       "    </tr>\n",
       "  </thead>\n",
       "  <tbody>\n",
       "    <tr>\n",
       "      <th>0</th>\n",
       "      <td>20001218X45444</td>\n",
       "      <td>Accident</td>\n",
       "      <td>SEA87LA080</td>\n",
       "      <td>1948-10-24</td>\n",
       "      <td>MOOSE CREEK, ID</td>\n",
       "      <td>United States</td>\n",
       "      <td>NaN</td>\n",
       "      <td>NaN</td>\n",
       "      <td>NaN</td>\n",
       "      <td>NaN</td>\n",
       "      <td>...</td>\n",
       "      <td>Personal</td>\n",
       "      <td>NaN</td>\n",
       "      <td>2.0</td>\n",
       "      <td>0.0</td>\n",
       "      <td>0.0</td>\n",
       "      <td>0.0</td>\n",
       "      <td>UNK</td>\n",
       "      <td>Cruise</td>\n",
       "      <td>Probable Cause</td>\n",
       "      <td>NaN</td>\n",
       "    </tr>\n",
       "    <tr>\n",
       "      <th>1</th>\n",
       "      <td>20001218X45447</td>\n",
       "      <td>Accident</td>\n",
       "      <td>LAX94LA336</td>\n",
       "      <td>1962-07-19</td>\n",
       "      <td>BRIDGEPORT, CA</td>\n",
       "      <td>United States</td>\n",
       "      <td>NaN</td>\n",
       "      <td>NaN</td>\n",
       "      <td>NaN</td>\n",
       "      <td>NaN</td>\n",
       "      <td>...</td>\n",
       "      <td>Personal</td>\n",
       "      <td>NaN</td>\n",
       "      <td>4.0</td>\n",
       "      <td>0.0</td>\n",
       "      <td>0.0</td>\n",
       "      <td>0.0</td>\n",
       "      <td>UNK</td>\n",
       "      <td>Unknown</td>\n",
       "      <td>Probable Cause</td>\n",
       "      <td>19-09-1996</td>\n",
       "    </tr>\n",
       "    <tr>\n",
       "      <th>2</th>\n",
       "      <td>20061025X01555</td>\n",
       "      <td>Accident</td>\n",
       "      <td>NYC07LA005</td>\n",
       "      <td>1974-08-30</td>\n",
       "      <td>Saltville, VA</td>\n",
       "      <td>United States</td>\n",
       "      <td>36.9222</td>\n",
       "      <td>-81.8781</td>\n",
       "      <td>NaN</td>\n",
       "      <td>NaN</td>\n",
       "      <td>...</td>\n",
       "      <td>Personal</td>\n",
       "      <td>NaN</td>\n",
       "      <td>3.0</td>\n",
       "      <td>NaN</td>\n",
       "      <td>NaN</td>\n",
       "      <td>NaN</td>\n",
       "      <td>IMC</td>\n",
       "      <td>Cruise</td>\n",
       "      <td>Probable Cause</td>\n",
       "      <td>26-02-2007</td>\n",
       "    </tr>\n",
       "    <tr>\n",
       "      <th>3</th>\n",
       "      <td>20001218X45448</td>\n",
       "      <td>Accident</td>\n",
       "      <td>LAX96LA321</td>\n",
       "      <td>1977-06-19</td>\n",
       "      <td>EUREKA, CA</td>\n",
       "      <td>United States</td>\n",
       "      <td>NaN</td>\n",
       "      <td>NaN</td>\n",
       "      <td>NaN</td>\n",
       "      <td>NaN</td>\n",
       "      <td>...</td>\n",
       "      <td>Personal</td>\n",
       "      <td>NaN</td>\n",
       "      <td>2.0</td>\n",
       "      <td>0.0</td>\n",
       "      <td>0.0</td>\n",
       "      <td>0.0</td>\n",
       "      <td>IMC</td>\n",
       "      <td>Cruise</td>\n",
       "      <td>Probable Cause</td>\n",
       "      <td>12-09-2000</td>\n",
       "    </tr>\n",
       "    <tr>\n",
       "      <th>4</th>\n",
       "      <td>20041105X01764</td>\n",
       "      <td>Accident</td>\n",
       "      <td>CHI79FA064</td>\n",
       "      <td>1979-08-02</td>\n",
       "      <td>Canton, OH</td>\n",
       "      <td>United States</td>\n",
       "      <td>NaN</td>\n",
       "      <td>NaN</td>\n",
       "      <td>NaN</td>\n",
       "      <td>NaN</td>\n",
       "      <td>...</td>\n",
       "      <td>Personal</td>\n",
       "      <td>NaN</td>\n",
       "      <td>1.0</td>\n",
       "      <td>2.0</td>\n",
       "      <td>NaN</td>\n",
       "      <td>0.0</td>\n",
       "      <td>VMC</td>\n",
       "      <td>Approach</td>\n",
       "      <td>Probable Cause</td>\n",
       "      <td>16-04-1980</td>\n",
       "    </tr>\n",
       "  </tbody>\n",
       "</table>\n",
       "<p>5 rows × 31 columns</p>\n",
       "</div>"
      ],
      "text/plain": [
       "         Event.Id Investigation.Type Accident.Number  Event.Date  \\\n",
       "0  20001218X45444           Accident      SEA87LA080  1948-10-24   \n",
       "1  20001218X45447           Accident      LAX94LA336  1962-07-19   \n",
       "2  20061025X01555           Accident      NYC07LA005  1974-08-30   \n",
       "3  20001218X45448           Accident      LAX96LA321  1977-06-19   \n",
       "4  20041105X01764           Accident      CHI79FA064  1979-08-02   \n",
       "\n",
       "          Location        Country Latitude Longitude Airport.Code  \\\n",
       "0  MOOSE CREEK, ID  United States      NaN       NaN          NaN   \n",
       "1   BRIDGEPORT, CA  United States      NaN       NaN          NaN   \n",
       "2    Saltville, VA  United States  36.9222  -81.8781          NaN   \n",
       "3       EUREKA, CA  United States      NaN       NaN          NaN   \n",
       "4       Canton, OH  United States      NaN       NaN          NaN   \n",
       "\n",
       "  Airport.Name  ... Purpose.of.flight Air.carrier Total.Fatal.Injuries  \\\n",
       "0          NaN  ...          Personal         NaN                  2.0   \n",
       "1          NaN  ...          Personal         NaN                  4.0   \n",
       "2          NaN  ...          Personal         NaN                  3.0   \n",
       "3          NaN  ...          Personal         NaN                  2.0   \n",
       "4          NaN  ...          Personal         NaN                  1.0   \n",
       "\n",
       "  Total.Serious.Injuries Total.Minor.Injuries Total.Uninjured  \\\n",
       "0                    0.0                  0.0             0.0   \n",
       "1                    0.0                  0.0             0.0   \n",
       "2                    NaN                  NaN             NaN   \n",
       "3                    0.0                  0.0             0.0   \n",
       "4                    2.0                  NaN             0.0   \n",
       "\n",
       "  Weather.Condition  Broad.phase.of.flight   Report.Status Publication.Date  \n",
       "0               UNK                 Cruise  Probable Cause              NaN  \n",
       "1               UNK                Unknown  Probable Cause       19-09-1996  \n",
       "2               IMC                 Cruise  Probable Cause       26-02-2007  \n",
       "3               IMC                 Cruise  Probable Cause       12-09-2000  \n",
       "4               VMC               Approach  Probable Cause       16-04-1980  \n",
       "\n",
       "[5 rows x 31 columns]"
      ]
     },
     "execution_count": 1,
     "metadata": {},
     "output_type": "execute_result"
    }
   ],
   "source": [
    "#import standard libraries/ load dataset into dataframe\n",
    "import numpy as np\n",
    "import matplotlib.pyplot as plt\n",
    "import seaborn as sns\n",
    "import pandas as pd\n",
    "aviation = pd.read_csv('https://raw.githubusercontent.com/learn-co-curriculum/dsc-phase-1-project-v3/refs/heads/master/data/Aviation_Data.csv')\n",
    "aviation.head()"
   ]
  },
  {
   "cell_type": "code",
   "execution_count": 2,
   "id": "3a9be322-11c6-48c0-adf7-221e977e7cdf",
   "metadata": {},
   "outputs": [
    {
     "data": {
      "text/plain": [
       "(90348, 31)"
      ]
     },
     "execution_count": 2,
     "metadata": {},
     "output_type": "execute_result"
    }
   ],
   "source": [
    "aviation.shape"
   ]
  },
  {
   "cell_type": "code",
   "execution_count": 3,
   "id": "42661681-c7a3-4e5e-abd2-bf9aaefc2f41",
   "metadata": {},
   "outputs": [
    {
     "name": "stdout",
     "output_type": "stream",
     "text": [
      "<class 'pandas.core.frame.DataFrame'>\n",
      "RangeIndex: 90348 entries, 0 to 90347\n",
      "Data columns (total 31 columns):\n",
      " #   Column                  Non-Null Count  Dtype  \n",
      "---  ------                  --------------  -----  \n",
      " 0   Event.Id                88889 non-null  object \n",
      " 1   Investigation.Type      90348 non-null  object \n",
      " 2   Accident.Number         88889 non-null  object \n",
      " 3   Event.Date              88889 non-null  object \n",
      " 4   Location                88837 non-null  object \n",
      " 5   Country                 88663 non-null  object \n",
      " 6   Latitude                34382 non-null  object \n",
      " 7   Longitude               34373 non-null  object \n",
      " 8   Airport.Code            50249 non-null  object \n",
      " 9   Airport.Name            52790 non-null  object \n",
      " 10  Injury.Severity         87889 non-null  object \n",
      " 11  Aircraft.damage         85695 non-null  object \n",
      " 12  Aircraft.Category       32287 non-null  object \n",
      " 13  Registration.Number     87572 non-null  object \n",
      " 14  Make                    88826 non-null  object \n",
      " 15  Model                   88797 non-null  object \n",
      " 16  Amateur.Built           88787 non-null  object \n",
      " 17  Number.of.Engines       82805 non-null  float64\n",
      " 18  Engine.Type             81812 non-null  object \n",
      " 19  FAR.Description         32023 non-null  object \n",
      " 20  Schedule                12582 non-null  object \n",
      " 21  Purpose.of.flight       82697 non-null  object \n",
      " 22  Air.carrier             16648 non-null  object \n",
      " 23  Total.Fatal.Injuries    77488 non-null  float64\n",
      " 24  Total.Serious.Injuries  76379 non-null  float64\n",
      " 25  Total.Minor.Injuries    76956 non-null  float64\n",
      " 26  Total.Uninjured         82977 non-null  float64\n",
      " 27  Weather.Condition       84397 non-null  object \n",
      " 28  Broad.phase.of.flight   61724 non-null  object \n",
      " 29  Report.Status           82508 non-null  object \n",
      " 30  Publication.Date        73659 non-null  object \n",
      "dtypes: float64(5), object(26)\n",
      "memory usage: 21.4+ MB\n"
     ]
    }
   ],
   "source": [
    "aviation.info()"
   ]
  },
  {
   "cell_type": "code",
   "execution_count": 4,
   "id": "6c7de332-6557-4263-8bb3-825a1f766c6a",
   "metadata": {},
   "outputs": [
    {
     "data": {
      "text/plain": [
       "Personal                     49448\n",
       "Instructional                10601\n",
       "Unknown                       6802\n",
       "Aerial Application            4712\n",
       "Business                      4018\n",
       "Positioning                   1646\n",
       "Other Work Use                1264\n",
       "Ferry                          812\n",
       "Aerial Observation             794\n",
       "Public Aircraft                720\n",
       "Executive/corporate            553\n",
       "Flight Test                    405\n",
       "Skydiving                      182\n",
       "External Load                  123\n",
       "Public Aircraft - Federal      105\n",
       "Banner Tow                     101\n",
       "Air Race show                   99\n",
       "Public Aircraft - Local         74\n",
       "Public Aircraft - State         64\n",
       "Air Race/show                   59\n",
       "Glider Tow                      53\n",
       "Firefighting                    40\n",
       "Air Drop                        11\n",
       "ASHO                             6\n",
       "PUBS                             4\n",
       "PUBL                             1\n",
       "Name: Purpose.of.flight, dtype: int64"
      ]
     },
     "execution_count": 4,
     "metadata": {},
     "output_type": "execute_result"
    }
   ],
   "source": [
    "#note: specific accidents involving skydiving\n",
    "aviation[\"Purpose.of.flight\"].value_counts()"
   ]
  },
  {
   "cell_type": "markdown",
   "id": "9a4aee3b-0d2e-4eb8-9dc8-a9a4a9aaea41",
   "metadata": {},
   "source": [
    "### Clean and Prepare Dataset for Vizualizations"
   ]
  },
  {
   "cell_type": "code",
   "execution_count": 5,
   "id": "0b15c96a-696f-4f29-8876-f96f176eea51",
   "metadata": {},
   "outputs": [
    {
     "data": {
      "text/html": [
       "<div>\n",
       "<style scoped>\n",
       "    .dataframe tbody tr th:only-of-type {\n",
       "        vertical-align: middle;\n",
       "    }\n",
       "\n",
       "    .dataframe tbody tr th {\n",
       "        vertical-align: top;\n",
       "    }\n",
       "\n",
       "    .dataframe thead th {\n",
       "        text-align: right;\n",
       "    }\n",
       "</style>\n",
       "<table border=\"1\" class=\"dataframe\">\n",
       "  <thead>\n",
       "    <tr style=\"text-align: right;\">\n",
       "      <th></th>\n",
       "      <th>Event.Date</th>\n",
       "      <th>Location</th>\n",
       "      <th>Country</th>\n",
       "      <th>Injury.Severity</th>\n",
       "      <th>Make</th>\n",
       "      <th>Model</th>\n",
       "      <th>Number.of.Engines</th>\n",
       "      <th>Purpose.of.flight</th>\n",
       "      <th>Total.Fatal.Injuries</th>\n",
       "      <th>Total.Serious.Injuries</th>\n",
       "      <th>Total.Minor.Injuries</th>\n",
       "      <th>Total.Uninjured</th>\n",
       "      <th>Weather.Condition</th>\n",
       "      <th>Report.Status</th>\n",
       "    </tr>\n",
       "  </thead>\n",
       "  <tbody>\n",
       "    <tr>\n",
       "      <th>0</th>\n",
       "      <td>1948-10-24</td>\n",
       "      <td>MOOSE CREEK, ID</td>\n",
       "      <td>United States</td>\n",
       "      <td>Fatal(2)</td>\n",
       "      <td>Stinson</td>\n",
       "      <td>108-3</td>\n",
       "      <td>1.0</td>\n",
       "      <td>Personal</td>\n",
       "      <td>2.0</td>\n",
       "      <td>0.0</td>\n",
       "      <td>0.0</td>\n",
       "      <td>0.0</td>\n",
       "      <td>UNK</td>\n",
       "      <td>Probable Cause</td>\n",
       "    </tr>\n",
       "    <tr>\n",
       "      <th>1</th>\n",
       "      <td>1962-07-19</td>\n",
       "      <td>BRIDGEPORT, CA</td>\n",
       "      <td>United States</td>\n",
       "      <td>Fatal(4)</td>\n",
       "      <td>Piper</td>\n",
       "      <td>PA24-180</td>\n",
       "      <td>1.0</td>\n",
       "      <td>Personal</td>\n",
       "      <td>4.0</td>\n",
       "      <td>0.0</td>\n",
       "      <td>0.0</td>\n",
       "      <td>0.0</td>\n",
       "      <td>UNK</td>\n",
       "      <td>Probable Cause</td>\n",
       "    </tr>\n",
       "    <tr>\n",
       "      <th>2</th>\n",
       "      <td>1974-08-30</td>\n",
       "      <td>Saltville, VA</td>\n",
       "      <td>United States</td>\n",
       "      <td>Fatal(3)</td>\n",
       "      <td>Cessna</td>\n",
       "      <td>172M</td>\n",
       "      <td>1.0</td>\n",
       "      <td>Personal</td>\n",
       "      <td>3.0</td>\n",
       "      <td>NaN</td>\n",
       "      <td>NaN</td>\n",
       "      <td>NaN</td>\n",
       "      <td>IMC</td>\n",
       "      <td>Probable Cause</td>\n",
       "    </tr>\n",
       "    <tr>\n",
       "      <th>3</th>\n",
       "      <td>1977-06-19</td>\n",
       "      <td>EUREKA, CA</td>\n",
       "      <td>United States</td>\n",
       "      <td>Fatal(2)</td>\n",
       "      <td>Rockwell</td>\n",
       "      <td>112</td>\n",
       "      <td>1.0</td>\n",
       "      <td>Personal</td>\n",
       "      <td>2.0</td>\n",
       "      <td>0.0</td>\n",
       "      <td>0.0</td>\n",
       "      <td>0.0</td>\n",
       "      <td>IMC</td>\n",
       "      <td>Probable Cause</td>\n",
       "    </tr>\n",
       "    <tr>\n",
       "      <th>4</th>\n",
       "      <td>1979-08-02</td>\n",
       "      <td>Canton, OH</td>\n",
       "      <td>United States</td>\n",
       "      <td>Fatal(1)</td>\n",
       "      <td>Cessna</td>\n",
       "      <td>501</td>\n",
       "      <td>NaN</td>\n",
       "      <td>Personal</td>\n",
       "      <td>1.0</td>\n",
       "      <td>2.0</td>\n",
       "      <td>NaN</td>\n",
       "      <td>0.0</td>\n",
       "      <td>VMC</td>\n",
       "      <td>Probable Cause</td>\n",
       "    </tr>\n",
       "  </tbody>\n",
       "</table>\n",
       "</div>"
      ],
      "text/plain": [
       "   Event.Date         Location        Country Injury.Severity      Make  \\\n",
       "0  1948-10-24  MOOSE CREEK, ID  United States        Fatal(2)   Stinson   \n",
       "1  1962-07-19   BRIDGEPORT, CA  United States        Fatal(4)     Piper   \n",
       "2  1974-08-30    Saltville, VA  United States        Fatal(3)    Cessna   \n",
       "3  1977-06-19       EUREKA, CA  United States        Fatal(2)  Rockwell   \n",
       "4  1979-08-02       Canton, OH  United States        Fatal(1)    Cessna   \n",
       "\n",
       "      Model  Number.of.Engines Purpose.of.flight  Total.Fatal.Injuries  \\\n",
       "0     108-3                1.0          Personal                   2.0   \n",
       "1  PA24-180                1.0          Personal                   4.0   \n",
       "2      172M                1.0          Personal                   3.0   \n",
       "3       112                1.0          Personal                   2.0   \n",
       "4       501                NaN          Personal                   1.0   \n",
       "\n",
       "   Total.Serious.Injuries  Total.Minor.Injuries  Total.Uninjured  \\\n",
       "0                     0.0                   0.0              0.0   \n",
       "1                     0.0                   0.0              0.0   \n",
       "2                     NaN                   NaN              NaN   \n",
       "3                     0.0                   0.0              0.0   \n",
       "4                     2.0                   NaN              0.0   \n",
       "\n",
       "  Weather.Condition   Report.Status  \n",
       "0               UNK  Probable Cause  \n",
       "1               UNK  Probable Cause  \n",
       "2               IMC  Probable Cause  \n",
       "3               IMC  Probable Cause  \n",
       "4               VMC  Probable Cause  "
      ]
     },
     "execution_count": 5,
     "metadata": {},
     "output_type": "execute_result"
    }
   ],
   "source": [
    "#cleaning up columns- new dataframe aviation1\n",
    "aviation1= aviation.drop(['Event.Id', 'Aircraft.damage', 'Broad.phase.of.flight', 'Engine.Type', 'FAR.Description','Publication.Date', 'Aircraft.Category', 'Amateur.Built', 'Registration.Number', 'Accident.Number', 'Latitude', 'Longitude', 'Airport.Code', 'Airport.Name', 'Air.carrier', 'Schedule', 'Investigation.Type', ], axis = 1)\n",
    "aviation1.head()"
   ]
  },
  {
   "cell_type": "code",
   "execution_count": 6,
   "id": "237bd555-1f1f-437e-b9a0-d415511e34f3",
   "metadata": {},
   "outputs": [],
   "source": [
    "#formate date column\n",
    "aviation1['Event.Date'] = pd.to_datetime(aviation['Event.Date'])"
   ]
  },
  {
   "cell_type": "code",
   "execution_count": 7,
   "id": "323a2a71-b60e-4df7-ad35-7e8a3cedb088",
   "metadata": {},
   "outputs": [],
   "source": [
    "#split date column by year and month\n",
    "aviation1['Year'] = aviation1['Event.Date'].dt.year\n",
    "aviation1['Month'] = aviation1['Event.Date'].dt.month_name()"
   ]
  },
  {
   "cell_type": "code",
   "execution_count": 8,
   "id": "5676928a-9e71-40cc-af07-13cdb24471e9",
   "metadata": {},
   "outputs": [],
   "source": [
    "#Injury.Severity column has number fatalities in parentheses, we already have that information in the Total.Fatalities column\n",
    "#Split at the parentheses, and call the new column Injury.Severity.Type. Lastly, remove Injury.Severity column\n",
    "aviation1['Injury.Severity.Type'] = aviation1['Injury.Severity'].str.split('(').str[0]\n",
    "aviation1= aviation1.drop(['Injury.Severity'], axis =1) "
   ]
  },
  {
   "cell_type": "code",
   "execution_count": 9,
   "id": "eae38a73-dfbf-4fbf-ac76-ef81249057e8",
   "metadata": {},
   "outputs": [
    {
     "data": {
      "text/plain": [
       "Non-Fatal      67357\n",
       "Fatal          17826\n",
       "Incident        2219\n",
       "Minor            218\n",
       "Serious          173\n",
       "Unavailable       96\n",
       "Name: Injury.Severity.Type, dtype: int64"
      ]
     },
     "execution_count": 9,
     "metadata": {},
     "output_type": "execute_result"
    }
   ],
   "source": [
    "aviation1['Injury.Severity.Type'].value_counts()"
   ]
  },
  {
   "cell_type": "code",
   "execution_count": 10,
   "id": "965bb10f-5969-4a4a-8230-c10a70f84051",
   "metadata": {},
   "outputs": [
    {
     "name": "stdout",
     "output_type": "stream",
     "text": [
      "<class 'pandas.core.frame.DataFrame'>\n",
      "RangeIndex: 90348 entries, 0 to 90347\n",
      "Data columns (total 16 columns):\n",
      " #   Column                  Non-Null Count  Dtype         \n",
      "---  ------                  --------------  -----         \n",
      " 0   Event.Date              88889 non-null  datetime64[ns]\n",
      " 1   Location                88837 non-null  object        \n",
      " 2   Country                 88663 non-null  object        \n",
      " 3   Make                    88826 non-null  object        \n",
      " 4   Model                   88797 non-null  object        \n",
      " 5   Number.of.Engines       82805 non-null  float64       \n",
      " 6   Purpose.of.flight       82697 non-null  object        \n",
      " 7   Total.Fatal.Injuries    77488 non-null  float64       \n",
      " 8   Total.Serious.Injuries  76379 non-null  float64       \n",
      " 9   Total.Minor.Injuries    76956 non-null  float64       \n",
      " 10  Total.Uninjured         82977 non-null  float64       \n",
      " 11  Weather.Condition       84397 non-null  object        \n",
      " 12  Report.Status           82508 non-null  object        \n",
      " 13  Year                    88889 non-null  float64       \n",
      " 14  Month                   88889 non-null  object        \n",
      " 15  Injury.Severity.Type    87889 non-null  object        \n",
      "dtypes: datetime64[ns](1), float64(6), object(9)\n",
      "memory usage: 11.0+ MB\n"
     ]
    }
   ],
   "source": [
    "aviation1.info()"
   ]
  },
  {
   "cell_type": "code",
   "execution_count": 11,
   "id": "07e6fc6e-d77b-4137-a686-0b4f7967d8d5",
   "metadata": {},
   "outputs": [
    {
     "data": {
      "text/plain": [
       "Cessna                        22227\n",
       "Piper                         12029\n",
       "CESSNA                         4922\n",
       "Beech                          4330\n",
       "PIPER                          2841\n",
       "                              ...  \n",
       "Waco Classic Aircraft Corp        1\n",
       "HENDERSON                         1\n",
       "Utva                              1\n",
       "Bently                            1\n",
       "RAINBOW AIRCRAFT (PTY) LTD        1\n",
       "Name: Make, Length: 8237, dtype: int64"
      ]
     },
     "execution_count": 11,
     "metadata": {},
     "output_type": "execute_result"
    }
   ],
   "source": [
    "aviation1['Make'].value_counts()"
   ]
  },
  {
   "cell_type": "code",
   "execution_count": 12,
   "id": "63a93dda-0a20-4ae2-a62f-05958274591c",
   "metadata": {},
   "outputs": [
    {
     "data": {
      "text/plain": [
       "Cessna               27149\n",
       "Piper                14870\n",
       "Beech                 5372\n",
       "Boeing                2745\n",
       "Bell                  2722\n",
       "                     ...  \n",
       "Offchiss Edward R        1\n",
       "Vance Renegade           1\n",
       "Hunter George            1\n",
       "Hood John Sidney         1\n",
       "P&M Aviation Ltd.        1\n",
       "Name: Make, Length: 7586, dtype: int64"
      ]
     },
     "execution_count": 12,
     "metadata": {},
     "output_type": "execute_result"
    }
   ],
   "source": [
    "#clean up Make column\n",
    "aviation1['Make'] = aviation1['Make'].str.title()\n",
    "aviation1['Make'] = aviation1['Make'].replace('Dehavilland', 'De Havilland')\n",
    "aviation1['Make'].value_counts()"
   ]
  },
  {
   "cell_type": "code",
   "execution_count": 13,
   "id": "b48b0cdc-522d-42c3-961a-86b6df8a084d",
   "metadata": {},
   "outputs": [
    {
     "data": {
      "text/plain": [
       "152          2367\n",
       "172          1756\n",
       "172N         1164\n",
       "PA-28-140     932\n",
       "150           829\n",
       "172M          798\n",
       "172P          689\n",
       "182           659\n",
       "180           622\n",
       "150M          585\n",
       "Name: Model, dtype: int64"
      ]
     },
     "execution_count": 13,
     "metadata": {},
     "output_type": "execute_result"
    }
   ],
   "source": [
    "aviation1['Model'].value_counts().head(10)"
   ]
  },
  {
   "cell_type": "code",
   "execution_count": 14,
   "id": "fdeef2d9-d17c-4d92-a283-ba4fe09caa8c",
   "metadata": {},
   "outputs": [
    {
     "data": {
      "text/plain": [
       "172          6198\n",
       "150          3152\n",
       "182          2589\n",
       "152          2385\n",
       "M20          1205\n",
       "180          1062\n",
       "206          1030\n",
       "G-164        1014\n",
       "PA-28-140     953\n",
       "T210          776\n",
       "Name: Model, dtype: int64"
      ]
     },
     "execution_count": 14,
     "metadata": {},
     "output_type": "execute_result"
    }
   ],
   "source": [
    "#Clean up Model column- remove letter after number (i.e. 182 and 182A can be counted together)\n",
    "aviation1['Model'] = aviation1['Model'].str.replace(r'[a-zA-Z]$', '', regex=True)\n",
    "aviation1['Model'].value_counts().head(10)"
   ]
  },
  {
   "cell_type": "code",
   "execution_count": 15,
   "id": "11286d3c-9998-46de-ba2a-5f701e151677",
   "metadata": {},
   "outputs": [
    {
     "data": {
      "text/plain": [
       "United States                    82248\n",
       "Brazil                             374\n",
       "Canada                             359\n",
       "Mexico                             358\n",
       "United Kingdom                     344\n",
       "                                 ...  \n",
       "St Vincent And The Grenadines        1\n",
       "Sierra Leone                         1\n",
       "Montserrat                           1\n",
       "San Juan Islands                     1\n",
       "Niger                                1\n",
       "Name: Country, Length: 219, dtype: int64"
      ]
     },
     "execution_count": 15,
     "metadata": {},
     "output_type": "execute_result"
    }
   ],
   "source": [
    "aviation1['Country'].value_counts()"
   ]
  },
  {
   "cell_type": "code",
   "execution_count": 16,
   "id": "5dba2c3d-5257-4e82-9b6f-f19fb458fd23",
   "metadata": {},
   "outputs": [],
   "source": [
    "aviation1['Total.Reported.Injuries'] = aviation1[['Total.Fatal.Injuries', 'Total.Serious.Injuries', 'Total.Minor.Injuries', 'Total.Uninjured']].sum(axis=1)"
   ]
  },
  {
   "cell_type": "code",
   "execution_count": 17,
   "id": "296bb6f4-c0c5-4217-9c39-cb1a6dd90d84",
   "metadata": {},
   "outputs": [],
   "source": [
    "#save this df to csv so we can plot accidents using majority of the original data\n",
    "# aviation1.to_csv('data/avation1.csv', index=False) "
   ]
  },
  {
   "cell_type": "code",
   "execution_count": 18,
   "id": "9befa95f-8fc2-41a7-aac5-dd266c4b5b78",
   "metadata": {},
   "outputs": [],
   "source": [
    "#to look at accidents within the states only, create US dataframe, then drop country column and reset the index.\n",
    "aviation_us= aviation1[aviation1['Country'] == 'United States']\n",
    "aviation_us= aviation_us.drop(['Country'], axis =1) \n",
    "aviation_us.reset_index(drop= True, inplace=True)"
   ]
  },
  {
   "cell_type": "code",
   "execution_count": 19,
   "id": "eb877218-2e92-4c47-85eb-4d52904c7345",
   "metadata": {},
   "outputs": [],
   "source": [
    "#split location into city and state columns, remove location column\n",
    "aviation_us['City'] = aviation_us['Location'].str.split(',').str[0]\n",
    "aviation_us['State'] = aviation_us['Location'].str.split(',').str[1]\n",
    "aviation_us= aviation_us.drop(['Location'], axis =1)"
   ]
  },
  {
   "cell_type": "code",
   "execution_count": 20,
   "id": "784b0839-86cb-4aae-bb0d-c7ff23da3af8",
   "metadata": {},
   "outputs": [
    {
     "data": {
      "text/plain": [
       "ANCHORAGE       434\n",
       "MIAMI           206\n",
       "HOUSTON         202\n",
       "ALBUQUERQUE     196\n",
       "CHICAGO         184\n",
       "FAIRBANKS       174\n",
       "JACKSONVILLE    159\n",
       "TUCSON          142\n",
       "COLUMBUS        140\n",
       "ENGLEWOOD       139\n",
       "Name: City, dtype: int64"
      ]
     },
     "execution_count": 20,
     "metadata": {},
     "output_type": "execute_result"
    }
   ],
   "source": [
    "aviation_us['City'].value_counts().head(10)"
   ]
  },
  {
   "cell_type": "code",
   "execution_count": 21,
   "id": "4de4503b-0497-423d-b225-3cbdbb412b0f",
   "metadata": {},
   "outputs": [
    {
     "data": {
      "text/plain": [
       " CA    8857\n",
       " TX    5913\n",
       " FL    5825\n",
       " AK    5672\n",
       " AZ    2834\n",
       " CO    2726\n",
       " WA    2611\n",
       " IL    2060\n",
       " MI    2030\n",
       " GA    2023\n",
       "Name: State, dtype: int64"
      ]
     },
     "execution_count": 21,
     "metadata": {},
     "output_type": "execute_result"
    }
   ],
   "source": [
    "aviation_us['State'].value_counts().head(10)"
   ]
  },
  {
   "cell_type": "code",
   "execution_count": 22,
   "id": "e12f2fc9-33bc-408a-aebc-2b168eb072dc",
   "metadata": {},
   "outputs": [
    {
     "data": {
      "text/plain": [
       "(82248, 17)"
      ]
     },
     "execution_count": 22,
     "metadata": {},
     "output_type": "execute_result"
    }
   ],
   "source": [
    "aviation_us.shape"
   ]
  },
  {
   "cell_type": "code",
   "execution_count": 23,
   "id": "cf9f7023-86fb-4763-ab9e-e5650a31c137",
   "metadata": {},
   "outputs": [
    {
     "data": {
      "text/plain": [
       "Event.Date                 0.000000\n",
       "Make                       0.000255\n",
       "Model                      0.000462\n",
       "Number.of.Engines          0.022797\n",
       "Purpose.of.flight          0.029533\n",
       "Total.Fatal.Injuries       0.129535\n",
       "Total.Serious.Injuries     0.138301\n",
       "Total.Minor.Injuries       0.130447\n",
       "Total.Uninjured            0.060853\n",
       "Weather.Condition          0.007842\n",
       "Report.Status              0.031745\n",
       "Year                       0.000000\n",
       "Month                      0.000000\n",
       "Injury.Severity.Type       0.001313\n",
       "Total.Reported.Injuries    0.000000\n",
       "City                       0.000134\n",
       "State                      0.000134\n",
       "dtype: float64"
      ]
     },
     "execution_count": 23,
     "metadata": {},
     "output_type": "execute_result"
    }
   ],
   "source": [
    "#Check for % null variables by column \n",
    "aviation_us.isna().sum()/82248"
   ]
  },
  {
   "cell_type": "code",
   "execution_count": 24,
   "id": "25d29912-b881-4e94-a35d-2537b09b8c13",
   "metadata": {},
   "outputs": [],
   "source": [
    "#finish cleaning aviation_us dataframe \n",
    "aviation_us.dropna(subset=['City'], inplace=True)\n",
    "aviation_us.dropna(subset=['State'], inplace=True)\n",
    "aviation_us.dropna(subset=['Injury.Severity.Type'], inplace=True)\n",
    "aviation_us.dropna(subset=['Make'], inplace=True)\n",
    "aviation_us.dropna(subset=['Model'], inplace=True)\n",
    "aviation_us.dropna(subset=['Number.of.Engines'],inplace=True)\n",
    "aviation_us.dropna(subset=['Purpose.of.flight'], inplace=True)\n",
    "aviation_us.dropna(subset=['Total.Fatal.Injuries'], inplace=True)\n",
    "aviation_us.dropna(subset=['Total.Serious.Injuries'], inplace=True)\n",
    "aviation_us.dropna(subset=['Total.Minor.Injuries'], inplace=True)\n",
    "aviation_us.dropna(subset=['Total.Uninjured'], inplace=True)\n",
    "aviation_us.dropna(subset=['Weather.Condition'], inplace=True)\n",
    "aviation_us.dropna(subset=['Report.Status'], inplace=True)"
   ]
  },
  {
   "cell_type": "code",
   "execution_count": 25,
   "id": "b27f1b51-1b60-42d5-85ba-4c6069b8ae9a",
   "metadata": {},
   "outputs": [
    {
     "name": "stdout",
     "output_type": "stream",
     "text": [
      "<class 'pandas.core.frame.DataFrame'>\n",
      "RangeIndex: 63898 entries, 0 to 63897\n",
      "Data columns (total 17 columns):\n",
      " #   Column                   Non-Null Count  Dtype         \n",
      "---  ------                   --------------  -----         \n",
      " 0   Event.Date               63898 non-null  datetime64[ns]\n",
      " 1   Make                     63898 non-null  object        \n",
      " 2   Model                    63898 non-null  object        \n",
      " 3   Number.of.Engines        63898 non-null  float64       \n",
      " 4   Purpose.of.flight        63898 non-null  object        \n",
      " 5   Total.Fatal.Injuries     63898 non-null  float64       \n",
      " 6   Total.Serious.Injuries   63898 non-null  float64       \n",
      " 7   Total.Minor.Injuries     63898 non-null  float64       \n",
      " 8   Total.Uninjured          63898 non-null  float64       \n",
      " 9   Weather.Condition        63898 non-null  object        \n",
      " 10  Report.Status            63898 non-null  object        \n",
      " 11  Year                     63898 non-null  float64       \n",
      " 12  Month                    63898 non-null  object        \n",
      " 13  Injury.Severity.Type     63898 non-null  object        \n",
      " 14  Total.Reported.Injuries  63898 non-null  float64       \n",
      " 15  City                     63898 non-null  object        \n",
      " 16  State                    63898 non-null  object        \n",
      "dtypes: datetime64[ns](1), float64(7), object(9)\n",
      "memory usage: 8.3+ MB\n"
     ]
    }
   ],
   "source": [
    "aviation_us.reset_index(drop= True, inplace= True)\n",
    "aviation_us.info()"
   ]
  },
  {
   "cell_type": "code",
   "execution_count": 26,
   "id": "2d59c699-ad67-4c60-9f0c-33a63acddc2c",
   "metadata": {},
   "outputs": [],
   "source": [
    "#save aviation_us to csv\n",
    "# aviation_us.to_csv('data/aviation_us.csv', index= False)"
   ]
  },
  {
   "cell_type": "code",
   "execution_count": 27,
   "id": "e872d31b-4231-4678-9da8-358252ee7d3f",
   "metadata": {},
   "outputs": [],
   "source": [
    "# Want to see some specifics first about accidents related to skydiving which we'll look further into with the full data set\n",
    "# skydiving specific dataframe\n",
    "# using the aviation1 df because while cleaning the aviation_us df, too many skydiving specific accidents were dropped\n",
    "skydiving = aviation1[aviation1['Purpose.of.flight'] == 'Skydiving']\n",
    "skydiving =skydiving.drop(['Purpose.of.flight'], axis= 1)\n",
    "\n",
    "#reset the index\n",
    "skydiving.reset_index(drop= True, inplace=True)"
   ]
  },
  {
   "cell_type": "code",
   "execution_count": 28,
   "id": "1ea9e19d-725e-4dcd-a58c-344f3cacf380",
   "metadata": {},
   "outputs": [],
   "source": [
    "skydiving= skydiving[skydiving['Country'] == 'United States']\n",
    "skydiving= skydiving.drop(['Country'], axis =1) \n",
    "skydiving.reset_index(drop= True, inplace=True)\n",
    "\n",
    "skydiving['City'] = skydiving['Location'].str.split(',').str[0]\n",
    "skydiving['State'] = skydiving['Location'].str.split(',').str[1]\n",
    "skydiving= skydiving.drop(['Location'], axis =1)"
   ]
  },
  {
   "cell_type": "code",
   "execution_count": 29,
   "id": "e5b9a245-c97b-4956-ac6c-e744719b7434",
   "metadata": {},
   "outputs": [
    {
     "data": {
      "text/html": [
       "<div>\n",
       "<style scoped>\n",
       "    .dataframe tbody tr th:only-of-type {\n",
       "        vertical-align: middle;\n",
       "    }\n",
       "\n",
       "    .dataframe tbody tr th {\n",
       "        vertical-align: top;\n",
       "    }\n",
       "\n",
       "    .dataframe thead th {\n",
       "        text-align: right;\n",
       "    }\n",
       "</style>\n",
       "<table border=\"1\" class=\"dataframe\">\n",
       "  <thead>\n",
       "    <tr style=\"text-align: right;\">\n",
       "      <th></th>\n",
       "      <th>Event.Date</th>\n",
       "      <th>Make</th>\n",
       "      <th>Model</th>\n",
       "      <th>Number.of.Engines</th>\n",
       "      <th>Total.Fatal.Injuries</th>\n",
       "      <th>Total.Serious.Injuries</th>\n",
       "      <th>Total.Minor.Injuries</th>\n",
       "      <th>Total.Uninjured</th>\n",
       "      <th>Weather.Condition</th>\n",
       "      <th>Report.Status</th>\n",
       "      <th>Year</th>\n",
       "      <th>Month</th>\n",
       "      <th>Injury.Severity.Type</th>\n",
       "      <th>Total.Reported.Injuries</th>\n",
       "      <th>City</th>\n",
       "      <th>State</th>\n",
       "    </tr>\n",
       "  </thead>\n",
       "  <tbody>\n",
       "    <tr>\n",
       "      <th>0</th>\n",
       "      <td>1982-07-25</td>\n",
       "      <td>Cessna</td>\n",
       "      <td>182</td>\n",
       "      <td>1.0</td>\n",
       "      <td>4.0</td>\n",
       "      <td>1.0</td>\n",
       "      <td>NaN</td>\n",
       "      <td>NaN</td>\n",
       "      <td>VMC</td>\n",
       "      <td>Probable Cause</td>\n",
       "      <td>1982.0</td>\n",
       "      <td>July</td>\n",
       "      <td>Fatal</td>\n",
       "      <td>5.0</td>\n",
       "      <td>LOUISBURG</td>\n",
       "      <td>NC</td>\n",
       "    </tr>\n",
       "    <tr>\n",
       "      <th>1</th>\n",
       "      <td>1982-10-17</td>\n",
       "      <td>Beech</td>\n",
       "      <td>C-45</td>\n",
       "      <td>2.0</td>\n",
       "      <td>14.0</td>\n",
       "      <td>NaN</td>\n",
       "      <td>NaN</td>\n",
       "      <td>NaN</td>\n",
       "      <td>VMC</td>\n",
       "      <td>Probable Cause</td>\n",
       "      <td>1982.0</td>\n",
       "      <td>October</td>\n",
       "      <td>Fatal</td>\n",
       "      <td>14.0</td>\n",
       "      <td>TAFT</td>\n",
       "      <td>CA</td>\n",
       "    </tr>\n",
       "    <tr>\n",
       "      <th>2</th>\n",
       "      <td>1983-04-02</td>\n",
       "      <td>De Havilland</td>\n",
       "      <td>DHC-6</td>\n",
       "      <td>2.0</td>\n",
       "      <td>1.0</td>\n",
       "      <td>NaN</td>\n",
       "      <td>NaN</td>\n",
       "      <td>4.0</td>\n",
       "      <td>VMC</td>\n",
       "      <td>Probable Cause</td>\n",
       "      <td>1983.0</td>\n",
       "      <td>April</td>\n",
       "      <td>Fatal</td>\n",
       "      <td>5.0</td>\n",
       "      <td>MCKINNEY</td>\n",
       "      <td>TX</td>\n",
       "    </tr>\n",
       "    <tr>\n",
       "      <th>3</th>\n",
       "      <td>1983-08-21</td>\n",
       "      <td>Lockheed</td>\n",
       "      <td>LEARSTAR, L-18-56</td>\n",
       "      <td>2.0</td>\n",
       "      <td>11.0</td>\n",
       "      <td>2.0</td>\n",
       "      <td>NaN</td>\n",
       "      <td>13.0</td>\n",
       "      <td>VMC</td>\n",
       "      <td>Probable Cause</td>\n",
       "      <td>1983.0</td>\n",
       "      <td>August</td>\n",
       "      <td>Fatal</td>\n",
       "      <td>26.0</td>\n",
       "      <td>SILVANA</td>\n",
       "      <td>WA</td>\n",
       "    </tr>\n",
       "    <tr>\n",
       "      <th>4</th>\n",
       "      <td>1984-12-30</td>\n",
       "      <td>Cessna</td>\n",
       "      <td>182</td>\n",
       "      <td>1.0</td>\n",
       "      <td>1.0</td>\n",
       "      <td>NaN</td>\n",
       "      <td>NaN</td>\n",
       "      <td>NaN</td>\n",
       "      <td>VMC</td>\n",
       "      <td>Probable Cause</td>\n",
       "      <td>1984.0</td>\n",
       "      <td>December</td>\n",
       "      <td>Fatal</td>\n",
       "      <td>1.0</td>\n",
       "      <td>DUBLIN</td>\n",
       "      <td>VA</td>\n",
       "    </tr>\n",
       "  </tbody>\n",
       "</table>\n",
       "</div>"
      ],
      "text/plain": [
       "  Event.Date          Make              Model  Number.of.Engines  \\\n",
       "0 1982-07-25        Cessna                182                1.0   \n",
       "1 1982-10-17         Beech               C-45                2.0   \n",
       "2 1983-04-02  De Havilland              DHC-6                2.0   \n",
       "3 1983-08-21      Lockheed  LEARSTAR, L-18-56                2.0   \n",
       "4 1984-12-30        Cessna                182                1.0   \n",
       "\n",
       "   Total.Fatal.Injuries  Total.Serious.Injuries  Total.Minor.Injuries  \\\n",
       "0                   4.0                     1.0                   NaN   \n",
       "1                  14.0                     NaN                   NaN   \n",
       "2                   1.0                     NaN                   NaN   \n",
       "3                  11.0                     2.0                   NaN   \n",
       "4                   1.0                     NaN                   NaN   \n",
       "\n",
       "   Total.Uninjured Weather.Condition   Report.Status    Year     Month  \\\n",
       "0              NaN               VMC  Probable Cause  1982.0      July   \n",
       "1              NaN               VMC  Probable Cause  1982.0   October   \n",
       "2              4.0               VMC  Probable Cause  1983.0     April   \n",
       "3             13.0               VMC  Probable Cause  1983.0    August   \n",
       "4              NaN               VMC  Probable Cause  1984.0  December   \n",
       "\n",
       "  Injury.Severity.Type  Total.Reported.Injuries       City State  \n",
       "0                Fatal                      5.0  LOUISBURG    NC  \n",
       "1                Fatal                     14.0       TAFT    CA  \n",
       "2                Fatal                      5.0   MCKINNEY    TX  \n",
       "3                Fatal                     26.0    SILVANA    WA  \n",
       "4                Fatal                      1.0     DUBLIN    VA  "
      ]
     },
     "execution_count": 29,
     "metadata": {},
     "output_type": "execute_result"
    }
   ],
   "source": [
    "skydiving.head()"
   ]
  },
  {
   "cell_type": "code",
   "execution_count": 30,
   "id": "6c97d462-850e-4702-90e2-a97cdbb6b649",
   "metadata": {},
   "outputs": [
    {
     "name": "stdout",
     "output_type": "stream",
     "text": [
      "<class 'pandas.core.frame.DataFrame'>\n",
      "RangeIndex: 171 entries, 0 to 170\n",
      "Data columns (total 16 columns):\n",
      " #   Column                   Non-Null Count  Dtype         \n",
      "---  ------                   --------------  -----         \n",
      " 0   Event.Date               171 non-null    datetime64[ns]\n",
      " 1   Make                     171 non-null    object        \n",
      " 2   Model                    171 non-null    object        \n",
      " 3   Number.of.Engines        171 non-null    float64       \n",
      " 4   Total.Fatal.Injuries     141 non-null    float64       \n",
      " 5   Total.Serious.Injuries   121 non-null    float64       \n",
      " 6   Total.Minor.Injuries     117 non-null    float64       \n",
      " 7   Total.Uninjured          135 non-null    float64       \n",
      " 8   Weather.Condition        171 non-null    object        \n",
      " 9   Report.Status            165 non-null    object        \n",
      " 10  Year                     171 non-null    float64       \n",
      " 11  Month                    171 non-null    object        \n",
      " 12  Injury.Severity.Type     171 non-null    object        \n",
      " 13  Total.Reported.Injuries  171 non-null    float64       \n",
      " 14  City                     171 non-null    object        \n",
      " 15  State                    171 non-null    object        \n",
      "dtypes: datetime64[ns](1), float64(7), object(8)\n",
      "memory usage: 21.5+ KB\n"
     ]
    }
   ],
   "source": [
    "skydiving.info()"
   ]
  },
  {
   "cell_type": "code",
   "execution_count": 31,
   "id": "b5da4f9f-8c42-4839-ba7f-3373076846c2",
   "metadata": {},
   "outputs": [
    {
     "data": {
      "text/plain": [
       "Cessna                        126\n",
       "Beech                          18\n",
       "De Havilland                   16\n",
       "Pacific Aerospace Corp Ltd      3\n",
       "Lockheed                        2\n",
       "Pilatus                         2\n",
       "Helio                           1\n",
       "Boeing                          1\n",
       "C A S A                         1\n",
       "Firefly Balloons Inc            1\n",
       "Name: Make, dtype: int64"
      ]
     },
     "execution_count": 31,
     "metadata": {},
     "output_type": "execute_result"
    }
   ],
   "source": [
    "skydiving['Make'].value_counts()"
   ]
  },
  {
   "cell_type": "code",
   "execution_count": 32,
   "id": "8a9b3bc6-df29-45bb-afd2-80f68142e13c",
   "metadata": {},
   "outputs": [
    {
     "data": {
      "text/plain": [
       "182      84\n",
       "208      15\n",
       "P206      7\n",
       "DHC-6     5\n",
       "U206      4\n",
       "B90       4\n",
       "Name: Model, dtype: int64"
      ]
     },
     "execution_count": 32,
     "metadata": {},
     "output_type": "execute_result"
    }
   ],
   "source": [
    "skydiving['Model'].value_counts().head(6)"
   ]
  },
  {
   "cell_type": "code",
   "execution_count": 33,
   "id": "aec5ce1c-65a2-4025-a598-0dd341171baa",
   "metadata": {},
   "outputs": [
    {
     "data": {
      "text/html": [
       "<div>\n",
       "<style scoped>\n",
       "    .dataframe tbody tr th:only-of-type {\n",
       "        vertical-align: middle;\n",
       "    }\n",
       "\n",
       "    .dataframe tbody tr th {\n",
       "        vertical-align: top;\n",
       "    }\n",
       "\n",
       "    .dataframe thead th {\n",
       "        text-align: right;\n",
       "    }\n",
       "</style>\n",
       "<table border=\"1\" class=\"dataframe\">\n",
       "  <thead>\n",
       "    <tr style=\"text-align: right;\">\n",
       "      <th></th>\n",
       "      <th>Event.Date</th>\n",
       "      <th>Make</th>\n",
       "      <th>Model</th>\n",
       "      <th>Number.of.Engines</th>\n",
       "      <th>Purpose.of.flight</th>\n",
       "      <th>Total.Fatal.Injuries</th>\n",
       "      <th>Total.Serious.Injuries</th>\n",
       "      <th>Total.Minor.Injuries</th>\n",
       "      <th>Total.Uninjured</th>\n",
       "      <th>Weather.Condition</th>\n",
       "      <th>Report.Status</th>\n",
       "      <th>Year</th>\n",
       "      <th>Month</th>\n",
       "      <th>Injury.Severity.Type</th>\n",
       "      <th>Total.Reported.Injuries</th>\n",
       "      <th>City</th>\n",
       "      <th>State</th>\n",
       "    </tr>\n",
       "  </thead>\n",
       "  <tbody>\n",
       "    <tr>\n",
       "      <th>0</th>\n",
       "      <td>1981-08-01</td>\n",
       "      <td>Cessna</td>\n",
       "      <td>180</td>\n",
       "      <td>1.0</td>\n",
       "      <td>Personal</td>\n",
       "      <td>4.0</td>\n",
       "      <td>0.0</td>\n",
       "      <td>0.0</td>\n",
       "      <td>0.0</td>\n",
       "      <td>IMC</td>\n",
       "      <td>Probable Cause</td>\n",
       "      <td>1981.0</td>\n",
       "      <td>August</td>\n",
       "      <td>Fatal</td>\n",
       "      <td>4.0</td>\n",
       "      <td>COTTON</td>\n",
       "      <td>MN</td>\n",
       "    </tr>\n",
       "    <tr>\n",
       "      <th>1</th>\n",
       "      <td>1982-01-01</td>\n",
       "      <td>Cessna</td>\n",
       "      <td>140</td>\n",
       "      <td>1.0</td>\n",
       "      <td>Personal</td>\n",
       "      <td>0.0</td>\n",
       "      <td>0.0</td>\n",
       "      <td>0.0</td>\n",
       "      <td>2.0</td>\n",
       "      <td>VMC</td>\n",
       "      <td>Probable Cause</td>\n",
       "      <td>1982.0</td>\n",
       "      <td>January</td>\n",
       "      <td>Non-Fatal</td>\n",
       "      <td>2.0</td>\n",
       "      <td>PULLMAN</td>\n",
       "      <td>WA</td>\n",
       "    </tr>\n",
       "    <tr>\n",
       "      <th>2</th>\n",
       "      <td>1982-01-01</td>\n",
       "      <td>Cessna</td>\n",
       "      <td>401</td>\n",
       "      <td>2.0</td>\n",
       "      <td>Business</td>\n",
       "      <td>0.0</td>\n",
       "      <td>0.0</td>\n",
       "      <td>0.0</td>\n",
       "      <td>2.0</td>\n",
       "      <td>IMC</td>\n",
       "      <td>Probable Cause</td>\n",
       "      <td>1982.0</td>\n",
       "      <td>January</td>\n",
       "      <td>Non-Fatal</td>\n",
       "      <td>2.0</td>\n",
       "      <td>EAST HANOVER</td>\n",
       "      <td>NJ</td>\n",
       "    </tr>\n",
       "    <tr>\n",
       "      <th>3</th>\n",
       "      <td>1982-01-02</td>\n",
       "      <td>Cessna</td>\n",
       "      <td>R172</td>\n",
       "      <td>1.0</td>\n",
       "      <td>Personal</td>\n",
       "      <td>1.0</td>\n",
       "      <td>0.0</td>\n",
       "      <td>0.0</td>\n",
       "      <td>0.0</td>\n",
       "      <td>IMC</td>\n",
       "      <td>Probable Cause</td>\n",
       "      <td>1982.0</td>\n",
       "      <td>January</td>\n",
       "      <td>Fatal</td>\n",
       "      <td>1.0</td>\n",
       "      <td>HEARNE</td>\n",
       "      <td>TX</td>\n",
       "    </tr>\n",
       "    <tr>\n",
       "      <th>4</th>\n",
       "      <td>1982-01-02</td>\n",
       "      <td>Cessna</td>\n",
       "      <td>180</td>\n",
       "      <td>1.0</td>\n",
       "      <td>Personal</td>\n",
       "      <td>3.0</td>\n",
       "      <td>0.0</td>\n",
       "      <td>0.0</td>\n",
       "      <td>0.0</td>\n",
       "      <td>VMC</td>\n",
       "      <td>Probable Cause</td>\n",
       "      <td>1982.0</td>\n",
       "      <td>January</td>\n",
       "      <td>Fatal</td>\n",
       "      <td>3.0</td>\n",
       "      <td>SKWENTA</td>\n",
       "      <td>AK</td>\n",
       "    </tr>\n",
       "  </tbody>\n",
       "</table>\n",
       "</div>"
      ],
      "text/plain": [
       "  Event.Date    Make Model  Number.of.Engines Purpose.of.flight  \\\n",
       "0 1981-08-01  Cessna   180                1.0          Personal   \n",
       "1 1982-01-01  Cessna   140                1.0          Personal   \n",
       "2 1982-01-01  Cessna   401                2.0          Business   \n",
       "3 1982-01-02  Cessna  R172                1.0          Personal   \n",
       "4 1982-01-02  Cessna   180                1.0          Personal   \n",
       "\n",
       "   Total.Fatal.Injuries  Total.Serious.Injuries  Total.Minor.Injuries  \\\n",
       "0                   4.0                     0.0                   0.0   \n",
       "1                   0.0                     0.0                   0.0   \n",
       "2                   0.0                     0.0                   0.0   \n",
       "3                   1.0                     0.0                   0.0   \n",
       "4                   3.0                     0.0                   0.0   \n",
       "\n",
       "   Total.Uninjured Weather.Condition   Report.Status    Year    Month  \\\n",
       "0              0.0               IMC  Probable Cause  1981.0   August   \n",
       "1              2.0               VMC  Probable Cause  1982.0  January   \n",
       "2              2.0               IMC  Probable Cause  1982.0  January   \n",
       "3              0.0               IMC  Probable Cause  1982.0  January   \n",
       "4              0.0               VMC  Probable Cause  1982.0  January   \n",
       "\n",
       "  Injury.Severity.Type  Total.Reported.Injuries          City State  \n",
       "0                Fatal                      4.0        COTTON    MN  \n",
       "1            Non-Fatal                      2.0       PULLMAN    WA  \n",
       "2            Non-Fatal                      2.0  EAST HANOVER    NJ  \n",
       "3                Fatal                      1.0        HEARNE    TX  \n",
       "4                Fatal                      3.0       SKWENTA    AK  "
      ]
     },
     "execution_count": 33,
     "metadata": {},
     "output_type": "execute_result"
    }
   ],
   "source": [
    "#Cessna dataframe\n",
    "cessna= aviation_us[aviation_us['Make'].isin(['Cessna'])]\n",
    "cessna.reset_index(drop= True, inplace=True)\n",
    "cessna.head()"
   ]
  },
  {
   "cell_type": "code",
   "execution_count": 34,
   "id": "fbeb6630-88b8-407b-89fb-f9afbbce8930",
   "metadata": {},
   "outputs": [
    {
     "data": {
      "text/html": [
       "<div>\n",
       "<style scoped>\n",
       "    .dataframe tbody tr th:only-of-type {\n",
       "        vertical-align: middle;\n",
       "    }\n",
       "\n",
       "    .dataframe tbody tr th {\n",
       "        vertical-align: top;\n",
       "    }\n",
       "\n",
       "    .dataframe thead th {\n",
       "        text-align: right;\n",
       "    }\n",
       "</style>\n",
       "<table border=\"1\" class=\"dataframe\">\n",
       "  <thead>\n",
       "    <tr style=\"text-align: right;\">\n",
       "      <th></th>\n",
       "      <th>Event.Date</th>\n",
       "      <th>Make</th>\n",
       "      <th>Model</th>\n",
       "      <th>Number.of.Engines</th>\n",
       "      <th>Purpose.of.flight</th>\n",
       "      <th>Total.Fatal.Injuries</th>\n",
       "      <th>Total.Serious.Injuries</th>\n",
       "      <th>Total.Minor.Injuries</th>\n",
       "      <th>Total.Uninjured</th>\n",
       "      <th>Weather.Condition</th>\n",
       "      <th>Report.Status</th>\n",
       "      <th>Year</th>\n",
       "      <th>Month</th>\n",
       "      <th>Injury.Severity.Type</th>\n",
       "      <th>Total.Reported.Injuries</th>\n",
       "      <th>City</th>\n",
       "      <th>State</th>\n",
       "    </tr>\n",
       "  </thead>\n",
       "  <tbody>\n",
       "    <tr>\n",
       "      <th>0</th>\n",
       "      <td>1982-01-01</td>\n",
       "      <td>Beech</td>\n",
       "      <td>V35</td>\n",
       "      <td>1.0</td>\n",
       "      <td>Personal</td>\n",
       "      <td>0.0</td>\n",
       "      <td>0.0</td>\n",
       "      <td>0.0</td>\n",
       "      <td>1.0</td>\n",
       "      <td>VMC</td>\n",
       "      <td>Probable Cause</td>\n",
       "      <td>1982.0</td>\n",
       "      <td>January</td>\n",
       "      <td>Non-Fatal</td>\n",
       "      <td>1.0</td>\n",
       "      <td>TUSKEGEE</td>\n",
       "      <td>AL</td>\n",
       "    </tr>\n",
       "    <tr>\n",
       "      <th>1</th>\n",
       "      <td>1982-01-02</td>\n",
       "      <td>Beech</td>\n",
       "      <td>19</td>\n",
       "      <td>1.0</td>\n",
       "      <td>Personal</td>\n",
       "      <td>2.0</td>\n",
       "      <td>0.0</td>\n",
       "      <td>0.0</td>\n",
       "      <td>0.0</td>\n",
       "      <td>IMC</td>\n",
       "      <td>Probable Cause</td>\n",
       "      <td>1982.0</td>\n",
       "      <td>January</td>\n",
       "      <td>Fatal</td>\n",
       "      <td>2.0</td>\n",
       "      <td>LITTLE ROCK</td>\n",
       "      <td>AR</td>\n",
       "    </tr>\n",
       "    <tr>\n",
       "      <th>2</th>\n",
       "      <td>1982-01-06</td>\n",
       "      <td>Beech</td>\n",
       "      <td>35</td>\n",
       "      <td>1.0</td>\n",
       "      <td>Personal</td>\n",
       "      <td>0.0</td>\n",
       "      <td>0.0</td>\n",
       "      <td>0.0</td>\n",
       "      <td>3.0</td>\n",
       "      <td>VMC</td>\n",
       "      <td>Probable Cause</td>\n",
       "      <td>1982.0</td>\n",
       "      <td>January</td>\n",
       "      <td>Non-Fatal</td>\n",
       "      <td>3.0</td>\n",
       "      <td>JACKSON</td>\n",
       "      <td>WY</td>\n",
       "    </tr>\n",
       "    <tr>\n",
       "      <th>3</th>\n",
       "      <td>1982-01-07</td>\n",
       "      <td>Beech</td>\n",
       "      <td>V35</td>\n",
       "      <td>1.0</td>\n",
       "      <td>Personal</td>\n",
       "      <td>0.0</td>\n",
       "      <td>0.0</td>\n",
       "      <td>0.0</td>\n",
       "      <td>1.0</td>\n",
       "      <td>VMC</td>\n",
       "      <td>Probable Cause</td>\n",
       "      <td>1982.0</td>\n",
       "      <td>January</td>\n",
       "      <td>Non-Fatal</td>\n",
       "      <td>1.0</td>\n",
       "      <td>WESTMINISTER</td>\n",
       "      <td>MD</td>\n",
       "    </tr>\n",
       "    <tr>\n",
       "      <th>4</th>\n",
       "      <td>1982-01-12</td>\n",
       "      <td>Beech</td>\n",
       "      <td>P35</td>\n",
       "      <td>1.0</td>\n",
       "      <td>Personal</td>\n",
       "      <td>0.0</td>\n",
       "      <td>1.0</td>\n",
       "      <td>0.0</td>\n",
       "      <td>1.0</td>\n",
       "      <td>IMC</td>\n",
       "      <td>Probable Cause</td>\n",
       "      <td>1982.0</td>\n",
       "      <td>January</td>\n",
       "      <td>Non-Fatal</td>\n",
       "      <td>2.0</td>\n",
       "      <td>ADDISON</td>\n",
       "      <td>TX</td>\n",
       "    </tr>\n",
       "  </tbody>\n",
       "</table>\n",
       "</div>"
      ],
      "text/plain": [
       "  Event.Date   Make Model  Number.of.Engines Purpose.of.flight  \\\n",
       "0 1982-01-01  Beech   V35                1.0          Personal   \n",
       "1 1982-01-02  Beech    19                1.0          Personal   \n",
       "2 1982-01-06  Beech    35                1.0          Personal   \n",
       "3 1982-01-07  Beech   V35                1.0          Personal   \n",
       "4 1982-01-12  Beech   P35                1.0          Personal   \n",
       "\n",
       "   Total.Fatal.Injuries  Total.Serious.Injuries  Total.Minor.Injuries  \\\n",
       "0                   0.0                     0.0                   0.0   \n",
       "1                   2.0                     0.0                   0.0   \n",
       "2                   0.0                     0.0                   0.0   \n",
       "3                   0.0                     0.0                   0.0   \n",
       "4                   0.0                     1.0                   0.0   \n",
       "\n",
       "   Total.Uninjured Weather.Condition   Report.Status    Year    Month  \\\n",
       "0              1.0               VMC  Probable Cause  1982.0  January   \n",
       "1              0.0               IMC  Probable Cause  1982.0  January   \n",
       "2              3.0               VMC  Probable Cause  1982.0  January   \n",
       "3              1.0               VMC  Probable Cause  1982.0  January   \n",
       "4              1.0               IMC  Probable Cause  1982.0  January   \n",
       "\n",
       "  Injury.Severity.Type  Total.Reported.Injuries          City State  \n",
       "0            Non-Fatal                      1.0      TUSKEGEE    AL  \n",
       "1                Fatal                      2.0   LITTLE ROCK    AR  \n",
       "2            Non-Fatal                      3.0       JACKSON    WY  \n",
       "3            Non-Fatal                      1.0  WESTMINISTER    MD  \n",
       "4            Non-Fatal                      2.0       ADDISON    TX  "
      ]
     },
     "execution_count": 34,
     "metadata": {},
     "output_type": "execute_result"
    }
   ],
   "source": [
    "#Beech dataframe\n",
    "beech= aviation_us[aviation_us['Make'].isin(['Beech'])]\n",
    "beech.reset_index(drop= True, inplace= True)\n",
    "beech.head()"
   ]
  },
  {
   "cell_type": "code",
   "execution_count": 35,
   "id": "bb14c1fc-5129-488b-a225-0578d3895142",
   "metadata": {},
   "outputs": [],
   "source": [
    "cessna = cessna[cessna['Number.of.Engines'] != 0.0]\n",
    "cessna = cessna[cessna['Number.of.Engines'] != 4.0]"
   ]
  },
  {
   "cell_type": "code",
   "execution_count": 36,
   "id": "688f045b-fc95-4108-9ad7-15fa22f924c2",
   "metadata": {},
   "outputs": [
    {
     "name": "stderr",
     "output_type": "stream",
     "text": [
      "<ipython-input-36-6b42d0b36f71>:1: FutureWarning: Indexing with multiple keys (implicitly converted to a tuple of keys) will be deprecated, use a list instead.\n",
      "  grouped_cessna= cessna.groupby(['Number.of.Engines'])['Total.Fatal.Injuries', 'Total.Uninjured']\n"
     ]
    },
    {
     "data": {
      "image/png": "[encoded data removed]",
      "text/plain": [
       "<Figure size 432x288 with 1 Axes>"
      ]
     },
     "metadata": {
      "needs_background": "light"
     },
     "output_type": "display_data"
    }
   ],
   "source": [
    "grouped_cessna= cessna.groupby(['Number.of.Engines'])['Total.Fatal.Injuries', 'Total.Uninjured']\n",
    "agg_grouped_cessna= grouped_cessna.sum()\n",
    "agg_grouped_cessna.plot(kind='bar')\n",
    "plt.show()"
   ]
  },
  {
   "cell_type": "code",
   "execution_count": 37,
   "id": "bed55545-cc98-4b07-868d-74b374f85c6b",
   "metadata": {},
   "outputs": [],
   "source": [
    "beech= beech[beech['Number.of.Engines'] != 0.0]"
   ]
  },
  {
   "cell_type": "code",
   "execution_count": 38,
   "id": "1c1c3441-5c30-4414-8147-1368a3a0e993",
   "metadata": {},
   "outputs": [
    {
     "name": "stderr",
     "output_type": "stream",
     "text": [
      "<ipython-input-38-f049d80458e3>:1: FutureWarning: Indexing with multiple keys (implicitly converted to a tuple of keys) will be deprecated, use a list instead.\n",
      "  grouped_beech= beech.groupby(['Number.of.Engines'])['Total.Fatal.Injuries', 'Total.Uninjured']\n"
     ]
    },
    {
     "data": {
      "image/png": "[encoded data removed]",
      "text/plain": [
       "<Figure size 432x288 with 1 Axes>"
      ]
     },
     "metadata": {
      "needs_background": "light"
     },
     "output_type": "display_data"
    }
   ],
   "source": [
    "grouped_beech= beech.groupby(['Number.of.Engines'])['Total.Fatal.Injuries', 'Total.Uninjured']\n",
    "agg_grouped_beech= grouped_beech.sum()\n",
    "agg_grouped_beech.plot(kind='bar')\n",
    "plt.show()"
   ]
  },
  {
   "cell_type": "markdown",
   "id": "27addb17-fc25-4e6e-94ba-4fabce507654",
   "metadata": {},
   "source": [
    "# Exploratory Data Analysis"
   ]
  },
  {
   "cell_type": "code",
   "execution_count": 39,
   "id": "750c1220-7f05-49c4-b6aa-e30f222cf6b5",
   "metadata": {},
   "outputs": [
    {
     "data": {
      "image/png": "[encoded data removed]",
      "text/plain": [
       "<Figure size 720x432 with 1 Axes>"
      ]
     },
     "metadata": {
      "needs_background": "light"
     },
     "output_type": "display_data"
    }
   ],
   "source": [
    "accidents_by_year = aviation1.groupby(aviation1['Event.Date'].dt.year).size()\n",
    "fig, ax = plt.subplots(figsize=(10, 6))\n",
    "ax.plot(accidents_by_year)\n",
    "ax.set_xlim(1982, aviation1['Year'].max())\n",
    "ax.set_xlabel(\"Year\")\n",
    "ax.set_ylabel(\"Accident Count\")\n",
    "ax.set_title(\"Total Reported Aviation Accidents by Year\")\n",
    "plt.show()"
   ]
  },
  {
   "cell_type": "code",
   "execution_count": 41,
   "id": "586e1630-04ee-4bbf-8756-0fdce0aea442",
   "metadata": {},
   "outputs": [
    {
     "data": {
      "image/png": "[encoded data removed]",
      "text/plain": [
       "<Figure size 720x432 with 1 Axes>"
      ]
     },
     "metadata": {
      "needs_background": "light"
     },
     "output_type": "display_data"
    }
   ],
   "source": [
    "#Notice after cleaning, Accidents around 2001- 2006 years were dropped\n",
    "accidents_by_year_clean = aviation_us.groupby(aviation_us['Event.Date'].dt.year).size()\n",
    "fig, ax = plt.subplots(figsize=(10, 6))\n",
    "ax.plot(accidents_by_year_clean)\n",
    "ax.set_xlim(1982, aviation1['Year'].max())\n",
    "ax.set_xlabel(\"Year\")\n",
    "ax.set_ylabel(\"Accident Count\")\n",
    "ax.set_title(\"Total Reported Aviation Accidents by Year\")\n",
    "plt.show()"
   ]
  },
  {
   "cell_type": "code",
   "execution_count": 42,
   "id": "8df4e863-c6d1-48d8-9315-abd16b102a93",
   "metadata": {},
   "outputs": [
    {
     "data": {
      "image/png": "[encoded data removed]",
      "text/plain": [
       "<Figure size 720x288 with 1 Axes>"
      ]
     },
     "metadata": {
      "needs_background": "light"
     },
     "output_type": "display_data"
    }
   ],
   "source": [
    "#Create Barchart showing top reported Makes (with specific skydiving purpose of flight)\n",
    "make_ordered = skydiving['Make'].value_counts(ascending=False).index[:5]\n",
    "\n",
    "# Create a figure with a wider aspect ratio\n",
    "fig, ax = plt.subplots(figsize=(10, 4))  # Adjust the width (10) as needed\n",
    "sns.countplot(x='Make', data=skydiving, order= make_ordered)\n",
    "plt.xticks(rotation=45)\n",
    "ax.set_title(\"Top 5 Most Reported Skydiving Accidents by Aircraft Make\")\n",
    "plt.show()\n"
   ]
  },
  {
   "cell_type": "code",
   "execution_count": 43,
   "id": "08a5f448-03fb-44a1-a3a0-a7a3a3fc4386",
   "metadata": {},
   "outputs": [
    {
     "data": {
      "image/png": "[encoded data removed]",
      "text/plain": [
       "<Figure size 720x288 with 1 Axes>"
      ]
     },
     "metadata": {
      "needs_background": "light"
     },
     "output_type": "display_data"
    }
   ],
   "source": [
    "#Create Barchart showing top reported Models (with specific skydiving purpose of flight)\n",
    "model_ordered = skydiving['Model'].value_counts(ascending=False).index[:10]\n",
    "\n",
    "# Create a figure with a wider aspect ratio\n",
    "fig, ax = plt.subplots(figsize=(10, 4))  # Adjust the width (10) as needed\n",
    "sns.countplot(x='Model', data=skydiving, order= model_ordered)\n",
    "plt.xticks(rotation=45)\n",
    "ax.set_title(\"Top 10 Models Reported in Skydiving Aviation Accidents\")\n",
    "plt.show()\n"
   ]
  },
  {
   "cell_type": "code",
   "execution_count": 44,
   "id": "38ff7ee8-46e7-4664-b4bc-b533c6a5ccbd",
   "metadata": {},
   "outputs": [
    {
     "data": {
      "image/png": "[encoded data removed]",
      "text/plain": [
       "<Figure size 720x432 with 2 Axes>"
      ]
     },
     "metadata": {
      "needs_background": "light"
     },
     "output_type": "display_data"
    }
   ],
   "source": [
    "#Create Figure with 2 unstacked Bar charts: Total Fatalities and Total Uninjured by Number of Engine for Cessna and Beech\n",
    "#Create subplots\n",
    "fig, axes = plt.subplots(1, 2, figsize=(10, 6), sharey=True)\n",
    "\n",
    "# Plot the first bar chart\n",
    "agg_grouped_cessna.plot(kind='bar', ax=axes[0])\n",
    "axes[0].set_title('Total Fatality vs Uninjured by # of Engine (Cessna)')\n",
    "axes[0].set_xlabel('Number of Engines')\n",
    "axes[0].set_ylabel('Count')\n",
    "\n",
    "# Plot the second bar chart\n",
    "agg_grouped_beech.plot(kind='bar', ax=axes[1])\n",
    "axes[1].set_title('Total Fatality vs Uninjured by # of Engine (Beech)')\n",
    "axes[1].set_xlabel('Number of Engines')\n",
    "axes[1].set_ylabel('Count')\n",
    "\n",
    "# Adjust the spacing between subplots\n",
    "plt.tight_layout()\n",
    "\n",
    "# Show the plot\n",
    "plt.show()"
   ]
  },
  {
   "cell_type": "code",
   "execution_count": 46,
   "id": "00b6e222-236a-4679-9c66-d809d331df0c",
   "metadata": {},
   "outputs": [
    {
     "name": "stderr",
     "output_type": "stream",
     "text": [
      "/opt/anaconda3/envs/learn-env/lib/python3.8/site-packages/seaborn/_decorators.py:36: FutureWarning: Pass the following variables as keyword args: x, y. From version 0.12, the only valid positional argument will be `data`, and passing other arguments without an explicit keyword will result in an error or misinterpretation.\n",
      "  warnings.warn(\n"
     ]
    },
    {
     "data": {
      "image/png": "[encoded data removed]",
      "text/plain": [
       "<Figure size 432x288 with 1 Axes>"
      ]
     },
     "metadata": {
      "needs_background": "light"
     },
     "output_type": "display_data"
    }
   ],
   "source": [
    "top_cessna_models = cessna['Model'].value_counts(ascending=False).head(10).index \n",
    "\n",
    "# Calculate the fatality rate for each model\n",
    "fatality_rate = (aviation_us.groupby('Model')['Total.Fatal.Injuries'].sum() / aviation_us.groupby('Model')['Total.Reported.Injuries'].sum())*100\n",
    "\n",
    "# Create the bar chart \n",
    "sns.barplot(top_cessna_models, fatality_rate[top_cessna_models]) \n",
    "\n",
    "# Set labels and title\n",
    "plt.xlabel('Cessna Top Reported Models')\n",
    "plt.ylabel('Fatality (%)')\n",
    "plt.title('Fatality Rate by Top Reported Cessna Models') \n",
    "plt.xticks(rotation=45, ha='right')  # Rotate x-axis labels for better readability\n",
    "\n",
    "plt.show()"
   ]
  },
  {
   "cell_type": "code",
   "execution_count": 45,
   "id": "4073c4aa-4754-484e-b14e-1a014157af72",
   "metadata": {},
   "outputs": [
    {
     "name": "stderr",
     "output_type": "stream",
     "text": [
      "/opt/anaconda3/envs/learn-env/lib/python3.8/site-packages/seaborn/_decorators.py:36: FutureWarning: Pass the following variables as keyword args: x, y. From version 0.12, the only valid positional argument will be `data`, and passing other arguments without an explicit keyword will result in an error or misinterpretation.\n",
      "  warnings.warn(\n"
     ]
    },
    {
     "data": {
      "image/png": "[encoded data removed]",
      "text/plain": [
       "<Figure size 432x288 with 1 Axes>"
      ]
     },
     "metadata": {
      "needs_background": "light"
     },
     "output_type": "display_data"
    }
   ],
   "source": [
    "# Assuming your data is stored in a Pandas DataFrame called 'df' \n",
    "# with columns 'model', 'total_fatality', 'total_individuals'\n",
    "\n",
    "# Get the top 5 most common models\n",
    "top_cessna_models = cessna['Model'].value_counts().head(10).index \n",
    "\n",
    "# Calculate the fatality rate for each model\n",
    "fatality_rate = (aviation_us.groupby('Model')['Total.Uninjured'].sum() / aviation_us.groupby('Model')['Total.Reported.Injuries'].sum())*100\n",
    "\n",
    "# Create the bar chart \n",
    "sns.barplot(top_cessna_models, fatality_rate[top_cessna_models]) \n",
    "\n",
    "# Set labels and title\n",
    "plt.xlabel('Model')\n",
    "plt.ylabel('Uninjured (%)')\n",
    "plt.title('Uninjured Rate by Top 10 Reported Cessna Models') \n",
    "plt.xticks(rotation=45, ha='right')  # Rotate x-axis labels for better readability\n",
    "\n",
    "plt.show()"
   ]
  },
  {
   "cell_type": "markdown",
   "id": "d14badf3-ea91-4f96-b2d0-83debb296684",
   "metadata": {},
   "source": [
    "\"Notebook promotes three recommendations for choosing films to produce:\n",
    " - Uses three or more findings from data analyses to support recommendations\n",
    " - Explains why the findings support the recommendations\n",
    " - Explains how the recommendations would help the stakeholder\n"
   ]
  },
  {
   "cell_type": "markdown",
   "id": "fd175f58-176d-4a1a-8f1d-41691794302c",
   "metadata": {},
   "source": [
    "\"Notebook includes three relevant and polished visualizations of findings that:\n",
    " - Help the project stakeholder understand the value or success of the project\n",
    " - Have text and marks to aid reader interpretation, such as graph and axis titles, axis ticks and labels, or legend (varies by visualization type)\n",
    " - Use color, size, and/or location to appropriately facilitate comparisons\n",
    " - Are not cluttered, dense, or illegible\n",
    "\""
   ]
  },
  {
   "cell_type": "markdown",
   "id": "c581a44b-9469-45a5-83d6-d49627188a6a",
   "metadata": {},
   "source": [
    "# Conclusions"
   ]
  },
  {
   "cell_type": "markdown",
   "id": "03f9997e-f24d-46f0-95fd-469cfec1ddc9",
   "metadata": {},
   "source": [
    "## Recommendations"
   ]
  },
  {
   "cell_type": "markdown",
   "id": "d610e40f-dc3c-416d-b091-ab85ecb0b782",
   "metadata": {},
   "source": [
    "\n",
    "Cessna is the top reported make for Skydiving Aircrafts. Cessna models compared to Beech (the second top reported Skydiving Make) are safer. \n",
    "\n",
    "Cessna Aircrafts with 1 engine appear to be the safest choice as compared to Cessna Aircrafts with 2 engines as well as compared to Beech Aircrafts with any number of engines.\n",
    "\n",
    "By comparing Percent of Fatality and Percent of Uninjured, Cessna Models 180 and 170 are safer than other models as their Fatality Rate is lowest and Uninjured Rate is highest.\n"
   ]
  },
  {
   "cell_type": "markdown",
   "id": "2a588152-87ee-449f-8739-b5e2e7759c2e",
   "metadata": {},
   "source": [
    "## Limitations"
   ]
  },
  {
   "cell_type": "markdown",
   "id": "80cc3bc0-bfcd-41bf-a11f-8fbd8fc28ebb",
   "metadata": {},
   "source": [
    "The largest limitation of this data set is that we only have the data for accidents. We don't have the data for when flights occurred where everything went smoothly. This means we cannot say anything like: \"99% of flights of a certain kind of plane occured safely.\" This also makes it difficult to see the whole picture. We assume that certain Aircrafts appear more often because they are more common, not because they are inherently more dangerous."
   ]
  },
  {
   "cell_type": "markdown",
   "id": "68a54e88-0953-4e8f-bb5d-bdc37124b08c",
   "metadata": {},
   "source": [
    "## Next Steps"
   ]
  },
  {
   "cell_type": "markdown",
   "id": "22d1f0e4-1491-4887-9f74-20c5a54d848e",
   "metadata": {},
   "source": [
    "When it comes to aircrafts that will be used for Skydiving, there are many other important features not included in the Aviation Accident Dataset. A few of these that should be considered next include: how fast the aircraft can climb to reach desired elevation for jumping, safety features related to the exit doors, cost of the aircrafts, aircraft speed, and passenger capacity.\n",
    "\n"
   ]
  }
 ],
 "metadata": {
  "kernelspec": {
   "display_name": "Python (learn-env)",
   "language": "python",
   "name": "learn-env"
  },
  "language_info": {
   "codemirror_mode": {
    "name": "ipython",
    "version": 3
   },
   "file_extension": ".py",
   "mimetype": "text/x-python",
   "name": "python",
   "nbconvert_exporter": "python",
   "pygments_lexer": "ipython3",
   "version": "3.8.5"
  }
 },
 "nbformat": 4,
 "nbformat_minor": 5
}
